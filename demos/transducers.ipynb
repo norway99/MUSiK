{
 "cells": [
  {
   "cell_type": "code",
   "execution_count": 1,
   "metadata": {},
   "outputs": [],
   "source": [
    "import sys\n",
    "sys.path.append('../')\n",
    "\n",
    "import numpy as np\n",
    "import scipy\n",
    "import tqdm\n",
    "import utils\n",
    "import geometry\n",
    "from phantom import Phantom\n",
    "from tissue import Tissue\n",
    "from transducer import Transducer, Focused, Planewave\n",
    "from transducer_set import TransducerSet\n",
    "from simulation import SimProperties, Simulation\n",
    "from sensor import Sensor\n",
    "from experiment import Experiment\n",
    "from reconstruction import Reconstruction\n",
    "\n",
    "import matplotlib.pyplot as plt\n",
    "\n",
    "import kwave\n",
    "import glob\n",
    "import plotly.express as px\n",
    "import SimpleITK as sitk"
   ]
  },
  {
   "cell_type": "markdown",
   "metadata": {},
   "source": [
    "# Initialize single transducers"
   ]
  },
  {
   "cell_type": "code",
   "execution_count": 2,
   "metadata": {},
   "outputs": [
    {
     "name": "stdout",
     "output_type": "stream",
     "text": [
      "Focused transducers must have a finite focal length. Consider instantiating a plane-wave transducer if you require infinite focal length.\n",
      "Focused transducers must have a finite focal length. Consider instantiating a plane-wave transducer if you require infinite focal length.\n"
     ]
    },
    {
     "ename": "NameError",
     "evalue": "name 'phantom' is not defined",
     "output_type": "error",
     "traceback": [
      "\u001b[0;31m---------------------------------------------------------------------------\u001b[0m",
      "\u001b[0;31mNameError\u001b[0m                                 Traceback (most recent call last)",
      "\u001b[1;32m/home/trevor/repos/kwave_unlimited/musik/demos/transducers.ipynb Cell 3\u001b[0m line \u001b[0;36m6\n\u001b[1;32m     <a href='vscode-notebook-cell://ssh-remote%2Brhea/home/trevor/repos/kwave_unlimited/musik/demos/transducers.ipynb#W2sdnNjb2RlLXJlbW90ZQ%3D%3D?line=60'>61</a>\u001b[0m ax\u001b[39m.\u001b[39mset_zlim(\u001b[39m-\u001b[39mscale, scale)\n\u001b[1;32m     <a href='vscode-notebook-cell://ssh-remote%2Brhea/home/trevor/repos/kwave_unlimited/musik/demos/transducers.ipynb#W2sdnNjb2RlLXJlbW90ZQ%3D%3D?line=61'>62</a>\u001b[0m ax\u001b[39m.\u001b[39mset_aspect(\u001b[39m'\u001b[39m\u001b[39mequal\u001b[39m\u001b[39m'\u001b[39m)\n\u001b[0;32m---> <a href='vscode-notebook-cell://ssh-remote%2Brhea/home/trevor/repos/kwave_unlimited/musik/demos/transducers.ipynb#W2sdnNjb2RlLXJlbW90ZQ%3D%3D?line=62'>63</a>\u001b[0m transducer_2d\u001b[39m.\u001b[39mmake_sensor_coords(phantom\u001b[39m.\u001b[39mbaseline[\u001b[39m0\u001b[39m])\n\u001b[1;32m     <a href='vscode-notebook-cell://ssh-remote%2Brhea/home/trevor/repos/kwave_unlimited/musik/demos/transducers.ipynb#W2sdnNjb2RlLXJlbW90ZQ%3D%3D?line=63'>64</a>\u001b[0m ax \u001b[39m=\u001b[39m fig\u001b[39m.\u001b[39madd_subplot(\u001b[39m2\u001b[39m, \u001b[39m2\u001b[39m, \u001b[39m2\u001b[39m, projection\u001b[39m=\u001b[39m\u001b[39m'\u001b[39m\u001b[39m3d\u001b[39m\u001b[39m'\u001b[39m)\n\u001b[1;32m     <a href='vscode-notebook-cell://ssh-remote%2Brhea/home/trevor/repos/kwave_unlimited/musik/demos/transducers.ipynb#W2sdnNjb2RlLXJlbW90ZQ%3D%3D?line=64'>65</a>\u001b[0m transducer_2d\u001b[39m.\u001b[39mplot_sensor_coords(ax\u001b[39m=\u001b[39max)\n",
      "\u001b[0;31mNameError\u001b[0m: name 'phantom' is not defined"
     ]
    },
    {
     "data": {
      "image/png": "[encoded data removed]",
      "text/plain": [
       "<Figure size 685.714x480 with 1 Axes>"
      ]
     },
     "metadata": {},
     "output_type": "display_data"
    }
   ],
   "source": [
    "transducer_3d = Focused(\n",
    "                 label = None,\n",
    "                 max_frequency = 2e6,\n",
    "                 source_strength = 1e6,\n",
    "                 cycles = 2,\n",
    "                 elements = 32,\n",
    "                 active_elements = None,\n",
    "                 element_width = 1e-4,\n",
    "                 elevation = 1e-4 * 32,\n",
    "                 kerf = 0,\n",
    "                 radius = float('inf'),\n",
    "                 focus_azimuth = float('inf'), # PW by default\n",
    "                 focus_elevation = float('inf'),\n",
    "                 sensor_sampling_scheme = 'not_centroid',\n",
    "                 sweep = (np.pi/3,np.pi/3),\n",
    "                 ray_num = (64,64),\n",
    "                 imaging_ndims = 3, # should be 2 or 3\n",
    "                 transmit_apodization = 'tukey75',\n",
    "                 receive_apodization = 'boxcar',\n",
    "                 harmonic = 1,\n",
    "                 bandwidth = 100,\n",
    "                 compression_fac = None,\n",
    "                 normalize = True,\n",
    "                 )\n",
    "\n",
    "transducer_2d = Focused(\n",
    "                 label = None,\n",
    "                 max_frequency = 2e6,\n",
    "                 source_strength = 1e6,\n",
    "                 cycles = 2,\n",
    "                 elements = 32,\n",
    "                 active_elements = None,\n",
    "                 element_width = 1e-4,\n",
    "                 elevation = 1e-4 * 32,\n",
    "                 kerf = 0,\n",
    "                 radius = float('inf'),\n",
    "                 focus_azimuth = float('inf'), # PW by default\n",
    "                 focus_elevation = float('inf'),\n",
    "                 sensor_sampling_scheme = 'not_centroid',\n",
    "                 sweep = np.pi/3,\n",
    "                 ray_num = 64,\n",
    "                 imaging_ndims = 2, # should be 2 or 3\n",
    "                 transmit_apodization = 'tukey75',\n",
    "                 receive_apodization = 'boxcar',\n",
    "                 harmonic = 1,\n",
    "                 bandwidth = 100,\n",
    "                 compression_fac = None,\n",
    "                 normalize = True,\n",
    "                 )\n",
    "\n",
    "\n",
    "scale = 0.005\n",
    "fig = plt.figure(figsize=plt.figaspect(0.7))\n",
    "\n",
    "rays = transducer_2d.make_ray_transforms(2, np.pi/3, 64)\n",
    "ax = fig.add_subplot(2, 2, 1, projection='3d')\n",
    "transducer_2d.plot_fov(scale=.01, ax=ax)\n",
    "ax.grid(False)\n",
    "ax.set_xlim(-scale, scale)\n",
    "ax.set_ylim(-scale, scale)\n",
    "ax.set_zlim(-scale, scale)\n",
    "ax.set_aspect('equal')\n",
    "transducer_2d.make_sensor_coords(phantom.baseline[0])\n",
    "ax = fig.add_subplot(2, 2, 2, projection='3d')\n",
    "transducer_2d.plot_sensor_coords(ax=ax)\n",
    "ax.grid(False)\n",
    "ax.set_xlim(-scale, scale)\n",
    "ax.set_ylim(-scale, scale)\n",
    "ax.set_zlim(-scale, scale)\n",
    "ax.set_aspect('equal')\n",
    "\n",
    "rays = transducer_3d.make_ray_transforms(2, np.pi/3, 64)\n",
    "ax = fig.add_subplot(2, 2, 3, projection='3d')\n",
    "transducer_3d.plot_fov(scale=.01, ax=ax)\n",
    "ax.grid(False)\n",
    "ax.set_xlim(-scale, scale)\n",
    "ax.set_ylim(-scale, scale)\n",
    "ax.set_zlim(-scale, scale)\n",
    "ax.set_aspect('equal')\n",
    "transducer_3d.make_sensor_coords(phantom.baseline[0])\n",
    "ax = fig.add_subplot(2, 2, 4, projection='3d')\n",
    "transducer_3d.plot_sensor_coords(ax=ax)\n",
    "ax.grid(False)\n",
    "ax.set_xlim(-scale, scale)\n",
    "ax.set_ylim(-scale, scale)\n",
    "ax.set_zlim(-scale, scale)\n",
    "ax.set_aspect('equal')\n",
    "plt.show()"
   ]
  },
  {
   "cell_type": "markdown",
   "metadata": {},
   "source": [
    "# Create transducer set"
   ]
  },
  {
   "cell_type": "code",
   "execution_count": 3,
   "metadata": {},
   "outputs": [
    {
     "ename": "NameError",
     "evalue": "name 'phantom' is not defined",
     "output_type": "error",
     "traceback": [
      "\u001b[0;31m---------------------------------------------------------------------------\u001b[0m",
      "\u001b[0;31mNameError\u001b[0m                                 Traceback (most recent call last)",
      "\u001b[1;32m/home/trevor/repos/kwave_unlimited/musik/demos/transducers.ipynb Cell 5\u001b[0m line \u001b[0;36m2\n\u001b[1;32m     <a href='vscode-notebook-cell://ssh-remote%2Brhea/home/trevor/repos/kwave_unlimited/musik/demos/transducers.ipynb#W4sdnNjb2RlLXJlbW90ZQ%3D%3D?line=9'>10</a>\u001b[0m \u001b[39m# transducers = [Focused(elements = 32, \u001b[39;00m\n\u001b[1;32m     <a href='vscode-notebook-cell://ssh-remote%2Brhea/home/trevor/repos/kwave_unlimited/musik/demos/transducers.ipynb#W4sdnNjb2RlLXJlbW90ZQ%3D%3D?line=10'>11</a>\u001b[0m \u001b[39m#                        elevation = 1e-4 * 32, \u001b[39;00m\n\u001b[1;32m     <a href='vscode-notebook-cell://ssh-remote%2Brhea/home/trevor/repos/kwave_unlimited/musik/demos/transducers.ipynb#W4sdnNjb2RlLXJlbW90ZQ%3D%3D?line=11'>12</a>\u001b[0m \u001b[39m#                        sensor_sampling_scheme = 'not_centroid', \u001b[39;00m\n\u001b[0;32m   (...)\u001b[0m\n\u001b[1;32m     <a href='vscode-notebook-cell://ssh-remote%2Brhea/home/trevor/repos/kwave_unlimited/musik/demos/transducers.ipynb#W4sdnNjb2RlLXJlbW90ZQ%3D%3D?line=16'>17</a>\u001b[0m \u001b[39m#                        focus_elevation = 30e-3,\u001b[39;00m\n\u001b[1;32m     <a href='vscode-notebook-cell://ssh-remote%2Brhea/home/trevor/repos/kwave_unlimited/musik/demos/transducers.ipynb#W4sdnNjb2RlLXJlbW90ZQ%3D%3D?line=17'>18</a>\u001b[0m \u001b[39m#                        ) for i in range(1)]\u001b[39;00m\n\u001b[1;32m     <a href='vscode-notebook-cell://ssh-remote%2Brhea/home/trevor/repos/kwave_unlimited/musik/demos/transducers.ipynb#W4sdnNjb2RlLXJlbW90ZQ%3D%3D?line=19'>20</a>\u001b[0m \u001b[39mfor\u001b[39;00m t \u001b[39min\u001b[39;00m transducers:\n\u001b[0;32m---> <a href='vscode-notebook-cell://ssh-remote%2Brhea/home/trevor/repos/kwave_unlimited/musik/demos/transducers.ipynb#W4sdnNjb2RlLXJlbW90ZQ%3D%3D?line=20'>21</a>\u001b[0m     t\u001b[39m.\u001b[39mmake_sensor_coords(phantom\u001b[39m.\u001b[39mbaseline[\u001b[39m0\u001b[39m])\n",
      "\u001b[0;31mNameError\u001b[0m: name 'phantom' is not defined"
     ]
    }
   ],
   "source": [
    "transducers = [Focused(elements = 32, \n",
    "                       elevation = 1e-4 * 32, \n",
    "                       sensor_sampling_scheme = 'not_centroid', \n",
    "                       sweep = (np.pi/8,np.pi/8), \n",
    "                       ray_num = (32,32), \n",
    "                       imaging_ndims = 3,\n",
    "                       focus_azimuth = 20e-3,\n",
    "                       focus_elevation = 20e-3,\n",
    "                       ) for i in range(4)]\n",
    "# transducers = [Focused(elements = 32, \n",
    "#                        elevation = 1e-4 * 32, \n",
    "#                        sensor_sampling_scheme = 'not_centroid', \n",
    "#                        sweep = np.pi/3, \n",
    "#                        ray_num = 128, \n",
    "#                        imaging_ndims = 2,\n",
    "#                        focus_azimuth = 30e-3,\n",
    "#                        focus_elevation = 30e-3,\n",
    "#                        ) for i in range(1)]\n",
    "\n",
    "for t in transducers:\n",
    "    t.make_sensor_coords(phantom.baseline[0])"
   ]
  },
  {
   "cell_type": "markdown",
   "metadata": {},
   "source": [
    "# Generate transducer extrinsics"
   ]
  },
  {
   "cell_type": "code",
   "execution_count": 4,
   "metadata": {},
   "outputs": [],
   "source": [
    "transducer_set = TransducerSet(transducers, seed=0000)\n",
    "transducer_set.generate_extrinsics(shape=\"spherical\", extrinsics_kwargs={'r_mean': 0.03, 'view_std': 0, 'yaw_fraction': 1, 'pitch_fraction': 0, 'roll_fraction': 0})\n",
    "# transducer_set.generate_extrinsics(shape=\"cylindrical\", extrinsics_kwargs={'r_mean': 0.02,})\n",
    "# transducer_set.generate_extrinsics(shape='bleh', extrinsics_kwargs={'size': 0.002,})\n"
   ]
  },
  {
   "cell_type": "markdown",
   "metadata": {},
   "source": [
    "# Plot transducer poses and fov"
   ]
  },
  {
   "cell_type": "code",
   "execution_count": null,
   "metadata": {},
   "outputs": [],
   "source": [
    "fig = plt.figure(figsize=plt.figaspect(0.5))\n",
    "scale = 0.02\n",
    "\n",
    "ax = fig.add_subplot(1, 2, 1, projection='3d')\n",
    "ax.set_proj_type('ortho')\n",
    "ax.grid(False)\n",
    "ax.set_xlim(-scale, scale)\n",
    "ax.set_ylim(-scale, scale)\n",
    "ax.set_zlim(-scale, scale)\n",
    "ax.set_aspect('equal')\n",
    "transducer_set.plot_transducer_coords(scale=0.021, ax=ax)\n",
    "ax = fig.add_subplot(1, 2, 2, projection='3d')\n",
    "ax.set_proj_type('ortho')\n",
    "ax.grid(False)\n",
    "ax.set_xlim(-scale, scale)\n",
    "ax.set_ylim(-scale, scale)\n",
    "ax.set_zlim(-scale, scale)\n",
    "ax.set_aspect('equal')\n",
    "transducer_set.plot_transducer_fovs(scale=0.02, ax=ax)"
   ]
  },
  {
   "cell_type": "code",
   "execution_count": null,
   "metadata": {},
   "outputs": [],
   "source": [
    "import plotly.graph_objects as go\n",
    "\n",
    "coords = []\n",
    "for i in range(len(transducer_set.transducers)):\n",
    "    coords.append(transducer_set.poses[i].apply_to_points(transducer_set.transducers[i].sensor_coords))\n",
    "    \n",
    "fig = go.Figure(data=[go.Scatter3d(\n",
    "                    x=np.concatenate(coords, axis=0)[:,0],\n",
    "                    y=np.concatenate(coords, axis=0)[:,1],\n",
    "                    z=np.concatenate(coords, axis=0)[:,2],\n",
    "                    mode='markers',\n",
    "                    marker=dict(size=1, opacity=0.8,),\n",
    "                )])\n",
    "fig.update_layout(margin=dict(l=0, r=0, b=0, t=0))\n",
    "fig.update_layout(scene_aspectmode='data')\n",
    "fig.show()"
   ]
  }
 ],
 "metadata": {
  "kernelspec": {
   "display_name": "musik",
   "language": "python",
   "name": "python3"
  },
  "language_info": {
   "codemirror_mode": {
    "name": "ipython",
    "version": 3
   },
   "file_extension": ".py",
   "mimetype": "text/x-python",
   "name": "python",
   "nbconvert_exporter": "python",
   "pygments_lexer": "ipython3",
   "version": "3.9.18"
  }
 },
 "nbformat": 4,
 "nbformat_minor": 2
}

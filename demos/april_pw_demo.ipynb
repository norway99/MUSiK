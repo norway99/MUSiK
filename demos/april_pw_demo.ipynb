{
 "cells": [
  {
   "cell_type": "code",
   "execution_count": null,
   "metadata": {},
   "outputs": [],
   "source": [
    "import sys\n",
    "sys.path.append('../utils')\n",
    "sys.path.append('../core')\n",
    "sys.path.append('../')\n",
    "import numpy as np\n",
    "import scipy\n",
    "import tqdm\n",
    "import utils\n",
    "import geometry\n",
    "from core import *\n",
    "\n",
    "import matplotlib.pyplot as plt\n",
    "import plotly.graph_objects as go\n",
    "import glob\n"
   ]
  },
  {
   "cell_type": "code",
   "execution_count": null,
   "metadata": {},
   "outputs": [],
   "source": [
    "\n",
    "test_phantom = phantom.Phantom(source_path = None,\n",
    "            voxel_dims = (0.1e-3,0.1e-3,0.1e-3), # size of each voxel\n",
    "            matrix_dims = (400,400,400), # number of voxels along each axis\n",
    "            baseline = (1500, 1000), # background medium speed of sound and density\n",
    "            seed = 5678,)\n",
    "\n",
    "kidney_sos = 1560\n",
    "kidney_rho = 1066\n",
    "kidney_sigma = 27\n",
    "kidney_noise_scale = 0.0003\n",
    "fat = tissue.Tissue(name='fat', c=1450, rho=920, sigma=10, scale=0.0001, label=1)\n",
    "kidney = tissue.Tissue(name='kidney', c=kidney_sos, rho=kidney_rho, sigma=kidney_sigma, \n",
    "                scale=kidney_noise_scale, label=2) \n",
    "\n",
    "pos = 0.4\n",
    "\n",
    "test_phantom.add_tissue_sphere((pos,-pos,0), 50, fat) # sphere center, radius, tissue makeup\n",
    "test_phantom.add_tissue_sphere((-pos,pos,0), 50, kidney)\n",
    "\n",
    "plt.imshow(test_phantom.get_complete()[0,:,:,test_phantom.matrix_dims[2]//2], \n",
    "           vmin=np.amin(test_phantom.get_complete()[0]), vmax=np.amax(test_phantom.get_complete()[0]))\n",
    "plt.colorbar()\n",
    "\n",
    "n_transducers = 1 # number of transducers in trajectory\n",
    "\n",
    "transducers = [transducer.Planewave(max_frequency = 2000000, # [Hz],\n",
    "                         elements = 32,\n",
    "                         element_width = 1e-4, # [m]\n",
    "                         elevation = 1e-4 * 32, \n",
    "                         sweep = np.pi/3, # angles from -60 to 60 \n",
    "                         ray_num = 64, # number of steering angles in the range prescribed by sweep \n",
    "                         focus_elevation = 0.02,# wherever you'd like to put the elevation focus\n",
    "                         sensor_sampling_scheme = 'not_centroid',\n",
    "                         )\n",
    "                for i in range(n_transducers)]\n",
    "\n",
    "for t in transducers:\n",
    "    t.make_sensor_coords(test_phantom.baseline[0])\n",
    "\n",
    "test_transducer_set = transducer_set.TransducerSet(transducers, seed=8888)\n",
    "\n",
    "# global coordinate system origin (0,0,0) at centroid of phantom as defined above\n",
    "for i in range(n_transducers):\n",
    "    transducer_transform = geometry.Transform(translation=(0,0,0), rotation=(0,0,0)) # global coords of transducer centroid, zyx intrinsic tait-bryan\n",
    "    test_transducer_set.assign_pose(i, transducer_transform)\n",
    "\n",
    "test_transducer_set.plot_transducer_fovs(scale=0.01)\n",
    "test_transducer_set.plot_transducer_coords(scale=0.01)\n",
    "\n",
    "test_sensor = sensor.Sensor(transducer_set=test_transducer_set, aperture_type='single_transducer')\n",
    "\n",
    "simprops = simulation.SimProperties(grid_size   = (1024,128,128), # you may need to tweak the grid size for maximum efficency\n",
    "                 PML_size    = (32,8,8),\n",
    "                 PML_alpha   = 2,\n",
    "                 t_end       = 12e-5,           # [s]\n",
    "                 bona        = 6,               # parameter b/a determining degree of nonlinear acoustic effects\n",
    "                 alpha_coeff = 0.5, \t        # [dB/(MHz^y cm)]\n",
    "                 alpha_power = 1.5,\n",
    "                 )"
   ]
  },
  {
   "cell_type": "code",
   "execution_count": null,
   "metadata": {},
   "outputs": [],
   "source": [
    "test_experiment = experiment.Experiment(\n",
    "                 simulation_path = '../experiment_files/april_test', # your desired path\n",
    "                 sim_properties  = simprops,\n",
    "                 phantom         = test_phantom,\n",
    "                 transducer_set  = test_transducer_set,\n",
    "                 sensor          = test_sensor,\n",
    "                 nodes           = 2, # how many compute nodes you plan to use\n",
    "                 results         = None,\n",
    "                 indices         = None,\n",
    "                 workers         = 3, # how many workers/node\n",
    "                 )\n",
    "\n",
    "test_experiment.save()\n",
    "\n",
    "test_experiment.run(dry=True)\n",
    "\n",
    "#test_experiment.add_results()\n",
    "\n",
    "#reconstruction = Compounding(test_experiment) # beta, may not currently work as intended\n",
    "\n",
    "\n"
   ]
  },
  {
   "cell_type": "code",
   "execution_count": null,
   "metadata": {},
   "outputs": [],
   "source": [
    "test_experiment = experiment.Experiment.load('../experiment_files/april_test')"
   ]
  },
  {
   "cell_type": "code",
   "execution_count": null,
   "metadata": {},
   "outputs": [],
   "source": [
    "test_experiment.run()"
   ]
  },
  {
   "cell_type": "code",
   "execution_count": null,
   "metadata": {},
   "outputs": [],
   "source": []
  }
 ],
 "metadata": {
  "kernelspec": {
   "display_name": "Python 3",
   "language": "python",
   "name": "python3"
  },
  "language_info": {
   "codemirror_mode": {
    "name": "ipython",
    "version": 3
   },
   "file_extension": ".py",
   "mimetype": "text/x-python",
   "name": "python",
   "nbconvert_exporter": "python",
   "pygments_lexer": "ipython3",
   "version": "3.9.18"
  }
 },
 "nbformat": 4,
 "nbformat_minor": 2
}

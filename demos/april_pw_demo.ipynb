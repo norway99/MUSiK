{
 "cells": [
  {
   "cell_type": "code",
   "execution_count": 7,
   "metadata": {},
   "outputs": [],
   "source": [
    "import sys\n",
    "sys.path.append('../utils')\n",
    "sys.path.append('../core')\n",
    "import numpy as np\n",
    "import scipy\n",
    "import tqdm\n",
    "import utils\n",
    "import geometry\n",
    "from core import *\n",
    "\n",
    "import matplotlib.pyplot as plt\n",
    "import plotly.graph_objects as go\n",
    "import glob\n"
   ]
  },
  {
   "cell_type": "code",
   "execution_count": 22,
   "metadata": {},
   "outputs": [],
   "source": [
    "from core.phantom import Phantom\n",
    "from core.transducer_set import TransducerSet"
   ]
  },
  {
   "cell_type": "code",
   "execution_count": 24,
   "metadata": {},
   "outputs": [],
   "source": [
    "from core import transducer_set"
   ]
  },
  {
   "cell_type": "code",
   "execution_count": 20,
   "metadata": {},
   "outputs": [],
   "source": [
    "fantom = phantom.Phantom(source_path = None,\n",
    "            voxel_dims = (0.1e-3,0.1e-3,0.1e-3), # size of each voxel\n",
    "            matrix_dims = (400,400,400), # number of voxels along each axis\n",
    "            baseline = (1500, 1000), # background medium speed of sound and density\n",
    "            seed = 5678,)\n"
   ]
  },
  {
   "cell_type": "code",
   "execution_count": 25,
   "metadata": {},
   "outputs": [
    {
     "ename": "TypeError",
     "evalue": "assign_pose() missing 1 required positional argument: 'transform'",
     "output_type": "error",
     "traceback": [
      "\u001b[0;31m---------------------------------------------------------------------------\u001b[0m",
      "\u001b[0;31mTypeError\u001b[0m                                 Traceback (most recent call last)",
      "Cell \u001b[0;32mIn[25], line 44\u001b[0m\n\u001b[1;32m     42\u001b[0m \u001b[38;5;28;01mfor\u001b[39;00m i \u001b[38;5;129;01min\u001b[39;00m \u001b[38;5;28mrange\u001b[39m(n_transducers):\n\u001b[1;32m     43\u001b[0m     transducer_transform \u001b[38;5;241m=\u001b[39m geometry\u001b[38;5;241m.\u001b[39mTransform(translation\u001b[38;5;241m=\u001b[39m(\u001b[38;5;241m0\u001b[39m,\u001b[38;5;241m0\u001b[39m,\u001b[38;5;241m0\u001b[39m), rotation\u001b[38;5;241m=\u001b[39m(\u001b[38;5;241m0\u001b[39m,\u001b[38;5;241m0\u001b[39m,\u001b[38;5;241m0\u001b[39m)) \u001b[38;5;66;03m# global coords of transducer centroid, zyx intrinsic tait-bryan\u001b[39;00m\n\u001b[0;32m---> 44\u001b[0m     \u001b[43mtransducer_set\u001b[49m\u001b[38;5;241;43m.\u001b[39;49m\u001b[43massign_pose\u001b[49m\u001b[43m(\u001b[49m\u001b[43mi\u001b[49m\u001b[43m,\u001b[49m\u001b[43m \u001b[49m\u001b[43m)\u001b[49m\n\u001b[1;32m     46\u001b[0m transducer_set\u001b[38;5;241m.\u001b[39mplot_transducer_fovs(scale\u001b[38;5;241m=\u001b[39m\u001b[38;5;241m0.05\u001b[39m)\n\u001b[1;32m     47\u001b[0m transducer_set\u001b[38;5;241m.\u001b[39mplot_transducers()\n",
      "\u001b[0;31mTypeError\u001b[0m: assign_pose() missing 1 required positional argument: 'transform'"
     ]
    },
    {
     "data": {
      "image/png": "[encoded data removed]",
      "text/plain": [
       "<Figure size 640x480 with 2 Axes>"
      ]
     },
     "metadata": {},
     "output_type": "display_data"
    }
   ],
   "source": [
    "\n",
    "fantom = phantom.Phantom(source_path = None,\n",
    "            voxel_dims = (0.1e-3,0.1e-3,0.1e-3), # size of each voxel\n",
    "            matrix_dims = (400,400,400), # number of voxels along each axis\n",
    "            baseline = (1500, 1000), # background medium speed of sound and density\n",
    "            seed = 5678,)\n",
    "\n",
    "kidney_sos = 1560\n",
    "kidney_rho = 1066\n",
    "kidney_sigma = 27\n",
    "kidney_noise_scale = 0.001\n",
    "fat = tissue.Tissue(name='fat', c=1450, rho=920, sigma=10, scale=0.0001, label=1)\n",
    "kidney = tissue.Tissue(name='kidney', c=kidney_sos, rho=kidney_rho, sigma=kidney_sigma, \n",
    "                scale=kidney_noise_scale, label=2) \n",
    "\n",
    "pos = 0.7\n",
    "\n",
    "fantom.add_tissue_sphere((pos,-pos,0), 8, fat) # sphere center, radius, tissue makeup\n",
    "fantom.add_tissue_sphere((-pos,pos,0), 8, kidney)\n",
    "\n",
    "plt.imshow(fantom.get_complete()[0,:,fantom.matrix_dims[2]//4, :], \n",
    "           vmin=np.amin(fantom.get_complete()[0]), vmax=np.amax(fantom.get_complete()[0]))\n",
    "plt.colorbar()\n",
    "\n",
    "n_transducers = 1 # number of transducers in trajectory\n",
    "\n",
    "transducers = [transducer.Planewave(max_frequency = 2000000, # [Hz],\n",
    "                         elements = 32,\n",
    "                         element_width = 1e-4, # [m]\n",
    "                         elevation = 1e-4 * 32, \n",
    "                         sweep = np.pi/3, # angles from -60 to 60 \n",
    "                         ray_num = 64, # number of steering angles in the range prescribed by sweep \n",
    "                         focus_elevation = 0.02,# wherever you'd like to put the elevation focus\n",
    "                         )\n",
    "                for i in range(n_transducers)]\n",
    "\n",
    "for t in transducers:\n",
    "    t.make_sensor_coords(fantom.baseline[0])\n",
    "\n",
    "transducer_set = transducer_set.TransducerSet(transducers, seed=8888)\n",
    "\n",
    "# global coordinate system origin (0,0,0) at centroid of phantom as defined above\n",
    "for i in range(n_transducers):\n",
    "    transducer_transform = geometry.Transform(translation=(0,0,0), rotation=(0,0,0)) # global coords of transducer centroid, zyx intrinsic tait-bryan\n",
    "    transducer_set.assign_pose(i, transducer_transform)\n",
    "\n",
    "transducer_set.plot_transducer_fovs(scale=0.05)\n",
    "transducer_set.plot_transducers()\n",
    "\n",
    "sensor = sensor.Sensor(transducer_set=transducer_set)\n",
    "\n",
    "simprops = simulation.SimProperties(grid_size   = (1024,128,128), # you may need to tweak the grid size for maximum efficency\n",
    "                 PML_size    = (32,8,8),\n",
    "                 PML_alpha   = 2,\n",
    "                 t_end       = 12e-5,           # [s]\n",
    "                 bona        = 6,               # parameter b/a determining degree of nonlinear acoustic effects\n",
    "                 alpha_coeff = 0.5, \t        # [dB/(MHz^y cm)]\n",
    "                 alpha_power = 1.5,\n",
    "                 )"
   ]
  },
  {
   "cell_type": "code",
   "execution_count": null,
   "metadata": {},
   "outputs": [],
   "source": [
    "test_experiment = Experiment(\n",
    "                 simulation_path = '', # your desired path\n",
    "                 sim_properties  = simprops,\n",
    "                 phantom         = phantom,\n",
    "                 transducer_set  = transducer_set,\n",
    "                 sensor          = sensor,\n",
    "                 nodes           = 2, # how many compute nodes you plan to use\n",
    "                 results         = None,\n",
    "                 indices         = None,\n",
    "                 workers         = 3, # how many workers/node\n",
    "                 )\n",
    "\n",
    "test_experiment.save()\n",
    "\n",
    "test_experiment.run(dry=True)\n",
    "\n",
    "#test_experiment.add_results()\n",
    "\n",
    "#reconstruction = Compounding(test_experiment) # beta, may not currently work as intended\n",
    "\n",
    "\n"
   ]
  }
 ],
 "metadata": {
  "kernelspec": {
   "display_name": "Python 3",
   "language": "python",
   "name": "python3"
  },
  "language_info": {
   "codemirror_mode": {
    "name": "ipython",
    "version": 3
   },
   "file_extension": ".py",
   "mimetype": "text/x-python",
   "name": "python",
   "nbconvert_exporter": "python",
   "pygments_lexer": "ipython3",
   "version": "3.9.18"
  }
 },
 "nbformat": 4,
 "nbformat_minor": 2
}

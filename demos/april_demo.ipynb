{
 "cells": [
  {
   "cell_type": "code",
   "execution_count": null,
   "metadata": {},
   "outputs": [],
   "source": [
    "import sys\n",
    "sys.path.append('../utils')\n",
    "sys.path.append('../core')\n",
    "sys.path.append('../')\n",
    "import numpy as np\n",
    "import scipy\n",
    "import tqdm\n",
    "import utils\n",
    "import geometry\n",
    "import phantom_builder\n",
    "from core import *\n",
    "import open3d as o3d\n",
    "from open3d import io, visualization\n",
    "\n",
    "import matplotlib.pyplot as plt\n",
    "import plotly.graph_objects as go\n",
    "import glob\n",
    "import pydicom\n",
    "import functools"
   ]
  },
  {
   "cell_type": "code",
   "execution_count": null,
   "metadata": {},
   "outputs": [],
   "source": [
    "voxel_size = np.array([0.0005, 0.0005, 0.0005])\n",
    "surface_mesh = io.read_triangle_mesh(\"../assets/kidney_phantom/00_abdomen_cropped.obj\")\n",
    "body_mask = phantom_builder.voxelize(voxel_size[0], mesh=surface_mesh)"
   ]
  },
  {
   "cell_type": "code",
   "execution_count": null,
   "metadata": {},
   "outputs": [],
   "source": [
    "plt.imshow(body_mask[:, :, 200])"
   ]
  },
  {
   "cell_type": "code",
   "execution_count": null,
   "metadata": {},
   "outputs": [],
   "source": [
    "test_phantom = phantom.Phantom(source_path = None,\n",
    "                               voxel_dims = (voxel_size[0], voxel_size[0], voxel_size[0]),\n",
    "                               matrix_dims = body_mask.shape,\n",
    "                               baseline = (1540, 1000),\n",
    "                               seed = 5678,\n",
    "                               )\n",
    "\n",
    "blood = tissue.Tissue(name='blood', c=1578, rho=1060, sigma=1.3, scale=0.00001, label=1)\n",
    "medulla = tissue.Tissue(name='renal_medulla', c=1564, rho=1044, sigma=40, scale=0.0001, label=2)\n",
    "cortex = tissue.Tissue(name='renal_cortex', c=1571.3, rho=1049, sigma=5, scale=0.0001, label=3)\n",
    "fat = tissue.Tissue(name='fat', c=1450, rho=920, sigma=0, scale=1, label=4)\n",
    "connective = tissue.Tissue(name='connective_tissue', c=1450, rho=1027, sigma=30, scale=0.0001, label=5)\n",
    "muscle = tissue.Tissue(name='muscle', c=1580, rho=1090, sigma=0, scale=0.0001, label=6)\n",
    "bone = tissue.Tissue(name='bone', c=2500, rho=1800, sigma=0, scale=0.0001, label=7)\n",
    "# skin = tissue.Tissue(name='skin', c=1624, rho=1109, sigma=1.3, scale=0.00001, label=8)\n",
    "fat = tissue.Tissue(name='fat', c=1450, rho=920, sigma=0, scale=1, label=9)\n",
    "\n",
    "kidney_file_dir = \"../assets/kidney_phantom/\"\n",
    "kidney_tissue_list = [fat, muscle, muscle, bone, connective, cortex, blood, blood, medulla]\n",
    "\n",
    "# test_phantom.add_tissue(fat, mask=np.ones(test_phantom.matrix_dims))\n",
    "test_phantom.build_organ_from_mesh(surface_mesh, voxel_size[0], kidney_tissue_list, dir_path = kidney_file_dir)\n",
    "test_phantom.set_default_tissue('water')"
   ]
  },
  {
   "cell_type": "code",
   "execution_count": null,
   "metadata": {},
   "outputs": [],
   "source": [
    "test_phantom.get_complete().shape"
   ]
  },
  {
   "cell_type": "code",
   "execution_count": null,
   "metadata": {},
   "outputs": [],
   "source": [
    "plt.imshow(test_phantom.get_complete()[0, :, :, 200])\n",
    "plt.imshow(body_mask[:,:, 250] * 1000, alpha=0.2, cmap='Reds_r')"
   ]
  },
  {
   "cell_type": "code",
   "execution_count": null,
   "metadata": {},
   "outputs": [],
   "source": [
    "plt.imshow(test_phantom.get_complete()[0, 200, :, :])\n",
    "plt.imshow(body_mask[180,:, :] * 1000, alpha=0.2, cmap='Reds_r')"
   ]
  },
  {
   "cell_type": "code",
   "execution_count": null,
   "metadata": {},
   "outputs": [],
   "source": [
    "num_transducers = 1\n",
    "\n",
    "transducers = [transducer.Planewave(max_frequency=1e6,\n",
    "                                    elements = 32, \n",
    "                                    width = 40e-3,\n",
    "                                    height =  20e-3,\n",
    "                                    sensor_sampling_scheme = 'not_centroid', \n",
    "                                    sweep = np.pi/3,\n",
    "                                    ray_num = 32, \n",
    "                                    imaging_ndims = 2,\n",
    "                                    focus_elevation = 20e-3,\n",
    "                                    ) for i in range(num_transducers)]\n",
    "\n",
    "for t in transducers:\n",
    "    t.make_sensor_coords(1540) # test_phantom.baseline[0]\n",
    "\n",
    "test_transducer_set = transducer_set.TransducerSet(transducers, seed=8888)"
   ]
  },
  {
   "cell_type": "code",
   "execution_count": null,
   "metadata": {},
   "outputs": [],
   "source": [
    "pt, normal = test_transducer_set.place_on_mesh_voxel(0, surface_mesh,[240,70,330], voxel_size[0])\n",
    "pt = np.array([pt[0], pt[1], pt[2]])\n",
    "normal = -np.array([normal[0] - 0.1, normal[1] - 0.5, normal[2] + 0.3])\n",
    "\n",
    "pose = geometry.Transform.make_from_heading_vector(normal, pt)\n",
    "\n",
    "theta = np.pi/2\n",
    "# theta = 0\n",
    "about_nl_axis = geometry.Transform(rotation=tuple(theta*normal), translation=(0,0,0), about_axis=True)\n",
    "\n",
    "transducer_pose = about_nl_axis * pose\n",
    "\n",
    "test_transducer_set.assign_pose(0, transducer_pose)\n"
   ]
  },
  {
   "cell_type": "code",
   "execution_count": null,
   "metadata": {},
   "outputs": [],
   "source": [
    "test_sensor = sensor.Sensor(transducer_set=test_transducer_set, aperture_type='transmit_as_receive')"
   ]
  },
  {
   "cell_type": "code",
   "execution_count": null,
   "metadata": {},
   "outputs": [],
   "source": [
    "sensor_coord = np.mean(test_sensor.sensor_coords, axis=0) / voxel_size + np.array(test_phantom.matrix_dims)/2"
   ]
  },
  {
   "cell_type": "code",
   "execution_count": null,
   "metadata": {},
   "outputs": [],
   "source": [
    "test_sensor.visualize(test_phantom, index=[slice(0, -1, 1), slice(0, -1, 1), int(sensor_coord[2])], body_surface_mask=body_mask)"
   ]
  },
  {
   "cell_type": "code",
   "execution_count": null,
   "metadata": {},
   "outputs": [],
   "source": [
    "test_sensor.visualize(test_phantom, index=[int(sensor_coord[0]), slice(0, -1, 1), slice(0, -1, 1)], body_surface_mask=body_mask)"
   ]
  },
  {
   "cell_type": "code",
   "execution_count": null,
   "metadata": {},
   "outputs": [],
   "source": [
    "test_transducer_set.plot_transducer_coords()\n",
    "test_transducer_set.plot_transducer_fovs()"
   ]
  },
  {
   "cell_type": "code",
   "execution_count": null,
   "metadata": {},
   "outputs": [],
   "source": [
    "simprops = simulation.SimProperties(\n",
    "                grid_size   = (150e-3,80e-3,80e-3),\n",
    "                voxel_size  = (0.5e-3,0.5e-3,0.5e-3),\n",
    "                PML_size    = (8,8,8),\n",
    "                PML_alpha   = 2,\n",
    "                t_end       = 12e-5,           # [s]\n",
    "                bona        = 6,               # parameter b/a determining degree of nonlinear acoustic effects\n",
    "                alpha_coeff = 0.5, \t           # [dB/(MHz^y cm)]\n",
    "                alpha_power = 1.5,\n",
    "                )"
   ]
  },
  {
   "cell_type": "code",
   "execution_count": null,
   "metadata": {},
   "outputs": [],
   "source": [
    "test_experiment = experiment.Experiment(\n",
    "                 simulation_path = '../experiment_files/kidney_experiment_02',\n",
    "                 sim_properties  = simprops,\n",
    "                 phantom         = test_phantom,\n",
    "                 transducer_set  = test_transducer_set,\n",
    "                 sensor          = test_sensor,\n",
    "                 nodes           = 1,\n",
    "                 results         = None,\n",
    "                 indices         = None,\n",
    "                 workers         = 3,\n",
    "                 additional_keys = []\n",
    "                 )\n",
    "\n",
    "test_experiment.save()"
   ]
  },
  {
   "cell_type": "code",
   "execution_count": null,
   "metadata": {},
   "outputs": [],
   "source": [
    "test_experiment.plot_ray_path(0)"
   ]
  },
  {
   "cell_type": "code",
   "execution_count": null,
   "metadata": {},
   "outputs": [],
   "source": [
    "test_experiment.plot_ray_path(31)"
   ]
  },
  {
   "cell_type": "code",
   "execution_count": null,
   "metadata": {},
   "outputs": [],
   "source": [
    "test_experiment.plot_ray_path(-1)"
   ]
  },
  {
   "cell_type": "code",
   "execution_count": null,
   "metadata": {},
   "outputs": [],
   "source": [
    "test_experiment = experiment.Experiment.load('../experiment_files/kidney_experiment_02')\n",
    "test_experiment.run(dry=True)"
   ]
  },
  {
   "cell_type": "code",
   "execution_count": null,
   "metadata": {},
   "outputs": [],
   "source": [
    "test_experiment.run(repeat=True)"
   ]
  },
  {
   "cell_type": "code",
   "execution_count": null,
   "metadata": {},
   "outputs": [],
   "source": [
    "test_experiment.add_results()"
   ]
  },
  {
   "cell_type": "code",
   "execution_count": null,
   "metadata": {},
   "outputs": [],
   "source": [
    "test_reconstruction = reconstruction.Compounding(experiment=test_experiment)"
   ]
  },
  {
   "cell_type": "code",
   "execution_count": null,
   "metadata": {},
   "outputs": [],
   "source": [
    "image_matrices = test_reconstruction.compound(workers=16, resolution_multiplier=4, local=True)"
   ]
  },
  {
   "cell_type": "code",
   "execution_count": null,
   "metadata": {},
   "outputs": [],
   "source": [
    "image = np.sum(image_matrices, axis=0)\n",
    "plt.imshow(image[:,:,image.shape[2]//2])"
   ]
  }
 ],
 "metadata": {
  "kernelspec": {
   "display_name": "musik",
   "language": "python",
   "name": "python3"
  },
  "language_info": {
   "codemirror_mode": {
    "name": "ipython",
    "version": 3
   },
   "file_extension": ".py",
   "mimetype": "text/x-python",
   "name": "python",
   "nbconvert_exporter": "python",
   "pygments_lexer": "ipython3",
   "version": "3.9.18"
  }
 },
 "nbformat": 4,
 "nbformat_minor": 2
}

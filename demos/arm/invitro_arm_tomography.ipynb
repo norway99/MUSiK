{
 "cells": [
  {
   "cell_type": "code",
   "execution_count": null,
   "metadata": {},
   "outputs": [],
   "source": [
    "import sys\n",
    "import os\n",
    "\n",
    "parent = os.path.dirname(os.path.realpath('../'))\n",
    "sys.path.append(parent)\n",
    "\n",
    "import numpy as np\n",
    "import scipy\n",
    "import tqdm\n",
    "import open3d as o3d\n",
    "import matplotlib.pyplot as plt\n",
    "import glob\n",
    "\n",
    "from core import *\n",
    "from utils import phantom_builder\n",
    "from utils import geometry\n",
    "from utils import utils\n",
    "\n",
    "os.environ[\"CUDA_DEVICE_ORDER\"]=\"PCI_BUS_ID\"\n",
    "os.environ[\"CUDA_VISIBLE_DEVICES\"]=\"0\""
   ]
  },
  {
   "cell_type": "code",
   "execution_count": 2,
   "metadata": {},
   "outputs": [],
   "source": [
    "test_phantom = phantom.Phantom.load(f'{parent}/assets/hand_phantom')"
   ]
  },
  {
   "cell_type": "code",
   "execution_count": null,
   "metadata": {},
   "outputs": [],
   "source": [
    "plt.imshow(test_phantom.get_complete()[0, :, :, 200], vmin=1500, vmax=2000)"
   ]
  },
  {
   "cell_type": "code",
   "execution_count": null,
   "metadata": {},
   "outputs": [],
   "source": [
    "plt.imshow(test_phantom.get_complete()[0, 90, :, :], vmin=1500, vmax=2000)"
   ]
  },
  {
   "cell_type": "code",
   "execution_count": 5,
   "metadata": {},
   "outputs": [],
   "source": [
    "z_heights = np.arange(-0.09, 0.12, 0.002)\n",
    "\n",
    "num_transducers = 6\n",
    "# transducers = [transducer.Planewave(max_frequency=1e6,\n",
    "#                                     elements = 64, \n",
    "#                                     width = 60e-3,\n",
    "#                                     height =  20e-3,\n",
    "#                                     sensor_sampling_scheme = 'not_centroid', \n",
    "#                                     sweep = np.pi/4,\n",
    "#                                     ray_num = 5, \n",
    "#                                     imaging_ndims = 2,\n",
    "#                                     focus_elevation = 60e-3,\n",
    "#                                     ) for i in range(num_transducers)]\n",
    "\n",
    "transducers = [transducer.Planewave(max_frequency=1e6,\n",
    "                                    elements = 256,\n",
    "                                    width = 80e-3,\n",
    "                                    height =  20e-3,\n",
    "                                    sensor_sampling_scheme = 'not_centroid', \n",
    "                                    sweep = np.pi/4,\n",
    "                                    ray_num = 5, \n",
    "                                    imaging_ndims = 2,\n",
    "                                    focus_elevation = 60e-3,\n",
    "                                    ) for i in range(num_transducers * len(z_heights))]\n",
    "\n",
    "for t in transducers:\n",
    "    t.make_sensor_coords(1540) # test_phantom.baseline[0]\n",
    "\n",
    "test_transducer_set = transducer_set.TransducerSet(transducers, seed=8888)"
   ]
  },
  {
   "cell_type": "code",
   "execution_count": 6,
   "metadata": {},
   "outputs": [],
   "source": [
    "for i in range(len(z_heights)):\n",
    "    rotations = [geometry.Transform((r,0,0),(0,0,0)) for r in np.linspace(0, 2 * np.pi, num_transducers, endpoint=False)]\n",
    "    positions = [rot.apply_to_point((-0.07,0,z_heights[i])) for rot in rotations]\n",
    "    for j in range(num_transducers):\n",
    "        rotations[j].translation = positions[j]\n",
    "        test_transducer_set.assign_pose(i * num_transducers + j, rotations[j])"
   ]
  },
  {
   "cell_type": "code",
   "execution_count": 7,
   "metadata": {},
   "outputs": [],
   "source": [
    "test_sensor = sensor.Sensor(transducer_set=test_transducer_set, aperture_type='transmit_as_receive')\n",
    "# test_sensor = sensor.Sensor(transducer_set=test_transducer_set, aperture_type='extended_aperture')"
   ]
  },
  {
   "cell_type": "code",
   "execution_count": null,
   "metadata": {},
   "outputs": [],
   "source": [
    "test_transducer_set.plot_transducer_coords()\n",
    "test_transducer_set.plot_transducer_fovs()"
   ]
  },
  {
   "cell_type": "code",
   "execution_count": 9,
   "metadata": {},
   "outputs": [],
   "source": [
    "# simprops = simulation.SimProperties(\n",
    "#                 grid_size   = (90e-3,20e-3,20e-3),\n",
    "#                 voxel_size  = (0.5e-3,0.5e-3,0.5e-3),\n",
    "#                 PML_size    = (32,8,8),\n",
    "#                 PML_alpha   = 2,\n",
    "#                 t_end       = 12e-5,           # [s]\n",
    "#                 bona        = 6,               # parameter b/a determining degree of nonlinear acoustic effects\n",
    "#                 alpha_coeff = 0.5, \t           # [dB/(MHz^y cm)]\n",
    "#                 alpha_power = 1.5,\n",
    "#                 grid_lambda = 2,               # \n",
    "#                 )\n",
    "\n",
    "simprops = simulation.SimProperties(\n",
    "                grid_size   = (100e-3,100e-3,30e-3),\n",
    "                voxel_size  = (0.5e-3,0.5e-3,0.5e-3),\n",
    "                PML_size    = (32,8,8),\n",
    "                PML_alpha   = 2,\n",
    "                t_end       = 12e-5,           # [s]\n",
    "                bona        = 6,               # parameter b/a determining degree of nonlinear acoustic effects\n",
    "                alpha_coeff = 0.5, \t           # [dB/(MHz^y cm)]\n",
    "                alpha_power = 1.5,\n",
    "                grid_lambda = 2,               # \n",
    "                )"
   ]
  },
  {
   "cell_type": "code",
   "execution_count": null,
   "metadata": {},
   "outputs": [],
   "source": [
    "test_experiment = experiment.Experiment(\n",
    "                 simulation_path = f'invitro_arm_experiment_1mhz_3D',\n",
    "                 sim_properties  = simprops,\n",
    "                 phantom         = test_phantom,\n",
    "                 transducer_set  = test_transducer_set,\n",
    "                 sensor          = test_sensor,\n",
    "                 nodes           = 1,\n",
    "                 results         = None,\n",
    "                 indices         = None,\n",
    "                 workers         = 5,\n",
    "                 additional_keys = []\n",
    "                 )\n",
    "\n",
    "test_experiment.save()"
   ]
  },
  {
   "cell_type": "code",
   "execution_count": null,
   "metadata": {},
   "outputs": [],
   "source": [
    "test_experiment.visualize_sensor_mask(index=[slice(0, -1, 1), slice(0, -1, 1), test_experiment.phantom.mask.shape[2]//2])"
   ]
  },
  {
   "cell_type": "code",
   "execution_count": null,
   "metadata": {},
   "outputs": [],
   "source": [
    "test_experiment.plot_ray_path(0)"
   ]
  },
  {
   "cell_type": "code",
   "execution_count": null,
   "metadata": {},
   "outputs": [],
   "source": [
    "test_experiment.plot_ray_path(len(test_experiment)-1)"
   ]
  },
  {
   "cell_type": "code",
   "execution_count": null,
   "metadata": {},
   "outputs": [],
   "source": [
    "len(test_experiment)"
   ]
  },
  {
   "cell_type": "code",
   "execution_count": null,
   "metadata": {},
   "outputs": [],
   "source": [
    "test_experiment = experiment.Experiment.load('invitro_arm_experiment_1mhz_3D')\n",
    "test_experiment.run(dry=True)"
   ]
  },
  {
   "cell_type": "code",
   "execution_count": null,
   "metadata": {},
   "outputs": [],
   "source": [
    "test_experiment.run(repeat=False)"
   ]
  },
  {
   "cell_type": "code",
   "execution_count": 17,
   "metadata": {},
   "outputs": [],
   "source": [
    "test_experiment.add_results()\n",
    "test_reconstruction = reconstruction.Compounding(test_experiment)"
   ]
  },
  {
   "cell_type": "code",
   "execution_count": null,
   "metadata": {},
   "outputs": [],
   "source": [
    "len(z_heights)"
   ]
  },
  {
   "cell_type": "code",
   "execution_count": null,
   "metadata": {},
   "outputs": [],
   "source": [
    "for i in range(len(z_heights)):\n",
    "    if i < 98:\n",
    "        continue\n",
    "    image = test_reconstruction.selective_compound(workers=30, transducers=[i*6,i*6+1,i*6+2,i*6+3,i*6+4,i*6+5], resolution_multiplier=2, local=True, combine=True)\n",
    "    # utils.save_array(image, f'invitro_arm_experiment_1mhz_3D/images/compounded_image_{i}.npy')\n",
    "    break"
   ]
  },
  {
   "cell_type": "code",
   "execution_count": null,
   "metadata": {},
   "outputs": [],
   "source": [
    "print(image.shape)"
   ]
  },
  {
   "cell_type": "code",
   "execution_count": null,
   "metadata": {},
   "outputs": [],
   "source": [
    "plt.imshow(image[:, :,0])\n",
    "plt.colorbar()"
   ]
  },
  {
   "cell_type": "code",
   "execution_count": null,
   "metadata": {},
   "outputs": [],
   "source": [
    "plt.imshow(image[:, :,0])\n",
    "plt.colorbar()"
   ]
  },
  {
   "cell_type": "code",
   "execution_count": null,
   "metadata": {},
   "outputs": [],
   "source": [
    "images = test_reconstruction.selective_compound(workers=30, transducers=[60,61,62,63,64,65], resolution_multiplier=2, local=True, combine=True)"
   ]
  },
  {
   "cell_type": "code",
   "execution_count": null,
   "metadata": {},
   "outputs": [],
   "source": [
    "plt.imshow(images[:,:,0])"
   ]
  },
  {
   "cell_type": "code",
   "execution_count": null,
   "metadata": {},
   "outputs": [],
   "source": [
    "plt.imshow(images[:,:,0])"
   ]
  },
  {
   "cell_type": "code",
   "execution_count": null,
   "metadata": {},
   "outputs": [],
   "source": [
    "images = test_reconstruction.compound(workers=24, resolution_multiplier=2, local=True, combine=False)"
   ]
  },
  {
   "cell_type": "code",
   "execution_count": null,
   "metadata": {},
   "outputs": [],
   "source": [
    "for image in images:\n",
    "    plt.xticks(np.linspace(0, image.shape[1],9))\n",
    "    plt.yticks(np.linspace(0, image.shape[0],9))\n",
    "    plt.imshow(image[:,:,image.shape[2]//2])\n",
    "    plt.grid(color='w', linestyle='-', linewidth=0.1)\n",
    "    plt.show()"
   ]
  },
  {
   "cell_type": "code",
   "execution_count": null,
   "metadata": {},
   "outputs": [],
   "source": [
    "plt.xticks(np.linspace(0, image.shape[1],9))\n",
    "plt.yticks(np.linspace(0, image.shape[0],9))\n",
    "plt.imshow(np.sum(images, axis=0)[:,:,image.shape[2]//2])\n",
    "plt.grid(color='w', linestyle='-', linewidth=0.1)\n",
    "plt.show()"
   ]
  },
  {
   "cell_type": "code",
   "execution_count": null,
   "metadata": {},
   "outputs": [],
   "source": []
  },
  {
   "cell_type": "code",
   "execution_count": 2,
   "metadata": {},
   "outputs": [],
   "source": [
    "import natsort"
   ]
  },
  {
   "cell_type": "code",
   "execution_count": 69,
   "metadata": {},
   "outputs": [],
   "source": [
    "slices = natsort.natsorted(glob.glob('invitro_arm_experiment_1mhz_3D/images/*.npz'))\n",
    "arr = []\n",
    "for im in slices:\n",
    "    arr.append(utils.load_array(im))\n",
    "\n",
    "image = np.concatenate(arr, axis=-1)\n",
    "\n",
    "# image = np.repeat(image, 5, axis=-1)"
   ]
  },
  {
   "cell_type": "code",
   "execution_count": null,
   "metadata": {},
   "outputs": [],
   "source": [
    "image.shape"
   ]
  },
  {
   "cell_type": "code",
   "execution_count": 68,
   "metadata": {},
   "outputs": [],
   "source": [
    "from scipy.interpolate import RegularGridInterpolator"
   ]
  },
  {
   "cell_type": "code",
   "execution_count": 77,
   "metadata": {},
   "outputs": [],
   "source": [
    "x = np.arange(0, image.shape[0])\n",
    "y = np.arange(0, image.shape[1])\n",
    "z = np.arange(0, image.shape[2])\n",
    "interp = RegularGridInterpolator((x, y, z), image)"
   ]
  },
  {
   "cell_type": "code",
   "execution_count": 119,
   "metadata": {},
   "outputs": [],
   "source": [
    "phantom_matrix = utils.load_array('invitro_arm_experiment_1mhz_3D/phantom/complete.npy')\n",
    "\n",
    "xp = np.linspace(0, image.shape[0]-1, phantom_matrix.shape[1])\n",
    "yp = np.linspace(0, image.shape[1]-1, phantom_matrix.shape[2])\n",
    "zp = np.linspace(0, image.shape[2]-1, phantom_matrix.shape[3])\n",
    "pts = np.array(np.meshgrid(xp, yp, zp, indexing='ij')).T.reshape(-1, 3)\n",
    "scaled_image = interp(pts)"
   ]
  },
  {
   "cell_type": "code",
   "execution_count": 143,
   "metadata": {},
   "outputs": [],
   "source": [
    "scaled_image = scaled_image.reshape(phantom_matrix.shape[3], phantom_matrix.shape[2], phantom_matrix.shape[1]).transpose(2,1,0)"
   ]
  },
  {
   "cell_type": "code",
   "execution_count": null,
   "metadata": {},
   "outputs": [],
   "source": [
    "index = 70\n",
    "plt.imshow(scaled_image[index,:,:])\n",
    "plt.show()\n",
    "plt.imshow(phantom_matrix[0,index,:,:])\n",
    "plt.show()"
   ]
  },
  {
   "cell_type": "code",
   "execution_count": 66,
   "metadata": {},
   "outputs": [],
   "source": [
    "utils.save_mrc(image, 'invitro_arm_experiment_1mhz_3D/compounded_image.mrc')"
   ]
  },
  {
   "cell_type": "code",
   "execution_count": null,
   "metadata": {},
   "outputs": [],
   "source": [
    "plt.imshow(image[:,:,-1])"
   ]
  },
  {
   "cell_type": "code",
   "execution_count": null,
   "metadata": {},
   "outputs": [],
   "source": [
    "image.shape"
   ]
  },
  {
   "cell_type": "code",
   "execution_count": null,
   "metadata": {},
   "outputs": [],
   "source": []
  }
 ],
 "metadata": {
  "kernelspec": {
   "display_name": "musik",
   "language": "python",
   "name": "python3"
  },
  "language_info": {
   "codemirror_mode": {
    "name": "ipython",
    "version": 3
   },
   "file_extension": ".py",
   "mimetype": "text/x-python",
   "name": "python",
   "nbconvert_exporter": "python",
   "pygments_lexer": "ipython3",
   "version": "3.9.18"
  }
 },
 "nbformat": 4,
 "nbformat_minor": 2
}

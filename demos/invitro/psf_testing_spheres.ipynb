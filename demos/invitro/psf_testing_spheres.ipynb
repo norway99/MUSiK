{
 "cells": [
  {
   "cell_type": "code",
   "execution_count": null,
   "metadata": {},
   "outputs": [],
   "source": [
    "import sys\n",
    "import os\n",
    "\n",
    "parent = os.path.dirname(os.path.realpath(\"../\"))\n",
    "sys.path.append(parent)\n",
    "\n",
    "import numpy as np\n",
    "import scipy\n",
    "import tqdm\n",
    "import open3d as o3d\n",
    "import matplotlib.pyplot as plt\n",
    "import glob\n",
    "\n",
    "from core import *\n",
    "from utils import phantom_builder\n",
    "from utils import geometry\n",
    "from utils import utils\n",
    "\n",
    "os.environ[\"CUDA_DEVICE_ORDER\"] = \"PCI_BUS_ID\"\n",
    "os.environ[\"CUDA_VISIBLE_DEVICES\"] = \"0\"\n",
    "\n",
    "overwrite_figures = True"
   ]
  },
  {
   "cell_type": "code",
   "execution_count": null,
   "metadata": {},
   "outputs": [],
   "source": [
    "test_phantom = phantom.Phantom(\n",
    "    voxel_dims=(0.25e-3, 0.25e-3, 0.25e-3),\n",
    "    matrix_dims=(256, 256, 128),\n",
    "    baseline=(1500, 1000),\n",
    "    seed=5678,\n",
    ")\n",
    "\n",
    "water = tissue.Tissue(name=\"water\", c=1500, rho=1000, sigma=0, scale=0.001, label=0)\n",
    "wire = tissue.Tissue(name=\"wire\", c=1600, rho=1100, sigma=30, scale=0.0001, label=1)\n",
    "\n",
    "pos = 0.016\n",
    "test_phantom.add_tissue(water, mask=np.ones(test_phantom.matrix_dims))\n",
    "\n",
    "test_phantom.add_tissue_sphere((0, 0, 0), 8, wire)\n",
    "test_phantom.add_tissue_sphere((pos, 0, 0), 16, wire)\n",
    "test_phantom.add_tissue_sphere((0, pos, 0), 8, wire)\n",
    "test_phantom.add_tissue_sphere((pos, pos, 0), 4, wire)\n",
    "\n",
    "test_phantom.set_default_tissue(\"water\")\n",
    "test = test_phantom.get_complete()"
   ]
  },
  {
   "cell_type": "code",
   "execution_count": null,
   "metadata": {},
   "outputs": [],
   "source": [
    "plt.imshow(test[0, :, :, test_phantom.matrix_dims[2] // 2])\n",
    "\n",
    "plt.gca().set_xticks(np.linspace(0, test_phantom.matrix_dims[1], 9))\n",
    "plt.gca().set_yticks(np.linspace(0, test_phantom.matrix_dims[0], 9))\n",
    "plt.gca().grid(color=\"w\", linestyle=\"-\", linewidth=0.1)"
   ]
  },
  {
   "cell_type": "code",
   "execution_count": null,
   "metadata": {},
   "outputs": [],
   "source": [
    "num_transducers = 2\n",
    "transducers = [\n",
    "    transducer.Planewave(\n",
    "        max_frequency=2e6,\n",
    "        elements=256,\n",
    "        width=36e-3,\n",
    "        height=10e-3,\n",
    "        sensor_sampling_scheme=\"not_centroid\",\n",
    "        sweep=np.pi / 4,\n",
    "        ray_num=5,\n",
    "        imaging_ndims=2,\n",
    "        focus_elevation=50e-3,\n",
    "    )\n",
    "    for i in range(num_transducers)\n",
    "]\n",
    "\n",
    "for t in transducers:\n",
    "    t.make_sensor_coords(test_phantom.baseline[0])"
   ]
  },
  {
   "cell_type": "code",
   "execution_count": null,
   "metadata": {},
   "outputs": [],
   "source": [
    "cont_transducer_set = transducer_set.TransducerSet(transducers, seed=8888)\n",
    "cont_transducer_set.assign_pose(0, geometry.Transform([0, 0, 0], [-0.02, 0, 0]))\n",
    "cont_transducer_set.assign_pose(1, geometry.Transform([np.pi / 2, 0, 0], [0, -0.02, 0]))\n",
    "\n",
    "\n",
    "cont_transducer_set.plot_transducer_fovs(scale=0.1)\n",
    "cont_transducer_set.plot_transducer_coords(scale=0.1)"
   ]
  },
  {
   "cell_type": "code",
   "execution_count": null,
   "metadata": {},
   "outputs": [],
   "source": [
    "extended_sensor = sensor.Sensor(\n",
    "    transducer_set=cont_transducer_set, aperture_type=\"extended_aperture\"\n",
    ")\n",
    "tar_sensor = sensor.Sensor(\n",
    "    transducer_set=cont_transducer_set, aperture_type=\"transmit_as_receive\"\n",
    ")"
   ]
  },
  {
   "cell_type": "code",
   "execution_count": null,
   "metadata": {},
   "outputs": [],
   "source": [
    "simprops = simulation.SimProperties(\n",
    "    grid_size=(50e-3, 50e-3, 20e-3),\n",
    "    PML_size=(16, 8, 8),\n",
    "    PML_alpha=2,\n",
    "    t_end=12e-5,  # [s]\n",
    "    bona=6,  # parameter b/a determining degree of nonlinear acoustic effects\n",
    "    alpha_coeff=0.5,  # [dB/(MHz^y cm)]\n",
    "    alpha_power=1.5,\n",
    ")"
   ]
  },
  {
   "cell_type": "code",
   "execution_count": null,
   "metadata": {},
   "outputs": [],
   "source": [
    "extended_experiment = experiment.Experiment(\n",
    "    simulation_path=\"extended_aperture_spheres\",\n",
    "    sim_properties=simprops,\n",
    "    phantom=test_phantom,\n",
    "    transducer_set=cont_transducer_set,\n",
    "    sensor=extended_sensor,\n",
    "    nodes=1,\n",
    "    results=None,\n",
    "    indices=None,\n",
    "    workers=2,\n",
    "    additional_keys=[],\n",
    ")\n",
    "\n",
    "tar_experiment = experiment.Experiment(\n",
    "    simulation_path=\"tar_aperture_spheres\",\n",
    "    sim_properties=simprops,\n",
    "    phantom=test_phantom,\n",
    "    transducer_set=cont_transducer_set,\n",
    "    sensor=tar_sensor,\n",
    "    nodes=1,\n",
    "    results=None,\n",
    "    indices=None,\n",
    "    workers=2,\n",
    "    additional_keys=[],\n",
    ")\n",
    "\n",
    "extended_experiment.save()\n",
    "tar_experiment.save()"
   ]
  },
  {
   "cell_type": "code",
   "execution_count": null,
   "metadata": {},
   "outputs": [],
   "source": [
    "gm = extended_experiment.visualize_sensor_mask(\n",
    "    index=[slice(0, -1, 1), slice(0, -1, 1), test_phantom.matrix_dims[2] // 2 + 1]\n",
    ")\n",
    "plt.gca().set_title(\"aperture\")\n",
    "plt.gca().set_xticks([-1, 256])\n",
    "plt.gca().set_xticklabels([\"0\", \"0.064\"])\n",
    "plt.gca().set_yticks([0, 256])\n",
    "plt.gca().set_yticklabels([\"0.064\", \"0\"])\n",
    "plt.savefig(\"spheres_phantom.png\", dpi=300, bbox_inches=\"tight\")"
   ]
  },
  {
   "cell_type": "code",
   "execution_count": null,
   "metadata": {},
   "outputs": [],
   "source": [
    "extended_experiment.plot_ray_path(0)"
   ]
  },
  {
   "cell_type": "code",
   "execution_count": null,
   "metadata": {},
   "outputs": [],
   "source": [
    "test_experiment = experiment.Experiment.load(\"tar_aperture_spheres\")\n",
    "test_experiment.run(dry=True)\n",
    "test_experiment.run(repeat=True)"
   ]
  },
  {
   "cell_type": "code",
   "execution_count": null,
   "metadata": {},
   "outputs": [],
   "source": [
    "test_experiment = experiment.Experiment.load(\"extended_aperture_spheres\")\n",
    "test_experiment.run(dry=True)\n",
    "test_experiment.run(repeat=True)"
   ]
  },
  {
   "cell_type": "markdown",
   "metadata": {},
   "source": [
    "# Reconstruction"
   ]
  },
  {
   "cell_type": "code",
   "execution_count": null,
   "metadata": {},
   "outputs": [],
   "source": [
    "test_experiment = experiment.Experiment.load(\"tar_aperture_spheres\")\n",
    "test_experiment.run(dry=True)\n",
    "test_experiment.add_results()\n",
    "test_reconstruction = reconstruction.Compounding(experiment=test_experiment)"
   ]
  },
  {
   "cell_type": "code",
   "execution_count": null,
   "metadata": {},
   "outputs": [],
   "source": [
    "images1 = test_reconstruction.compound(\n",
    "    workers=1, resolution_multiplier=2, local=True, combine=False\n",
    ")"
   ]
  },
  {
   "cell_type": "code",
   "execution_count": 4,
   "metadata": {},
   "outputs": [],
   "source": [
    "image1 = np.sum(images1, axis=0) / len(images1)\n",
    "image1t1 = np.sum(images1[: len(images1) // 2], axis=0) / (len(images1) // 2)\n",
    "image1t2 = np.sum(images1[len(images1) // 2 :], axis=0) / (len(images1) // 2)\n",
    "image1_mult = np.multiply(image1t1, image1t2)"
   ]
  },
  {
   "cell_type": "code",
   "execution_count": null,
   "metadata": {},
   "outputs": [],
   "source": [
    "from scipy.interpolate import NearestNDInterpolator\n",
    "\n",
    "sensor = test_experiment.get_sensor_mask()\n",
    "x = []\n",
    "y = []\n",
    "z = []\n",
    "for i in tqdm.tqdm(range(sensor.shape[0])):\n",
    "    for j in range(sensor.shape[1]):\n",
    "        x.append(i)\n",
    "        y.append(j)\n",
    "        z.append(sensor[i, j, :].sum(axis=-1))\n",
    "X = np.linspace(0, sensor.shape[0], image1.shape[0])\n",
    "Y = np.linspace(0, sensor.shape[1], image1.shape[1])\n",
    "X, Y = np.meshgrid(X, Y, indexing=\"ij\")  # 2D grid for interpolation\n",
    "interp = NearestNDInterpolator(list(zip(x, y)), z)\n",
    "Z = interp(X, Y)\n",
    "sensor_mask = Z\n",
    "sensor_mask1 = sensor_mask.copy()\n",
    "sensor_mask1[65:] = 0\n",
    "sensor_mask2 = sensor_mask.copy()\n",
    "sensor_mask2[:, 65:] = 0"
   ]
  },
  {
   "cell_type": "code",
   "execution_count": null,
   "metadata": {},
   "outputs": [],
   "source": [
    "fig, ax = plt.subplots(2, 1, figsize=(2.5, 5))\n",
    "contour_cmap = plt.cm.get_cmap(\"plasma\")\n",
    "\n",
    "psf = 20 * np.log10(image1t1 / 1000000)\n",
    "image = psf[:, :, psf.shape[2] // 2]\n",
    "\n",
    "im = ax[0].imshow(image, cmap=\"gray_r\", vmin=-100, vmax=-50)\n",
    "ax[0].imshow(sensor_mask1, cmap=\"cool_r\", alpha=(sensor_mask1 > 0) * 1.0)\n",
    "CS = ax[0].contour(\n",
    "    image, cmap=contour_cmap, linewidths=0.5, levels=[-90, -85, -80, -75, -70, -65, -60]\n",
    ")\n",
    "\n",
    "ax[0].set_title(\"sequential t1\")\n",
    "\n",
    "psf = 20 * np.log10(image1t2 / 1000000)\n",
    "image = psf[:, :, psf.shape[2] // 2]\n",
    "\n",
    "im = ax[1].imshow(image, cmap=\"gray_r\", vmin=-100, vmax=-50)\n",
    "ax[1].imshow(sensor_mask2, cmap=\"cool_r\", alpha=(sensor_mask2 > 0) * 1.0)\n",
    "CS = ax[1].contour(\n",
    "    image, cmap=contour_cmap, linewidths=0.5, levels=[-90, -85, -80, -75, -70, -65, -60]\n",
    ")\n",
    "\n",
    "ax[1].set_title(\"sequential t2\")\n",
    "\n",
    "# plt.colorbar(im, cax=ax.inset_axes([1.035, 0, 0.04, 1]), label='dB', ticks=[-100,-75,-70,-65,-60,-55,-50,0])\n",
    "# proxy = [plt.Rectangle((0,0),1,1,fc = pc.get_edgecolor()[0]) for pc in CS.collections]\n",
    "# plt.legend(proxy[::-1], ['','','','','',''][::-1], frameon=False, handlelength=1, handleheight=0.01, fontsize=10, bbox_to_anchor=(1.138, 0.55), labelspacing = 0.33)\n",
    "# ax.clabel(CS, inline=True, fontsize=10)\n",
    "\n",
    "ax[0].set_xticks([])\n",
    "ax[0].set_yticks([])\n",
    "ax[1].set_xticks([])\n",
    "ax[1].set_yticks([])\n",
    "if overwrite_figures:\n",
    "    plt.savefig(\n",
    "        \"sequential_aperture_individual_spheres.png\", dpi=300, bbox_inches=\"tight\"\n",
    "    )"
   ]
  },
  {
   "cell_type": "code",
   "execution_count": null,
   "metadata": {},
   "outputs": [],
   "source": [
    "psf = 20 * np.log10(image1 / 1000000)\n",
    "image = psf[:, :, psf.shape[2] // 2]\n",
    "\n",
    "fig, ax = plt.subplots()\n",
    "contour_cmap = plt.cm.get_cmap(\"plasma\")\n",
    "\n",
    "im = ax.imshow(image, cmap=\"gray_r\", vmin=-100, vmax=-50)\n",
    "ax.imshow(sensor_mask, cmap=\"cool_r\", alpha=(sensor_mask > 0) * 1.0)\n",
    "CS = ax.contour(\n",
    "    image, cmap=contour_cmap, linewidths=0.5, levels=[-90, -85, -80, -75, -70, -65, -60]\n",
    ")\n",
    "\n",
    "ax.set_title(\"sequential averaged\")\n",
    "\n",
    "# plt.colorbar(im, cax=ax.inset_axes([1.035, 0, 0.04, 1]), label='dB', ticks=[-100,-75,-70,-65,-60,-55,-50,0])\n",
    "# proxy = [plt.Rectangle((0,0),1,1,fc = pc.get_edgecolor()[0]) for pc in CS.collections]\n",
    "# plt.legend(proxy[::-1], ['','','','','',''][::-1], frameon=False, handlelength=1, handleheight=0.01, fontsize=10, bbox_to_anchor=(1.138, 0.55), labelspacing = 0.33)\n",
    "# ax.clabel(CS, inline=True, fontsize=10)\n",
    "\n",
    "ax.set_xticks([])\n",
    "ax.set_yticks([])\n",
    "if overwrite_figures:\n",
    "    plt.savefig(\"sequential_aperture_spheres.png\", dpi=300, bbox_inches=\"tight\")"
   ]
  },
  {
   "cell_type": "code",
   "execution_count": null,
   "metadata": {},
   "outputs": [],
   "source": [
    "test_experiment = experiment.Experiment.load(\"extended_aperture_spheres\")\n",
    "test_experiment.run(dry=True)\n",
    "test_experiment.add_results()\n",
    "test_reconstruction = reconstruction.Compounding(experiment=test_experiment)"
   ]
  },
  {
   "cell_type": "code",
   "execution_count": null,
   "metadata": {},
   "outputs": [],
   "source": [
    "images2 = test_reconstruction.compound(\n",
    "    workers=1, resolution_multiplier=2, local=True, combine=False\n",
    ")"
   ]
  },
  {
   "cell_type": "code",
   "execution_count": 10,
   "metadata": {},
   "outputs": [],
   "source": [
    "image2 = np.sum(images2, axis=0) / len(images2)\n",
    "image2t1 = np.sum(images2[: len(images2) // 2], axis=0) / (len(images2) // 2)\n",
    "image2t2 = np.sum(images2[len(images2) // 2 :], axis=0) / (len(images2) // 2)\n",
    "image2_mult = np.multiply(image2t1, image2t2)"
   ]
  },
  {
   "cell_type": "code",
   "execution_count": null,
   "metadata": {},
   "outputs": [],
   "source": [
    "from scipy.interpolate import NearestNDInterpolator\n",
    "\n",
    "sensor = test_experiment.get_sensor_mask()\n",
    "x = []\n",
    "y = []\n",
    "z = []\n",
    "for i in tqdm.tqdm(range(sensor.shape[0])):\n",
    "    for j in range(sensor.shape[1]):\n",
    "        x.append(i)\n",
    "        y.append(j)\n",
    "        z.append(sensor[i, j, :].sum(axis=-1))\n",
    "X = np.linspace(0, sensor.shape[0], image2.shape[0])\n",
    "Y = np.linspace(0, sensor.shape[1], image2.shape[1])\n",
    "X, Y = np.meshgrid(X, Y, indexing=\"ij\")  # 2D grid for interpolation\n",
    "interp = NearestNDInterpolator(list(zip(x, y)), z)\n",
    "Z = interp(X, Y)\n",
    "sensor_mask = Z\n",
    "sensor_mask1 = sensor_mask.copy()\n",
    "sensor_mask1[65:] = 0\n",
    "sensor_mask2 = sensor_mask.copy()\n",
    "sensor_mask2[:, 65:] = 0"
   ]
  },
  {
   "cell_type": "code",
   "execution_count": null,
   "metadata": {},
   "outputs": [],
   "source": [
    "fig, ax = plt.subplots(2, 1, figsize=(2.5, 5))\n",
    "contour_cmap = plt.cm.get_cmap(\"plasma\")\n",
    "\n",
    "psf = 20 * np.log10(image2t1 / 1000000)\n",
    "image = psf[:, :, psf.shape[2] // 2]\n",
    "\n",
    "im = ax[0].imshow(image, cmap=\"gray_r\", vmin=-100, vmax=-50)\n",
    "ax[0].imshow(sensor_mask1, cmap=\"cool_r\", alpha=(sensor_mask1 > 0) * 1.0)\n",
    "CS = ax[0].contour(\n",
    "    image, cmap=contour_cmap, linewidths=0.5, levels=[-90, -85, -80, -75, -70, -65, -60]\n",
    ")\n",
    "\n",
    "ax[0].set_title(\"synchronous t1\")\n",
    "\n",
    "psf = 20 * np.log10(image2t2 / 1000000)\n",
    "image = psf[:, :, psf.shape[2] // 2]\n",
    "\n",
    "im = ax[1].imshow(image, cmap=\"gray_r\", vmin=-100, vmax=-50)\n",
    "ax[1].imshow(sensor_mask2, cmap=\"cool_r\", alpha=(sensor_mask2 > 0) * 1.0)\n",
    "CS = ax[1].contour(\n",
    "    image, cmap=contour_cmap, linewidths=0.5, levels=[-90, -85, -80, -75, -70, -65, -60]\n",
    ")\n",
    "\n",
    "ax[1].set_title(\"synchronous t2\")\n",
    "\n",
    "# plt.colorbar(im, cax=ax.inset_axes([1.035, 0, 0.04, 1]), label='dB', ticks=[-100,-75,-70,-65,-60,-55,-50,0])\n",
    "# proxy = [plt.Rectangle((0,0),1,1,fc = pc.get_edgecolor()[0]) for pc in CS.collections]\n",
    "# plt.legend(proxy[::-1], ['','','','','',''][::-1], frameon=False, handlelength=1, handleheight=0.01, fontsize=10, bbox_to_anchor=(1.138, 0.55), labelspacing = 0.33)\n",
    "# ax.clabel(CS, inline=True, fontsize=10)\n",
    "\n",
    "ax[0].set_xticks([])\n",
    "ax[0].set_yticks([])\n",
    "ax[1].set_xticks([])\n",
    "ax[1].set_yticks([])\n",
    "if overwrite_figures:\n",
    "    plt.savefig(\n",
    "        \"synchronous_aperture_individual_spheres.png\", dpi=300, bbox_inches=\"tight\"\n",
    "    )"
   ]
  },
  {
   "cell_type": "code",
   "execution_count": null,
   "metadata": {},
   "outputs": [],
   "source": [
    "psf = 20 * np.log10(image2 / 1000000)\n",
    "image = psf[:, :, psf.shape[2] // 2]\n",
    "\n",
    "fig, ax = plt.subplots()\n",
    "contour_cmap = plt.cm.get_cmap(\"plasma\")\n",
    "\n",
    "im = ax.imshow(image, cmap=\"gray_r\", vmin=-100, vmax=-50)\n",
    "ax.imshow(sensor_mask, cmap=\"cool_r\", alpha=(sensor_mask > 0) * 1.0)\n",
    "CS = ax.contour(\n",
    "    image, cmap=contour_cmap, linewidths=0.5, levels=[-90, -85, -80, -75, -70, -65, -60]\n",
    ")\n",
    "\n",
    "ax.set_title(\"synchronous averaged\")\n",
    "\n",
    "plt.colorbar(\n",
    "    im,\n",
    "    cax=ax.inset_axes([1.035, 0, 0.04, 1]),\n",
    "    label=\"dB\",\n",
    "    ticks=[-100, -90, -85, -80, -75, -70, -65, -60, -50],\n",
    ")\n",
    "proxy = [plt.Rectangle((0, 0), 1, 1, fc=pc.get_edgecolor()[0]) for pc in CS.collections]\n",
    "plt.legend(\n",
    "    proxy[::-1],\n",
    "    [\"\", \"\", \"\", \"\", \"\", \"\", \"\", \"\"][::-1],\n",
    "    frameon=False,\n",
    "    handlelength=1,\n",
    "    handleheight=0.01,\n",
    "    fontsize=10,\n",
    "    bbox_to_anchor=(1.138, 0.85),\n",
    "    labelspacing=1.66,\n",
    ")\n",
    "# ax.clabel(CS, inline=True, fontsize=10)\n",
    "\n",
    "ax.set_xticks([])\n",
    "ax.set_yticks([])\n",
    "if overwrite_figures:\n",
    "    plt.savefig(\"synchronous_aperture_spheres.png\", dpi=300, bbox_inches=\"tight\")"
   ]
  },
  {
   "cell_type": "code",
   "execution_count": null,
   "metadata": {},
   "outputs": [],
   "source": []
  },
  {
   "cell_type": "code",
   "execution_count": null,
   "metadata": {},
   "outputs": [],
   "source": []
  },
  {
   "cell_type": "code",
   "execution_count": null,
   "metadata": {},
   "outputs": [],
   "source": []
  }
 ],
 "metadata": {
  "kernelspec": {
   "display_name": "musik",
   "language": "python",
   "name": "python3"
  },
  "language_info": {
   "codemirror_mode": {
    "name": "ipython",
    "version": 3
   },
   "file_extension": ".py",
   "mimetype": "text/x-python",
   "name": "python",
   "nbconvert_exporter": "python",
   "pygments_lexer": "ipython3",
   "version": "3.9.18"
  }
 },
 "nbformat": 4,
 "nbformat_minor": 2
}

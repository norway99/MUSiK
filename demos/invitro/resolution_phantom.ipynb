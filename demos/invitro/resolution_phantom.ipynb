{
 "cells": [
  {
   "cell_type": "code",
   "execution_count": null,
   "metadata": {},
   "outputs": [],
   "source": [
    "import sys\n",
    "import os\n",
    "\n",
    "parent = os.path.dirname(os.path.realpath('../'))\n",
    "sys.path.append(parent)\n",
    "\n",
    "import numpy as np\n",
    "import scipy\n",
    "import tqdm\n",
    "import open3d as o3d\n",
    "import matplotlib.pyplot as plt\n",
    "import glob\n",
    "\n",
    "from core import *\n",
    "from utils import phantom_builder\n",
    "from utils import geometry\n",
    "from utils import utils\n",
    "\n",
    "os.environ[\"CUDA_DEVICE_ORDER\"]=\"PCI_BUS_ID\"\n",
    "os.environ[\"CUDA_VISIBLE_DEVICES\"]=\"0\"\n",
    "\n",
    "overwrite_figures = True"
   ]
  },
  {
   "cell_type": "code",
   "execution_count": 111,
   "metadata": {},
   "outputs": [],
   "source": [
    "test_phantom = phantom.Phantom(source_path = None,\n",
    "            voxel_dims = (0.5e-3,0.5e-3,0.5e-3),\n",
    "            matrix_dims = (256,256,128),\n",
    "            baseline = (1500, 1000),\n",
    "            seed = 5678,)\n",
    "\n",
    "water = tissue.Tissue(name='water', c=1500, rho=1000, sigma=0, scale=0.001, label=0)\n",
    "wire = tissue.Tissue(name='wire', c=2400, rho=1500, sigma=0, scale=0.001, label=1)\n",
    "\n",
    "pos = 0.016\n",
    "test_phantom.add_tissue(water, mask=np.ones(test_phantom.matrix_dims))\n",
    "\n",
    "wire_mask = np.zeros(test_phantom.matrix_dims)\n",
    "for i in range(3,8): # horizontal near\n",
    "    wire_mask[int(0.01/test_phantom.voxel_dims[0]*4),int(0.01/test_phantom.voxel_dims[0]*i),:] = 1\n",
    "for i in range(3,8): # horizontal mid\n",
    "    wire_mask[int(0.01/test_phantom.voxel_dims[0]*8),int(0.01/test_phantom.voxel_dims[0]*i),:] = 1\n",
    "for i in range(3,8): # horizontal far\n",
    "    wire_mask[int(0.01/test_phantom.voxel_dims[0]*12),int(0.01/test_phantom.voxel_dims[0]*i),:] = 1\n",
    "for i in range(4,12): # vertical\n",
    "    wire_mask[int(0.01/test_phantom.voxel_dims[0]*i),int(0.01/test_phantom.voxel_dims[0]*6),:] = 1\n",
    "\n",
    "for i in range(0,7): # far sweep\n",
    "    wire_mask[120, 180 - int((0.001 / test_phantom.voxel_dims[0] * i) ** 1.5),:] = 1\n",
    "    wire_mask[118 - int((0.0007 / test_phantom.voxel_dims[0] * (6-i)) ** 1.5), 180 - int((0.001 / test_phantom.voxel_dims[0] * i) ** 1.5),:] = 1\n",
    "    \n",
    "for i in range(0,7): # far sweep\n",
    "    wire_mask[200, 180 - int((0.001 / test_phantom.voxel_dims[0] * i) ** 1.5),:] = 1\n",
    "    wire_mask[198 - int((0.0007 / test_phantom.voxel_dims[0] * (6-i)) ** 1.5), 180 - int((0.001 / test_phantom.voxel_dims[0] * i) ** 1.5),:] = 1\n",
    "    \n",
    "test_phantom.add_tissue(wire, mask=wire_mask)\n",
    "test_phantom.set_default_tissue('water')\n",
    "test = test_phantom.get_complete()"
   ]
  },
  {
   "cell_type": "code",
   "execution_count": null,
   "metadata": {},
   "outputs": [],
   "source": [
    "plt.imshow(test[0,:,:,test_phantom.matrix_dims[2]//2])\n",
    "\n",
    "plt.gca().set_xticks(np.linspace(0, test_phantom.matrix_dims[1],9))\n",
    "plt.gca().set_yticks(np.linspace(0, test_phantom.matrix_dims[0],9))\n",
    "plt.gca().grid(color='w', linestyle='-', linewidth=0.1)"
   ]
  },
  {
   "cell_type": "code",
   "execution_count": 113,
   "metadata": {},
   "outputs": [],
   "source": [
    "num_transducers = 3\n",
    "transducers = [transducer.Planewave(max_frequency=2e6,\n",
    "                                    elements = 256, \n",
    "                                    width = 40e-3,\n",
    "                                    height =  20e-3,\n",
    "                                    sensor_sampling_scheme = 'not_centroid', \n",
    "                                    sweep = np.pi/4,\n",
    "                                    ray_num = 5,\n",
    "                                    imaging_ndims = 2,\n",
    "                                    focus_elevation = 100e-3,\n",
    "                                    ) for i in range(num_transducers)]\n",
    "\n",
    "for t in transducers:\n",
    "    t.make_sensor_coords(test_phantom.baseline[0])"
   ]
  },
  {
   "cell_type": "code",
   "execution_count": null,
   "metadata": {},
   "outputs": [],
   "source": [
    "cont_transducer_set = transducer_set.TransducerSet(transducers, seed=8888)\n",
    "cont_transducer_set.assign_pose(0, geometry.Transform([-np.pi/8,0,0], [-0.042,0.042,0]))\n",
    "cont_transducer_set.assign_pose(1, geometry.Transform([0,0,0], [-0.05,0,0]))\n",
    "cont_transducer_set.assign_pose(2, geometry.Transform([np.pi/8,0,0], [-0.042,-0.042,0]))\n",
    "\n",
    "cont_transducer_set.plot_transducer_fovs(scale=0.1)\n",
    "cont_transducer_set.plot_transducer_coords(scale=0.1)"
   ]
  },
  {
   "cell_type": "code",
   "execution_count": 115,
   "metadata": {},
   "outputs": [],
   "source": [
    "extended_sensor = sensor.Sensor(transducer_set=cont_transducer_set, aperture_type='extended_aperture')\n",
    "tar_sensor = sensor.Sensor(transducer_set=cont_transducer_set, aperture_type='transmit_as_receive')"
   ]
  },
  {
   "cell_type": "code",
   "execution_count": 116,
   "metadata": {},
   "outputs": [],
   "source": [
    "simprops = simulation.SimProperties(\n",
    "                grid_size   = (100e-3,110e-3,30e-3),\n",
    "                PML_size    = (16,8,8),\n",
    "                PML_alpha   = 2,\n",
    "                t_end       = 12e-5,           # [s]\n",
    "                bona        = 6,               # parameter b/a determining degree of nonlinear acoustic effects\n",
    "                alpha_coeff = 0.5, \t           # [dB/(MHz^y cm)]\n",
    "                alpha_power = 1.5,\n",
    "                )"
   ]
  },
  {
   "cell_type": "code",
   "execution_count": 117,
   "metadata": {},
   "outputs": [],
   "source": [
    "extended_experiment = experiment.Experiment(\n",
    "                 simulation_path = 'synchronous_aperture_resolution',\n",
    "                 sim_properties  = simprops,\n",
    "                 phantom         = test_phantom,\n",
    "                 transducer_set  = cont_transducer_set,\n",
    "                 sensor          = extended_sensor,\n",
    "                 nodes           = 1,\n",
    "                 results         = None,\n",
    "                 indices         = None,\n",
    "                 workers         = 3,\n",
    "                 additional_keys = []\n",
    "                 )\n",
    "\n",
    "tar_experiment = experiment.Experiment(\n",
    "                 simulation_path = 'sequential_aperture_resolution',\n",
    "                 sim_properties  = simprops,\n",
    "                 phantom         = test_phantom,\n",
    "                 transducer_set  = cont_transducer_set,\n",
    "                 sensor          = tar_sensor,\n",
    "                 nodes           = 1,\n",
    "                 results         = None,\n",
    "                 indices         = None,\n",
    "                 workers         = 3,\n",
    "                 additional_keys = []\n",
    "                 )\n",
    "\n",
    "extended_experiment.save()\n",
    "tar_experiment.save()"
   ]
  },
  {
   "cell_type": "code",
   "execution_count": null,
   "metadata": {},
   "outputs": [],
   "source": [
    "gm = extended_experiment.visualize_sensor_mask(index=[slice(0, -1, 1), slice(0, -1, 1), test_phantom.matrix_dims[2]//2+1])\n",
    "plt.gca().set_title('aperture')\n",
    "plt.gca().set_xticks([-1,256])\n",
    "plt.gca().set_xticklabels(['0','0.128'])\n",
    "plt.gca().set_yticks([0,256])\n",
    "plt.gca().set_yticklabels(['0.128','0'])\n",
    "plt.savefig('resolution_phantom.png', dpi=300, bbox_inches=\"tight\")"
   ]
  },
  {
   "cell_type": "code",
   "execution_count": null,
   "metadata": {},
   "outputs": [],
   "source": [
    "extended_experiment.plot_ray_path(0)"
   ]
  },
  {
   "cell_type": "code",
   "execution_count": null,
   "metadata": {},
   "outputs": [],
   "source": [
    "test_experiment = experiment.Experiment.load('sequential_aperture_resolution')\n",
    "test_experiment.run(dry=True)\n",
    "test_experiment.run(repeat=True)"
   ]
  },
  {
   "cell_type": "code",
   "execution_count": null,
   "metadata": {},
   "outputs": [],
   "source": [
    "test_experiment = experiment.Experiment.load('synchronous_aperture_resolution')\n",
    "test_experiment.run(dry=True)\n",
    "test_experiment.run(repeat=True)"
   ]
  },
  {
   "cell_type": "markdown",
   "metadata": {},
   "source": [
    "# Reconstruction"
   ]
  },
  {
   "cell_type": "code",
   "execution_count": null,
   "metadata": {},
   "outputs": [],
   "source": [
    "test_experiment = experiment.Experiment.load('sequential_aperture_resolution')\n",
    "test_experiment.run(dry=True)\n",
    "test_experiment.add_results()\n",
    "test_reconstruction = reconstruction.Compounding(experiment=test_experiment)"
   ]
  },
  {
   "cell_type": "code",
   "execution_count": null,
   "metadata": {},
   "outputs": [],
   "source": [
    "images1 = test_reconstruction.compound(workers=1, resolution_multiplier=2, combine=False)"
   ]
  },
  {
   "cell_type": "code",
   "execution_count": 5,
   "metadata": {},
   "outputs": [],
   "source": [
    "image1 = np.sum(images1, axis=0)/len(images1)\n",
    "image1t1 = np.sum(images1[:len(images1)//3], axis=0)/(len(images1)//3)\n",
    "image1t2 = np.sum(images1[len(images1)//3:2*len(images1)//3], axis=0)/(len(images1)//3)\n",
    "image1t3 = np.sum(images1[2*len(images1)//3:], axis=0)/(len(images1)//3)"
   ]
  },
  {
   "cell_type": "code",
   "execution_count": null,
   "metadata": {},
   "outputs": [],
   "source": [
    "from scipy.interpolate import NearestNDInterpolator\n",
    "sensor = test_experiment.get_sensor_mask()\n",
    "x = []\n",
    "y = []\n",
    "z = []\n",
    "for i in tqdm.tqdm(range(sensor.shape[0])):\n",
    "    for j in range(sensor.shape[1]):\n",
    "        x.append(i)\n",
    "        y.append(j)\n",
    "        z.append(sensor[i,j,:].sum(axis=-1))\n",
    "X = np.linspace(0, sensor.shape[0], image1.shape[0])\n",
    "Y = np.linspace(0, sensor.shape[1], image1.shape[1])\n",
    "X, Y = np.meshgrid(X, Y, indexing='ij')  # 2D grid for interpolation\n",
    "interp = NearestNDInterpolator(list(zip(x, y)), z)\n",
    "Z = interp(X, Y)\n",
    "sensor_mask = Z\n",
    "sensor_mask3 = sensor_mask.copy()\n",
    "sensor_mask3[:,228:] = 0\n",
    "sensor_mask2 = sensor_mask.copy()\n",
    "sensor_mask2[:,:228] = 0\n",
    "sensor_mask2[:,456:] = 0\n",
    "sensor_mask1 = sensor_mask.copy()\n",
    "sensor_mask1[:,:456] = 0"
   ]
  },
  {
   "cell_type": "code",
   "execution_count": null,
   "metadata": {},
   "outputs": [],
   "source": [
    "fig, ax = plt.subplots(3,1, figsize=(2.5,5))\n",
    "contour_cmap = plt.cm.get_cmap('plasma')\n",
    "\n",
    "# psf = 20 * np.log10(image1t1 / 1000000)\n",
    "psf = 20 * np.log10(image1t1 / np.max(image1t1))\n",
    "\n",
    "image = psf[:,:,psf.shape[2]//2]\n",
    "im = ax[0].imshow(image, cmap='gray', vmin=-35, vmax=0)\n",
    "ax[0].imshow(sensor_mask1, cmap='cool_r', alpha=(sensor_mask1>0)*1.0)\n",
    "CS = ax[0].contour(image, cmap=contour_cmap, linewidths=0.5, levels = [-25,-20,-15,-10,-5])\n",
    "ax[0].set_title('sequential t1', fontsize=10)\n",
    "\n",
    "# psf = 20 * np.log10(image1t2 / 1000000)\n",
    "psf = 20 * np.log10(image1t2 / np.max(image1t2))\n",
    "image = psf[:,:,psf.shape[2]//2]\n",
    "im = ax[1].imshow(image, cmap='gray', vmin=-35, vmax=0)\n",
    "ax[1].imshow(sensor_mask2, cmap='cool_r', alpha=(sensor_mask2>0)*1.0)\n",
    "CS = ax[1].contour(image, cmap=contour_cmap, linewidths=0.5, levels = [-25,-20,-15,-10,-5])\n",
    "ax[1].set_title('sequential t2', fontsize=10)\n",
    "\n",
    "# psf = 20 * np.log10(image1t3 / 1000000)\n",
    "psf = 20 * np.log10(image1t3 / np.max(image1t3))\n",
    "image = psf[:,:,psf.shape[2]//2]\n",
    "im = ax[2].imshow(image, cmap='gray', vmin=-35, vmax=0)\n",
    "ax[2].imshow(sensor_mask3, cmap='cool_r', alpha=(sensor_mask3>0)*1.0)\n",
    "CS = ax[2].contour(image, cmap=contour_cmap, linewidths=0.5, levels = [-25,-20,-15,-10,-5])\n",
    "ax[2].set_title('sequential t3', fontsize=10)\n",
    "\n",
    "ax[0].set_xticks([])\n",
    "ax[0].set_yticks([])\n",
    "ax[1].set_xticks([])\n",
    "ax[1].set_yticks([])\n",
    "ax[2].set_xticks([])\n",
    "ax[2].set_yticks([])\n",
    "if overwrite_figures:\n",
    "    plt.savefig('sequential_aperture_individual_resolution.png', dpi=300, bbox_inches=\"tight\")"
   ]
  },
  {
   "cell_type": "code",
   "execution_count": null,
   "metadata": {},
   "outputs": [],
   "source": [
    "# psf = 20 * np.log10(image1 / 1000000)\n",
    "psf = 20 * np.log10(image1 / np.max(image1))\n",
    "image = psf[:,:,psf.shape[2]//2]\n",
    "\n",
    "fig, ax = plt.subplots()\n",
    "contour_cmap = plt.cm.get_cmap('plasma')\n",
    "\n",
    "im = ax.imshow(image, cmap='gray', vmin=-35, vmax=0)\n",
    "ax.imshow(sensor_mask, cmap='cool_r', alpha=(sensor_mask>0)*1.0)\n",
    "CS = ax.contour(image, cmap=contour_cmap, linewidths=0.5, levels = [-25,-20,-15,-10,-5,0])\n",
    "\n",
    "ax.set_title('sequential averaged')\n",
    "\n",
    "ax.set_xticks([])\n",
    "ax.set_yticks([])\n",
    "if overwrite_figures:\n",
    "    plt.savefig('sequential_aperture_resolution.png', dpi=300, bbox_inches=\"tight\")"
   ]
  },
  {
   "cell_type": "code",
   "execution_count": null,
   "metadata": {},
   "outputs": [],
   "source": [
    "test_experiment = experiment.Experiment.load('synchronous_aperture_resolution')\n",
    "test_experiment.run(dry=True)\n",
    "test_experiment.add_results()\n",
    "test_reconstruction = reconstruction.Compounding(experiment=test_experiment)"
   ]
  },
  {
   "cell_type": "code",
   "execution_count": null,
   "metadata": {},
   "outputs": [],
   "source": [
    "images2 = test_reconstruction.compound(workers=1, resolution_multiplier=2, combine=False)"
   ]
  },
  {
   "cell_type": "code",
   "execution_count": 13,
   "metadata": {},
   "outputs": [],
   "source": [
    "image2 = np.sum(images2, axis=0)/len(images2)\n",
    "image2t1 = np.sum(images2[:len(images2)//3], axis=0)/(len(images2)//3)\n",
    "image2t2 = np.sum(images2[len(images2)//3:2*len(images2)//3], axis=0)/(len(images2)//3)\n",
    "image2t3 = np.sum(images2[2*len(images2)//3:], axis=0)/(len(images2)//3)\n"
   ]
  },
  {
   "cell_type": "code",
   "execution_count": null,
   "metadata": {},
   "outputs": [],
   "source": [
    "from scipy.interpolate import NearestNDInterpolator\n",
    "sensor = test_experiment.get_sensor_mask()\n",
    "x = []\n",
    "y = []\n",
    "z = []\n",
    "for i in tqdm.tqdm(range(sensor.shape[0])):\n",
    "    for j in range(sensor.shape[1]):\n",
    "        x.append(i)\n",
    "        y.append(j)\n",
    "        z.append(sensor[i,j,:].sum(axis=-1))\n",
    "X = np.linspace(0, sensor.shape[0], image1.shape[0])\n",
    "Y = np.linspace(0, sensor.shape[1], image1.shape[1])\n",
    "X, Y = np.meshgrid(X, Y, indexing='ij')  # 2D grid for interpolation\n",
    "interp = NearestNDInterpolator(list(zip(x, y)), z)\n",
    "Z = interp(X, Y)\n",
    "sensor_mask = Z\n",
    "sensor_mask3 = sensor_mask.copy()\n",
    "sensor_mask3[:,228:] = 0\n",
    "sensor_mask2 = sensor_mask.copy()\n",
    "sensor_mask2[:,:228] = 0\n",
    "sensor_mask2[:,456:] = 0\n",
    "sensor_mask1 = sensor_mask.copy()\n",
    "sensor_mask1[:,:456] = 0"
   ]
  },
  {
   "cell_type": "code",
   "execution_count": null,
   "metadata": {},
   "outputs": [],
   "source": [
    "fig, ax = plt.subplots(3,1, figsize=(2.5,5))\n",
    "contour_cmap = plt.cm.get_cmap('plasma')\n",
    "\n",
    "# psf = 20 * np.log10(image2t1 / 1000000)\n",
    "psf = 20 * np.log10(image2t1 / np.max(image2t1))\n",
    "image = psf[:,:,psf.shape[2]//2]\n",
    "im = ax[0].imshow(image, cmap='gray', vmin=-35, vmax=0)\n",
    "ax[0].imshow(sensor_mask1, cmap='cool_r', alpha=(sensor_mask1>0)*1.0)\n",
    "CS = ax[0].contour(image, cmap=contour_cmap, linewidths=0.5, levels = [-25,-20,-15,-10,-5])\n",
    "ax[0].set_title('synchronous t1', fontsize=10)\n",
    "\n",
    "# psf = 20 * np.log10(image2t2 / 1000000)\n",
    "psf = 20 * np.log10(image2t2 / np.max(image2t2))\n",
    "image = psf[:,:,psf.shape[2]//2]\n",
    "im = ax[1].imshow(image, cmap='gray', vmin=-35, vmax=0)\n",
    "ax[1].imshow(sensor_mask2, cmap='cool_r', alpha=(sensor_mask2>0)*1.0)\n",
    "CS = ax[1].contour(image, cmap=contour_cmap, linewidths=0.5, levels = [-25,-20,-15,-10,-5])\n",
    "ax[1].set_title('synchronous t2', fontsize=10)\n",
    "\n",
    "# psf = 20 * np.log10(image2t3 / 1000000)\n",
    "psf = 20 * np.log10(image2t3 / np.max(image2t3))\n",
    "image = psf[:,:,psf.shape[2]//2]\n",
    "im = ax[2].imshow(image, cmap='gray', vmin=-35, vmax=0)\n",
    "ax[2].imshow(sensor_mask3, cmap='cool_r', alpha=(sensor_mask3>0)*1.0)\n",
    "CS = ax[2].contour(image, cmap=contour_cmap, linewidths=0.5, levels = [-25,-20,-15,-10,-5])\n",
    "ax[2].set_title('synchronous t3', fontsize=10)\n",
    "\n",
    "ax[0].set_xticks([])\n",
    "ax[0].set_yticks([])\n",
    "ax[1].set_xticks([])\n",
    "ax[1].set_yticks([])\n",
    "ax[2].set_xticks([])\n",
    "ax[2].set_yticks([])\n",
    "if overwrite_figures:\n",
    "    plt.savefig('synchronous_aperture_individual_resolution.png', dpi=300, bbox_inches=\"tight\")"
   ]
  },
  {
   "cell_type": "code",
   "execution_count": null,
   "metadata": {},
   "outputs": [],
   "source": [
    "# psf = 20 * np.log10(image2 / 1000000)\n",
    "psf = 20 * np.log10(image2 / np.max(image2))\n",
    "image = psf[:,:,psf.shape[2]//2]\n",
    "\n",
    "fig, ax = plt.subplots()\n",
    "contour_cmap = plt.cm.get_cmap('plasma')\n",
    "\n",
    "im = ax.imshow(image, cmap='gray', vmin=-35, vmax=0)\n",
    "ax.imshow(sensor_mask, cmap='cool_r', alpha=(sensor_mask>0)*1.0)\n",
    "CS = ax.contour(image, cmap=contour_cmap, linewidths=0.5, levels = [-25,-20,-15,-10,-5])\n",
    "\n",
    "ax.set_title('synchronous averaged')\n",
    "\n",
    "plt.colorbar(im, cax=ax.inset_axes([1.035, 0, 0.04, 1]), label='dB', ticks=[-35,-25,-20,-15,-10,-5,0])\n",
    "proxy = [plt.Rectangle((0,0),1,1,fc = pc.get_edgecolor()[0]) for pc in CS.collections]\n",
    "plt.legend(proxy[::-1], ['','','','','','','',''][::-1], frameon=False, handlelength=1, handleheight=0.01, fontsize=10, bbox_to_anchor=(1.138, 0.905), labelspacing = 2.8)\n",
    "# ax.clabel(CS, inline=True, fontsize=10)\n",
    "\n",
    "ax.set_xticks([])\n",
    "ax.set_yticks([])\n",
    "if overwrite_figures:\n",
    "    plt.savefig('synchronous_aperture_resolution.png', dpi=300, bbox_inches=\"tight\")"
   ]
  },
  {
   "cell_type": "code",
   "execution_count": null,
   "metadata": {},
   "outputs": [],
   "source": [
    "psf = 20 * np.log10(image1 / np.max(image1))\n",
    "psf_image1 = psf[:,:,psf.shape[2]//2]\n",
    "\n",
    "plt.imshow(psf_image1, cmap='gray', vmin=-35, vmax=0)\n",
    "plt.show()\n",
    "psf = 20 * np.log10(image2 / np.max(image2))\n",
    "psf_image2 = psf[:,:,psf.shape[2]//2]\n",
    "\n",
    "plt.imshow(psf_image2, cmap='gray', vmin=-35, vmax=0)\n",
    "plt.show()"
   ]
  },
  {
   "cell_type": "code",
   "execution_count": null,
   "metadata": {},
   "outputs": [],
   "source": [
    "np.where(np.sum(test_reconstruction.phantom.mask, axis=(1,2))>128)"
   ]
  },
  {
   "cell_type": "code",
   "execution_count": null,
   "metadata": {},
   "outputs": [],
   "source": [
    "# mid horizontal\n",
    "\n",
    "res_horz_indices = np.array([120, 139, 149, 158, 166, 172, 178, 180])\n",
    "res_horz_indices = res_horz_indices * 683 // 256\n",
    "print(res_horz_indices)\n",
    "\n",
    "max = 0\n",
    "index = 428\n",
    "for i in range(400,450):\n",
    "    if np.max(image1[i]) > max:\n",
    "        max = np.max(image1[i])\n",
    "        index = i\n",
    "print(max, index)\n",
    "\n",
    "# plt.plot(image1[index] / np.max(image1[index])) # sequential\n",
    "# plt.plot(image2[index] / np.max(image2[index])) # synchronous\n",
    "\n",
    "plt.plot(image1[index,100:425] / np.max(image1[index,100:425]), linewidth = 0.8, c = [1,0.5,0.4]) # sequential\n",
    "plt.plot(image2[index,100:425] / np.max(image2[index,100:425]), linewidth = 0.8, c=[0.2,0.8,0.8]) # synchronous"
   ]
  },
  {
   "cell_type": "code",
   "execution_count": null,
   "metadata": {},
   "outputs": [],
   "source": [
    "fig, ax = plt.subplots(1,1, figsize=(3,2))\n",
    "psf = 20 * np.log10(image1 / np.max(image1))\n",
    "image = psf[225:350,350:500,psf.shape[2]//2]\n",
    "plt.imshow(image, cmap='gray', vmin=-35, vmax=0)\n",
    "plt.axhline(y=97, color=[1,0.5,0.4], linewidth=1, linestyle='--')\n",
    "plt.axvline(x=45, color=[1,0.5,0.4], linewidth=1, linestyle='--')\n",
    "plt.text(45,118,'z',rotation=-90, color=[1,0.5,0.4])\n",
    "plt.text(142,94,'x', color=[1,0.5,0.4])\n",
    "plt.gca().set_xticks([])\n",
    "plt.gca().set_yticks([])\n",
    "plt.subplots_adjust(top=1, bottom=0, right=1, left=0, hspace=0, wspace=0)\n",
    "plt.margins(0, 0)\n",
    "plt.savefig('resolution_near_horizontal_sequential.png', dpi=300, bbox_inches=\"tight\")\n",
    "\n",
    "fig, ax = plt.subplots(1,1, figsize=(3,2))\n",
    "psf = 20 * np.log10(image2 / np.max(image2))\n",
    "image = psf[225:350,350:500,psf.shape[2]//2]\n",
    "plt.imshow(image, cmap='gray', vmin=-35, vmax=0)\n",
    "plt.axhline(y=97, color=[0.2,0.8,0.8], linewidth=1, linestyle='--')\n",
    "plt.axvline(x=45, color=[0.2,0.8,0.8], linewidth=1, linestyle='--')\n",
    "plt.text(45,118,'z',rotation=-90, color=[0.2,0.8,0.8])\n",
    "plt.text(142,94,'x', color=[0.2,0.8,0.8])\n",
    "plt.gca().set_xticks([])\n",
    "plt.gca().set_yticks([])\n",
    "plt.subplots_adjust(top=1, bottom=0, right=1, left=0, hspace=0, wspace=0)\n",
    "plt.margins(0, 0)\n",
    "plt.savefig('resolution_near_horizontal_synchronous.png', dpi=300, bbox_inches=\"tight\")\n",
    "\n",
    "fig, ax = plt.subplots(1,1, figsize=(3,2))\n",
    "psf = 20 * np.log10(image1 / np.max(image1))\n",
    "image = psf[439:564,350:500,psf.shape[2]//2]\n",
    "plt.imshow(image, cmap='gray', vmin=-35, vmax=0)\n",
    "plt.axhline(y=97, color=[1,0.5,0.4], linewidth=1, linestyle='--')\n",
    "plt.axvline(x=45, color=[1,0.5,0.4], linewidth=1, linestyle='--')\n",
    "plt.text(45,118,'z',rotation=-90, color=[1,0.5,0.4])\n",
    "plt.text(142,94,'x', color=[1,0.5,0.4])\n",
    "plt.gca().set_xticks([])\n",
    "plt.gca().set_yticks([])\n",
    "plt.subplots_adjust(top=1, bottom=0, right=1, left=0, hspace=0, wspace=0)\n",
    "plt.margins(0, 0)\n",
    "plt.savefig('resolution_far_horizontal_sequential.png', dpi=300, bbox_inches=\"tight\")\n",
    "\n",
    "fig, ax = plt.subplots(1,1, figsize=(3,2))\n",
    "psf = 20 * np.log10(image2 / np.max(image2))\n",
    "image = psf[439:564,350:500,psf.shape[2]//2]\n",
    "plt.imshow(image, cmap='gray', vmin=-35, vmax=0)\n",
    "plt.axhline(y=97, color=[0.2,0.8,0.8], linewidth=1, linestyle='--')\n",
    "plt.axvline(x=45, color=[0.2,0.8,0.8], linewidth=1, linestyle='--')\n",
    "plt.text(45,118,'z',rotation=-90, color=[0.2,0.8,0.8])\n",
    "plt.text(142,94,'x', color=[0.2,0.8,0.8])\n",
    "plt.gca().set_xticks([])\n",
    "plt.gca().set_yticks([])\n",
    "plt.subplots_adjust(top=1, bottom=0, right=1, left=0, hspace=0, wspace=0)\n",
    "plt.margins(0, 0)\n",
    "plt.savefig('resolution_far_horizontal_synchronous.png', dpi=300, bbox_inches=\"tight\")"
   ]
  },
  {
   "cell_type": "code",
   "execution_count": 22,
   "metadata": {},
   "outputs": [],
   "source": [
    "res_horz_indices = np.array([139, 149, 158, 166, 172, 178, 180])\n",
    "res_horz_indices = res_horz_indices * 683 // 256\n",
    "res_vert_indices1 = np.array([114, 117])\n",
    "res_vert_indices1 = res_vert_indices1 * 683 // 256\n",
    "res_vert_indices2 = np.array([194, 197])\n",
    "res_vert_indices2 = res_vert_indices2 * 683 // 256"
   ]
  },
  {
   "cell_type": "code",
   "execution_count": 31,
   "metadata": {},
   "outputs": [],
   "source": [
    "plt.rcParams.update({'font.size': 14})"
   ]
  },
  {
   "cell_type": "code",
   "execution_count": null,
   "metadata": {},
   "outputs": [],
   "source": [
    "# near resolution horizontal\n",
    "fig, ax = plt.subplots(1,2, figsize=(7,2))\n",
    "index = 324\n",
    "for xc in res_horz_indices:\n",
    "    ax[0].vlines(x=xc-351, ymin=-45,ymax=0, linewidth=0.5, color='k', linestyle='--')\n",
    "ax[0].plot(20*np.log(image1[index,350:500] / np.max(image1[index,350:500])), linewidth = 1.5, c = [1,0.5,0.4], label='sequential')\n",
    "ax[0].plot(20*np.log(image2[index,350:500] / np.max(image2[index,350:500])), linewidth = 1.5, c=[0.2,0.8,0.8], label='synchronous')\n",
    "ax[0].spines['top'].set_visible(False)\n",
    "ax[0].spines['right'].set_visible(False)\n",
    "ax[0].set_ylabel('intensity (dB)')\n",
    "ax[0].set_xticks([0,133]) # 133 / 683 * 256 * 0.5\n",
    "ax[0].set_xticklabels(['0','25'])\n",
    "ax[0].set_xlabel('x (mm)')\n",
    "\n",
    "index = 395\n",
    "for xc in res_vert_indices1:\n",
    "    ax[1].vlines(x=xc-215, ymin=-85,ymax=0, linewidth=0.5, color='k', linestyle='--')\n",
    "ax[1].plot(20*np.log(image1[225:350,index] / np.max(image1[225:350,index])), linewidth = 1.5, c = [1,0.5,0.4], label='sequential')\n",
    "ax[1].plot(20*np.log(image2[225:350,index] / np.max(image2[225:350,index])), linewidth = 1.5, c=[0.2,0.8,0.8], label='synchronous')\n",
    "ax[1].spines['top'].set_visible(False)\n",
    "ax[1].spines['right'].set_visible(False)\n",
    "# ax[1].set_ylabel('intensity (dB)')\n",
    "ax[1].set_xticks([0,133]) # 133 / 683 * 256 * 0.5\n",
    "ax[1].set_xticklabels(['0','25'])\n",
    "ax[1].set_xlabel('z (mm)')\n",
    "ax[1].legend(frameon=False, loc='upper left')\n",
    "plt.savefig('resolution_near_horizontal_psf.svg', dpi=300, bbox_inches=\"tight\")"
   ]
  },
  {
   "cell_type": "code",
   "execution_count": null,
   "metadata": {},
   "outputs": [],
   "source": [
    "# far resolution horizontal\n",
    "fig, ax = plt.subplots(1,2, figsize=(7,2))\n",
    "index = 535\n",
    "for xc in res_horz_indices:\n",
    "    ax[0].vlines(x=xc-351, ymin=-45,ymax=0, linewidth=0.5, color='k', linestyle='--')\n",
    "ax[0].plot(20*np.log(image1[index,350:500] / np.max(image1[index,350:500])), linewidth = 1.5, c = [1,0.5,0.4], label='sequential')\n",
    "ax[0].plot(20*np.log(image2[index,350:500] / np.max(image2[index,350:500])), linewidth = 1.5, c=[0.2,0.8,0.8], label='synchronous')\n",
    "ax[0].spines['top'].set_visible(False)\n",
    "ax[0].spines['right'].set_visible(False)\n",
    "ax[0].set_ylabel('intensity (dB)')\n",
    "ax[0].set_xticks([0,133]) # 133 / 683 * 256 * 0.5\n",
    "ax[0].set_xticklabels(['0','25'])\n",
    "ax[0].set_xlabel('x (mm)')\n",
    "\n",
    "index = 395\n",
    "for xc in res_vert_indices2:\n",
    "    ax[1].vlines(x=xc-429, ymin=-85,ymax=0, linewidth=0.5, color='k', linestyle='--')\n",
    "ax[1].plot(20*np.log(image1[439:564,index] / np.max(image1[439:564,index])), linewidth = 1.5, c = [1,0.5,0.4], label='sequential')\n",
    "ax[1].plot(20*np.log(image2[439:564,index] / np.max(image2[439:564,index])), linewidth = 1.5, c=[0.2,0.8,0.8], label='synchronous')\n",
    "ax[1].spines['top'].set_visible(False)\n",
    "ax[1].spines['right'].set_visible(False)\n",
    "# ax[1].set_ylabel('intensity (dB)')\n",
    "ax[1].set_xticks([0,133]) # 133 / 683 * 256 * 0.5\n",
    "ax[1].set_xticklabels(['0','25'])\n",
    "ax[1].set_xlabel('z (mm)')\n",
    "ax[1].legend(frameon=False, loc='upper left')\n",
    "plt.savefig('resolution_far_horizontal_psf.svg', dpi=300, bbox_inches=\"tight\")"
   ]
  },
  {
   "cell_type": "code",
   "execution_count": null,
   "metadata": {},
   "outputs": [],
   "source": [
    "plt.imshow(test_reconstruction.phantom.mask[:,:,0])"
   ]
  },
  {
   "cell_type": "code",
   "execution_count": null,
   "metadata": {},
   "outputs": [],
   "source": [
    "np.where(test_reconstruction.phantom.mask[:,:,0])"
   ]
  },
  {
   "cell_type": "code",
   "execution_count": null,
   "metadata": {},
   "outputs": [],
   "source": []
  },
  {
   "cell_type": "code",
   "execution_count": 2,
   "metadata": {},
   "outputs": [],
   "source": [
    "from core.analytic_wave import planewave_pmax"
   ]
  },
  {
   "cell_type": "code",
   "execution_count": null,
   "metadata": {},
   "outputs": [],
   "source": [
    "test_experiment = experiment.Experiment.load('sequential_aperture_resolution')\n",
    "test_experiment.run(dry=True)\n",
    "test_experiment.add_results()\n",
    "test_reconstruction = reconstruction.Compounding(experiment=test_experiment)"
   ]
  },
  {
   "cell_type": "code",
   "execution_count": null,
   "metadata": {},
   "outputs": [],
   "source": [
    "pmax = planewave_pmax(resolution=0.00025, \n",
    "                          matrix_size=(256,512), \n",
    "                          L=10e-3, \n",
    "                          f=1e6, \n",
    "                          m=[-2,-1,0,1,2], \n",
    "                          w=10e-3 / 32, \n",
    "                          c_0=1500, \n",
    "                          rho_0=1000, \n",
    "                          v_0=5e-8, \n",
    "                          tau=1, \n",
    "                          t=np.linspace(0, 20, 200), \n",
    "                          omega_c=1)\n",
    "\n",
    "plt.imshow(pmax)"
   ]
  },
  {
   "cell_type": "code",
   "execution_count": null,
   "metadata": {},
   "outputs": [],
   "source": [
    "pmax = planewave_pmax(resolution=0.0005, \n",
    "                    matrix_size=(256,256), \n",
    "                    L=test_reconstruction.transducer_set[0][0].width, \n",
    "                    f=test_reconstruction.transducer_set[0][0].max_frequency, \n",
    "                    m=[-2,-1,0,1,2], \n",
    "                    w=test_reconstruction.transducer_set[0][0].width / test_reconstruction.transducer_set[0][0].get_num_elements(), \n",
    "                    c_0=1500, \n",
    "                    rho_0=1000, \n",
    "                    v_0=5e-8, \n",
    "                    tau=1, \n",
    "                    t=np.linspace(0, 10, 100), \n",
    "                    omega_c=1)\n",
    "\n",
    "plt.imshow(pmax)"
   ]
  },
  {
   "cell_type": "code",
   "execution_count": null,
   "metadata": {},
   "outputs": [],
   "source": [
    "images1 = test_reconstruction.compound(workers=1, resolution_multiplier=2, local=True, combine=False, pressure_field=pmax, pressure_field_resolution=0.0005)"
   ]
  },
  {
   "cell_type": "code",
   "execution_count": null,
   "metadata": {},
   "outputs": [],
   "source": [
    "plt.imshow(images1[0][:,:,0])"
   ]
  },
  {
   "cell_type": "code",
   "execution_count": 8,
   "metadata": {},
   "outputs": [],
   "source": [
    "image1 = np.sum(images1, axis=0)/len(images1)\n",
    "image1t1 = np.sum(images1[:len(images1)//3], axis=0)/(len(images1)//3)\n",
    "image1t2 = np.sum(images1[len(images1)//3:2*len(images1)//3], axis=0)/(len(images1)//3)\n",
    "image1t3 = np.sum(images1[2*len(images1)//3:], axis=0)/(len(images1)//3)"
   ]
  },
  {
   "cell_type": "code",
   "execution_count": null,
   "metadata": {},
   "outputs": [],
   "source": [
    "from scipy.interpolate import NearestNDInterpolator\n",
    "sensor = test_experiment.get_sensor_mask()\n",
    "x = []\n",
    "y = []\n",
    "z = []\n",
    "for i in tqdm.tqdm(range(sensor.shape[0])):\n",
    "    for j in range(sensor.shape[1]):\n",
    "        x.append(i)\n",
    "        y.append(j)\n",
    "        z.append(sensor[i,j,:].sum(axis=-1))\n",
    "X = np.linspace(0, sensor.shape[0], image1.shape[0])\n",
    "Y = np.linspace(0, sensor.shape[1], image1.shape[1])\n",
    "X, Y = np.meshgrid(X, Y, indexing='ij')  # 2D grid for interpolation\n",
    "interp = NearestNDInterpolator(list(zip(x, y)), z)\n",
    "Z = interp(X, Y)\n",
    "sensor_mask = Z\n",
    "sensor_mask3 = sensor_mask.copy()\n",
    "sensor_mask3[:,228:] = 0\n",
    "sensor_mask2 = sensor_mask.copy()\n",
    "sensor_mask2[:,:228] = 0\n",
    "sensor_mask2[:,456:] = 0\n",
    "sensor_mask1 = sensor_mask.copy()\n",
    "sensor_mask1[:,:456] = 0"
   ]
  },
  {
   "cell_type": "code",
   "execution_count": null,
   "metadata": {},
   "outputs": [],
   "source": [
    "fig, ax = plt.subplots(3,1, figsize=(2.5,5))\n",
    "contour_cmap = plt.cm.get_cmap('plasma')\n",
    "\n",
    "# psf = 20 * np.log10(image1t1 / 1000000)\n",
    "psf = 20 * np.log10(image1t1 / np.max(image1t1))\n",
    "\n",
    "image = psf[:,:,psf.shape[2]//2]\n",
    "im = ax[0].imshow(image, cmap='gray', vmin=-35, vmax=0)\n",
    "ax[0].imshow(sensor_mask1, cmap='cool_r', alpha=(sensor_mask1>0)*1.0)\n",
    "CS = ax[0].contour(image, cmap=contour_cmap, linewidths=0.5, levels = [-25,-20,-15,-10,-5])\n",
    "ax[0].set_title('sequential t1', fontsize=10)\n",
    "\n",
    "# psf = 20 * np.log10(image1t2 / 1000000)\n",
    "psf = 20 * np.log10(image1t2 / np.max(image1t2))\n",
    "image = psf[:,:,psf.shape[2]//2]\n",
    "im = ax[1].imshow(image, cmap='gray', vmin=-35, vmax=0)\n",
    "ax[1].imshow(sensor_mask2, cmap='cool_r', alpha=(sensor_mask2>0)*1.0)\n",
    "CS = ax[1].contour(image, cmap=contour_cmap, linewidths=0.5, levels = [-25,-20,-15,-10,-5])\n",
    "ax[1].set_title('sequential t2', fontsize=10)\n",
    "\n",
    "# psf = 20 * np.log10(image1t3 / 1000000)\n",
    "psf = 20 * np.log10(image1t3 / np.max(image1t3))\n",
    "image = psf[:,:,psf.shape[2]//2]\n",
    "im = ax[2].imshow(image, cmap='gray', vmin=-35, vmax=0)\n",
    "ax[2].imshow(sensor_mask3, cmap='cool_r', alpha=(sensor_mask3>0)*1.0)\n",
    "CS = ax[2].contour(image, cmap=contour_cmap, linewidths=0.5, levels = [-25,-20,-15,-10,-5])\n",
    "ax[2].set_title('sequential t3', fontsize=10)\n",
    "\n",
    "ax[0].set_xticks([])\n",
    "ax[0].set_yticks([])\n",
    "ax[1].set_xticks([])\n",
    "ax[1].set_yticks([])\n",
    "ax[2].set_xticks([])\n",
    "ax[2].set_yticks([])\n",
    "if overwrite_figures:\n",
    "    plt.savefig('sequential_aperture_individual_resolution_apodized.png', dpi=300, bbox_inches=\"tight\")"
   ]
  },
  {
   "cell_type": "code",
   "execution_count": null,
   "metadata": {},
   "outputs": [],
   "source": [
    "# psf = 20 * np.log10(image1 / 1000000)\n",
    "psf = 20 * np.log10(image1 / np.max(image1))\n",
    "image = psf[:,:,psf.shape[2]//2]\n",
    "\n",
    "fig, ax = plt.subplots()\n",
    "contour_cmap = plt.cm.get_cmap('plasma')\n",
    "\n",
    "im = ax.imshow(image, cmap='gray', vmin=-35, vmax=0)\n",
    "ax.imshow(sensor_mask, cmap='cool_r', alpha=(sensor_mask>0)*1.0)\n",
    "CS = ax.contour(image, cmap=contour_cmap, linewidths=0.5, levels = [-25,-20,-15,-10,-5,0])\n",
    "\n",
    "ax.set_title('sequential averaged')\n",
    "\n",
    "ax.set_xticks([])\n",
    "ax.set_yticks([])\n",
    "if overwrite_figures:\n",
    "    plt.savefig('sequential_aperture_resolution_apodized.png', dpi=300, bbox_inches=\"tight\")"
   ]
  },
  {
   "cell_type": "code",
   "execution_count": null,
   "metadata": {},
   "outputs": [],
   "source": []
  }
 ],
 "metadata": {
  "kernelspec": {
   "display_name": "musik",
   "language": "python",
   "name": "python3"
  },
  "language_info": {
   "codemirror_mode": {
    "name": "ipython",
    "version": 3
   },
   "file_extension": ".py",
   "mimetype": "text/x-python",
   "name": "python",
   "nbconvert_exporter": "python",
   "pygments_lexer": "ipython3",
   "version": "3.9.18"
  }
 },
 "nbformat": 4,
 "nbformat_minor": 2
}

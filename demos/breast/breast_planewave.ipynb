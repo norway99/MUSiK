{
 "cells": [
  {
   "cell_type": "code",
   "execution_count": 1,
   "metadata": {},
   "outputs": [
    {
     "name": "stdout",
     "output_type": "stream",
     "text": [
      "Jupyter environment detected. Enabling Open3D WebVisualizer.\n",
      "[Open3D INFO] WebRTC GUI backend enabled.\n",
      "[Open3D INFO] WebRTCWindowSystem: HTTP handshake server disabled.\n"
     ]
    }
   ],
   "source": [
    "import sys\n",
    "import os\n",
    "\n",
    "parent = os.path.dirname(os.path.realpath('../'))\n",
    "sys.path.append(parent)\n",
    "\n",
    "import numpy as np\n",
    "import scipy\n",
    "import tqdm\n",
    "import open3d as o3d\n",
    "import matplotlib.pyplot as plt\n",
    "import glob\n",
    "\n",
    "from core import *\n",
    "from utils import phantom_builder\n",
    "from utils import geometry\n",
    "from utils import utils\n",
    "\n",
    "os.environ[\"CUDA_DEVICE_ORDER\"]=\"PCI_BUS_ID\"\n",
    "os.environ[\"CUDA_VISIBLE_DEVICES\"]=\"1\""
   ]
  },
  {
   "cell_type": "markdown",
   "metadata": {},
   "source": [
    "# Make Phantom"
   ]
  },
  {
   "cell_type": "code",
   "execution_count": null,
   "metadata": {},
   "outputs": [],
   "source": [
    "\n",
    "voxel_size = np.array([0.0005, 0.0005, 0.0005])\n",
    "surface_mesh = o3d.io.read_triangle_mesh(f\"{parent}/assets/breast_phantom/breast_surface.ply\")\n",
    "body_mask = phantom_builder.voxelize(voxel_size[0], mesh=surface_mesh) "
   ]
  },
  {
   "cell_type": "code",
   "execution_count": null,
   "metadata": {},
   "outputs": [],
   "source": [
    "test_phantom = phantom.Phantom(source_path = None,\n",
    "                               voxel_dims = (voxel_size[0], voxel_size[0], voxel_size[0]),\n",
    "                               matrix_dims = body_mask.shape,\n",
    "                               baseline = (1500, 1000),\n",
    "                               seed = 5678,\n",
    "                               )\n",
    "\n",
    "# skin = tissue.Tissue(name='skin', c=1624, rho=1109, sigma=1.3, scale=0.00001, label=1)\n",
    "skin = tissue.Tissue(name='skin', c=1500, rho=1000, sigma=0, scale=0.00001, label=1)\n",
    "fat = tissue.Tissue(name='fat', c=1440.2, rho=911, sigma=40, scale=0.0003, label=2)\n",
    "ligament = tissue.Tissue(name='ligament', c=1750, rho=1142, sigma=30, scale=0.0001, label=3)\n",
    "gland = tissue.Tissue(name='gland', c=1564, rho=1041, sigma=40, scale=0.0002, label=4)\n",
    "# tumor = tissue.Tissue(name='tumor', c=1550, rho=1050, sigma=0, scale=0.0001, label=5)\n",
    "tumor = tissue.Tissue(name='tumor', c=1560, rho=1050, sigma=0, scale=0.001, label=5)\n",
    "muscle = tissue.Tissue(name='muscle', c=1580, rho=1090, sigma=4, scale=0.001, label=6)\n",
    "\n",
    "kidney_file_dir = f\"{parent}/assets/breast_phantom/\"\n",
    "kidney_tissue_list = [skin, fat, skin, gland, gland, ligament, muscle, tumor]\n",
    "\n",
    "test_phantom.build_organ_from_mesh(surface_mesh, voxel_size[0], kidney_tissue_list, dir_path = kidney_file_dir)\n",
    "test_phantom.set_default_tissue('water')"
   ]
  },
  {
   "cell_type": "code",
   "execution_count": null,
   "metadata": {},
   "outputs": [],
   "source": [
    "test = test_phantom.get_complete()"
   ]
  },
  {
   "cell_type": "code",
   "execution_count": null,
   "metadata": {},
   "outputs": [],
   "source": [
    "index = 140\n",
    "plt.imshow(test[0, :, :, index], cmap='gray', vmin=1400, vmax=1650)\n",
    "plt.imshow(body_mask[:,:, index] * 1000, alpha=0.5*(body_mask[:,:, index]>0)*2, cmap='Reds')"
   ]
  },
  {
   "cell_type": "markdown",
   "metadata": {},
   "source": [
    "# Set up simulation"
   ]
  },
  {
   "cell_type": "code",
   "execution_count": null,
   "metadata": {},
   "outputs": [],
   "source": [
    "num_transducers = 100\n",
    "transducers = [transducer.Focused(max_frequency=1e6,\n",
    "                                    elements = 1, \n",
    "                                    width = 5e-3,\n",
    "                                    height =  5e-3,\n",
    "                                    sensor_sampling_scheme = 'not_centroid', \n",
    "                                    sweep = 0,\n",
    "                                    ray_num = 1,\n",
    "                                    imaging_ndims = 2,\n",
    "                                    focus_azimuth = float('inf'),\n",
    "                                    focus_elevation = float('inf'),\n",
    "                                    ) for i in range(num_transducers)]\n",
    "\n",
    "for t in transducers:\n",
    "    t.make_sensor_coords(1540) # test_phantom.baseline[0]\n",
    "\n",
    "test_transducer_set = transducer_set.TransducerSet(transducers, seed=8888)"
   ]
  },
  {
   "cell_type": "code",
   "execution_count": null,
   "metadata": {},
   "outputs": [],
   "source": [
    "import math\n",
    "\n",
    "def fibonacci_sphere(samples=1000, maxphi=2*np.pi):\n",
    "    coords = []\n",
    "    angles = []\n",
    "    phi = math.pi * (math.sqrt(5.) - 1.)\n",
    "    for i in range(samples):\n",
    "        x = 1 - (i / float(samples - 1)) * 2  * maxphi / (2 * np.pi)\n",
    "        radius = math.sqrt(1 - x * x)\n",
    "        theta = phi * i\n",
    "        y = math.cos(theta) * radius\n",
    "        z = math.sin(theta) * radius\n",
    "        coords.append((x, y, z))\n",
    "        angles.append((math.acos(x), -np.pi, theta % (np.pi * 2) - np.pi))\n",
    "    return np.array(coords), np.array(angles)"
   ]
  },
  {
   "cell_type": "code",
   "execution_count": null,
   "metadata": {},
   "outputs": [],
   "source": [
    "(-np.pi * 0.13 + np.pi) / np.pi"
   ]
  },
  {
   "cell_type": "code",
   "execution_count": null,
   "metadata": {},
   "outputs": [],
   "source": [
    "spread = np.pi * 0.23\n",
    "global_transform = geometry.Transform([np.pi * 0.87,np.pi * -0.05,0],[-0.01,0.013,-0.005], intrinsic=False)\n",
    "\n",
    "coords, angles = fibonacci_sphere(num_transducers, maxphi=np.pi / 2)\n",
    "\n",
    "for i,(coord,angle) in enumerate(zip(coords, angles)):\n",
    "    test_transducer_set.assign_pose(i, global_transform * geometry.Transform(angle, global_transform.apply_to_point(coord) * 0.07, intrinsic=False))"
   ]
  },
  {
   "cell_type": "code",
   "execution_count": null,
   "metadata": {},
   "outputs": [],
   "source": [
    "test_sensor = sensor.Sensor(transducer_set=test_transducer_set, aperture_type='extended_aperture')"
   ]
  },
  {
   "cell_type": "code",
   "execution_count": null,
   "metadata": {},
   "outputs": [],
   "source": [
    "points = np.array((o3d.io.read_triangle_mesh(f\"{parent}/assets/breast_phantom/00_breast_single_VH_F_skin.obj\")).sample_points_uniformly(2000).points)\n",
    "points = points[:,[0,1,2]] - np.mean(points, axis=0) - np.array([0,0,np.min(points, axis=0)[2]])\n",
    "\n",
    "test_transducer_set.plot_transducer_fovs(scale = 0.1, view=(0,0))\n",
    "test_transducer_set.plot_transducer_fovs(scale = 0.1, view=(0,0))\n",
    "test_transducer_set.plot_transducer_fovs(scale = 0.1, view=(90,0))"
   ]
  },
  {
   "cell_type": "code",
   "execution_count": null,
   "metadata": {},
   "outputs": [],
   "source": [
    "points = np.array((o3d.io.read_triangle_mesh(f\"{parent}/assets/breast_phantom/00_breast_single_VH_F_skin.obj\")).sample_points_uniformly(2000).points)\n",
    "points = points[:,[0,1,2]] - np.mean(points, axis=0) - np.array([0,0,np.min(points, axis=0)[2]])\n",
    "\n",
    "test_transducer_set.plot_transducer_coords(scale = 0.1, phantom_coords = points, view=(0,0))\n",
    "test_transducer_set.plot_transducer_coords(scale = 0.1, phantom_coords = points, view=(0,0))\n",
    "test_transducer_set.plot_transducer_coords(scale = 0.1, phantom_coords = points, view=(90,0))"
   ]
  },
  {
   "cell_type": "code",
   "execution_count": null,
   "metadata": {},
   "outputs": [],
   "source": [
    "simprops = simulation.SimProperties(\n",
    "                grid_size   = (100e-3,100e-3,20e-3),\n",
    "                voxel_size  = (0.5e-3,0.5e-3,0.5e-3),\n",
    "                PML_size    = (8,8,8),\n",
    "                PML_alpha   = 2,\n",
    "                t_end       = 12e-5,           # [s]\n",
    "                bona        = 6,               # parameter b/a determining degree of nonlinear acoustic effects\n",
    "                alpha_coeff = 0.5, \t           # [dB/(MHz^y cm)]\n",
    "                alpha_power = 1.5,\n",
    "                )"
   ]
  },
  {
   "cell_type": "code",
   "execution_count": null,
   "metadata": {},
   "outputs": [],
   "source": [
    "# test_experiment = experiment.Experiment(\n",
    "#                  simulation_path = 'breast_tomography',\n",
    "#                  sim_properties  = simprops,\n",
    "#                  phantom         = test_phantom,\n",
    "#                  transducer_set  = test_transducer_set,\n",
    "#                  sensor          = test_sensor,\n",
    "#                  nodes           = 1,\n",
    "#                  results         = None,\n",
    "#                  indices         = None,\n",
    "#                  workers         = 3,\n",
    "#                  additional_keys = []\n",
    "#                  )\n",
    "\n",
    "test_experiment = experiment.Experiment(\n",
    "                 simulation_path = 'breast_3D_planewave_net',\n",
    "                 sim_properties  = simprops,\n",
    "                 phantom         = test_phantom,\n",
    "                 transducer_set  = test_transducer_set,\n",
    "                 sensor          = test_sensor,\n",
    "                 nodes           = 1,\n",
    "                 results         = None,\n",
    "                 indices         = None,\n",
    "                 workers         = 2,\n",
    "                 additional_keys = []\n",
    "                 )\n",
    "\n",
    "test_experiment.save()"
   ]
  },
  {
   "cell_type": "code",
   "execution_count": null,
   "metadata": {},
   "outputs": [],
   "source": [
    "# utils.save_mrc(test_experiment.get_sensor_mask(pad=50), 'breast_tomography_sensor_mask.mrc')"
   ]
  },
  {
   "cell_type": "code",
   "execution_count": null,
   "metadata": {},
   "outputs": [],
   "source": [
    "test_experiment.visualize_sensor_mask(index=[slice(0, -1, 1), slice(0, -1, 1), 120])"
   ]
  },
  {
   "cell_type": "code",
   "execution_count": null,
   "metadata": {},
   "outputs": [],
   "source": [
    "test_experiment.plot_ray_path(0)"
   ]
  },
  {
   "cell_type": "code",
   "execution_count": null,
   "metadata": {},
   "outputs": [],
   "source": [
    "test_experiment.plot_ray_path(2)"
   ]
  },
  {
   "cell_type": "code",
   "execution_count": null,
   "metadata": {},
   "outputs": [],
   "source": [
    "test_experiment.plot_ray_path(4)"
   ]
  },
  {
   "cell_type": "code",
   "execution_count": null,
   "metadata": {},
   "outputs": [],
   "source": [
    "test_experiment.plot_ray_path(6)"
   ]
  },
  {
   "cell_type": "code",
   "execution_count": null,
   "metadata": {},
   "outputs": [],
   "source": [
    "test_experiment.plot_ray_path(8)"
   ]
  },
  {
   "cell_type": "markdown",
   "metadata": {},
   "source": [
    "# Run Simulation"
   ]
  },
  {
   "cell_type": "code",
   "execution_count": null,
   "metadata": {},
   "outputs": [],
   "source": [
    "test_experiment = experiment.Experiment.load('breast_3D_planewave_net')\n",
    "test_experiment.run(dry=True)"
   ]
  },
  {
   "cell_type": "code",
   "execution_count": null,
   "metadata": {},
   "outputs": [],
   "source": [
    "test_experiment.run(repeat=True)"
   ]
  },
  {
   "cell_type": "markdown",
   "metadata": {},
   "source": [
    "# Reconstruction"
   ]
  },
  {
   "cell_type": "code",
   "execution_count": 2,
   "metadata": {},
   "outputs": [
    {
     "name": "stdout",
     "output_type": "stream",
     "text": [
      "dry run of simulation\n"
     ]
    },
    {
     "name": "stderr",
     "output_type": "stream",
     "text": [
      "100%|██████████| 100/100 [00:08<00:00, 12.19it/s]\n"
     ]
    }
   ],
   "source": [
    "test_experiment = experiment.Experiment.load('breast_3D_planewave_net')\n",
    "test_experiment.run(dry=True)\n",
    "test_experiment.add_results()"
   ]
  },
  {
   "cell_type": "code",
   "execution_count": 3,
   "metadata": {},
   "outputs": [],
   "source": [
    "test_reconstruction = reconstruction.Compounding(experiment=test_experiment)"
   ]
  },
  {
   "cell_type": "code",
   "execution_count": 4,
   "metadata": {},
   "outputs": [
    {
     "name": "stderr",
     "output_type": "stream",
     "text": [
      "100%|██████████| 100/100 [00:00<00:00, 801970.17it/s]\n"
     ]
    }
   ],
   "source": [
    "images2 = test_reconstruction.compound(workers=8, resolution_multiplier=2, local=True, combine=False, volumetric=True)"
   ]
  },
  {
   "cell_type": "code",
   "execution_count": null,
   "metadata": {},
   "outputs": [],
   "source": [
    "image2 = np.sum(images2, axis=0)/len(images2)"
   ]
  },
  {
   "cell_type": "code",
   "execution_count": null,
   "metadata": {},
   "outputs": [],
   "source": [
    "print(image2.shape)"
   ]
  },
  {
   "cell_type": "code",
   "execution_count": null,
   "metadata": {},
   "outputs": [],
   "source": [
    "plt.imshow(images2[0][:,:,120], vmin=0, vmax=5000)"
   ]
  },
  {
   "cell_type": "code",
   "execution_count": null,
   "metadata": {},
   "outputs": [],
   "source": [
    "plt.imshow(image2[:,:,140], vmin=0, vmax=2000)"
   ]
  },
  {
   "cell_type": "code",
   "execution_count": null,
   "metadata": {},
   "outputs": [],
   "source": [
    "test_experiment.visualize_sensor_mask(index=[slice(0, -1, 1), slice(0, -1, 1), 140])"
   ]
  },
  {
   "cell_type": "code",
   "execution_count": null,
   "metadata": {},
   "outputs": [],
   "source": [
    "plt.imshow(images2[5][:,:,90], vmin=0, vmax=4000)"
   ]
  },
  {
   "cell_type": "code",
   "execution_count": null,
   "metadata": {},
   "outputs": [],
   "source": []
  },
  {
   "cell_type": "code",
   "execution_count": null,
   "metadata": {},
   "outputs": [],
   "source": []
  },
  {
   "cell_type": "code",
   "execution_count": null,
   "metadata": {},
   "outputs": [],
   "source": []
  },
  {
   "cell_type": "code",
   "execution_count": null,
   "metadata": {},
   "outputs": [],
   "source": []
  }
 ],
 "metadata": {
  "kernelspec": {
   "display_name": "Python 3",
   "language": "python",
   "name": "python3"
  },
  "language_info": {
   "codemirror_mode": {
    "name": "ipython",
    "version": 3
   },
   "file_extension": ".py",
   "mimetype": "text/x-python",
   "name": "python",
   "nbconvert_exporter": "python",
   "pygments_lexer": "ipython3",
   "version": "3.9.18"
  }
 },
 "nbformat": 4,
 "nbformat_minor": 2
}

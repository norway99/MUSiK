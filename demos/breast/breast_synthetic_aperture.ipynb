{
 "cells": [
  {
   "cell_type": "code",
   "execution_count": null,
   "metadata": {},
   "outputs": [],
   "source": [
    "import sys\n",
    "import os\n",
    "\n",
    "parent = os.path.dirname(os.path.realpath(\"../\"))\n",
    "sys.path.append(parent)\n",
    "\n",
    "import numpy as np\n",
    "import scipy\n",
    "import tqdm\n",
    "import open3d as o3d\n",
    "import matplotlib.pyplot as plt\n",
    "import glob\n",
    "\n",
    "from core import *\n",
    "from utils import phantom_builder\n",
    "from utils import geometry\n",
    "from utils import utils\n",
    "\n",
    "os.environ[\"CUDA_DEVICE_ORDER\"] = \"PCI_BUS_ID\"\n",
    "os.environ[\"CUDA_VISIBLE_DEVICES\"] = \"0\""
   ]
  },
  {
   "cell_type": "markdown",
   "metadata": {},
   "source": [
    "# Make Phantom"
   ]
  },
  {
   "cell_type": "code",
   "execution_count": null,
   "metadata": {},
   "outputs": [],
   "source": [
    "voxel_size = np.array([0.0005, 0.0005, 0.0005])\n",
    "surface_mesh = o3d.io.read_triangle_mesh(\n",
    "    f\"{parent}/assets/breast_phantom/breast_surface.ply\"\n",
    ")\n",
    "body_mask = phantom_builder.voxelize(voxel_size[0], mesh=surface_mesh)"
   ]
  },
  {
   "cell_type": "code",
   "execution_count": null,
   "metadata": {},
   "outputs": [],
   "source": [
    "test_phantom = phantom.Phantom(\n",
    "    voxel_dims=(voxel_size[0], voxel_size[0], voxel_size[0]),\n",
    "    matrix_dims=body_mask.shape,\n",
    "    baseline=(1440, 1000),\n",
    "    seed=None,\n",
    ")\n",
    "\n",
    "skin = tissue.Tissue(name=\"skin\", c=1624, rho=1109, sigma=1.3, scale=0.00001, label=1)\n",
    "coupling = tissue.Tissue(\n",
    "    name=\"coupling\", c=1440, rho=911, sigma=0, scale=0.00001, label=7\n",
    ")\n",
    "fat = tissue.Tissue(name=\"fat\", c=1440, rho=911, sigma=40, scale=0.0003, label=2)\n",
    "ligament = tissue.Tissue(\n",
    "    name=\"ligament\", c=1750, rho=1142, sigma=30, scale=0.0001, label=3\n",
    ")\n",
    "gland = tissue.Tissue(name=\"gland\", c=1564, rho=1041, sigma=40, scale=0.0002, label=4)\n",
    "tumor = tissue.Tissue(name=\"tumor\", c=1560, rho=1050, sigma=0, scale=0.001, label=5)\n",
    "muscle = tissue.Tissue(name=\"muscle\", c=1580, rho=1090, sigma=15, scale=0.001, label=6)\n",
    "\n",
    "kidney_file_dir = f\"{parent}/assets/breast_phantom/\"\n",
    "kidney_tissue_list = [skin, fat, skin, gland, gland, ligament, muscle, tumor]\n",
    "test_phantom.add_tissue(coupling)\n",
    "test_phantom.build_organ_from_mesh(\n",
    "    surface_mesh, voxel_size[0], kidney_tissue_list, dir_path=kidney_file_dir\n",
    ")\n",
    "# test_phantom.set_default_tissue('water')\n",
    "test_phantom.set_default_tissue(\"coupling\")"
   ]
  },
  {
   "cell_type": "code",
   "execution_count": null,
   "metadata": {},
   "outputs": [],
   "source": [
    "test = test_phantom.get_complete()"
   ]
  },
  {
   "cell_type": "code",
   "execution_count": null,
   "metadata": {},
   "outputs": [],
   "source": [
    "index = 110\n",
    "plt.imshow(test[0, :, :, index], cmap=\"gray\", vmin=1400, vmax=1650)\n",
    "plt.imshow(\n",
    "    body_mask[:, :, index] * 1000,\n",
    "    alpha=0.5 * (body_mask[:, :, index] > 0) * 2,\n",
    "    cmap=\"Reds\",\n",
    ")"
   ]
  },
  {
   "cell_type": "markdown",
   "metadata": {},
   "source": [
    "# Set up simulation"
   ]
  },
  {
   "cell_type": "code",
   "execution_count": null,
   "metadata": {},
   "outputs": [],
   "source": [
    "num_transducers = 8192\n",
    "transducers = [\n",
    "    transducer.Focused(\n",
    "        max_frequency=1e6,\n",
    "        elements=1,\n",
    "        width=2e-3,\n",
    "        height=2e-3,\n",
    "        sensor_sampling_scheme=\"not_centroid\",\n",
    "        sweep=(0, 0),\n",
    "        ray_num=(1, 1),\n",
    "        imaging_ndims=3,\n",
    "        focus_azimuth=float(\"inf\"),\n",
    "        focus_elevation=float(\"inf\"),\n",
    "        source_strength=1e7,\n",
    "        cycles=1,\n",
    "        transmit=i % 21 == 0,\n",
    "    )\n",
    "    for i in range(num_transducers)\n",
    "]\n",
    "\n",
    "for t in transducers:\n",
    "    t.make_sensor_coords(1540)  # test_phantom.baseline[0]\n",
    "\n",
    "test_transducer_set = transducer_set.TransducerSet(transducers, seed=8888)"
   ]
  },
  {
   "cell_type": "code",
   "execution_count": null,
   "metadata": {},
   "outputs": [],
   "source": [
    "import math\n",
    "\n",
    "\n",
    "def fibonacci_sphere(samples=1000, maxphi=2 * np.pi):\n",
    "    coords = []\n",
    "    angles = []\n",
    "    phi = math.pi * (math.sqrt(5.0) - 1.0)\n",
    "    for i in range(samples):\n",
    "        x = 1 - (i / float(samples - 1)) * 2 * maxphi / (2 * np.pi)\n",
    "        radius = math.sqrt(1 - x * x)\n",
    "        theta = phi * i\n",
    "        y = math.cos(theta) * radius\n",
    "        z = math.sin(theta) * radius\n",
    "        coords.append((x, y, z))\n",
    "        angles.append((math.acos(x), -np.pi, theta % (np.pi * 2) - np.pi))\n",
    "    return np.array(coords), np.array(angles)"
   ]
  },
  {
   "cell_type": "code",
   "execution_count": null,
   "metadata": {},
   "outputs": [],
   "source": [
    "global_transform = geometry.Transform(\n",
    "    [np.pi * 0.87, np.pi * -0.05, 0], [-0.00, 0.005, -0.01], intrinsic=False\n",
    ")\n",
    "coords, angles = fibonacci_sphere(num_transducers, maxphi=np.pi / 2)\n",
    "\n",
    "for i, (coord, angle) in enumerate(zip(coords, angles)):\n",
    "    test_transducer_set.assign_pose(\n",
    "        i,\n",
    "        global_transform\n",
    "        * geometry.Transform(\n",
    "            angle, global_transform.apply_to_point(coord) * 0.07, intrinsic=False\n",
    "        ),\n",
    "    )"
   ]
  },
  {
   "cell_type": "code",
   "execution_count": null,
   "metadata": {},
   "outputs": [],
   "source": [
    "test_sensor = sensor.Sensor(\n",
    "    transducer_set=test_transducer_set, aperture_type=\"extended_aperture\"\n",
    ")"
   ]
  },
  {
   "cell_type": "code",
   "execution_count": null,
   "metadata": {},
   "outputs": [],
   "source": [
    "points = np.array(\n",
    "    (\n",
    "        o3d.io.read_triangle_mesh(\n",
    "            f\"{parent}/assets/breast_phantom/00_breast_single_VH_F_skin.obj\"\n",
    "        )\n",
    "    )\n",
    "    .sample_points_uniformly(1000)\n",
    "    .points\n",
    ")\n",
    "points = points[:, [0, 1, 2]] - np.array(\n",
    "    (\n",
    "        (\n",
    "            np.amax(np.array(surface_mesh.vertices)[:, 0])\n",
    "            + np.amin(np.array(surface_mesh.vertices)[:, 0])\n",
    "        )\n",
    "        / 2,\n",
    "        (\n",
    "            np.amax(np.array(surface_mesh.vertices)[:, 1])\n",
    "            + np.amin(np.array(surface_mesh.vertices)[:, 1])\n",
    "        )\n",
    "        / 2,\n",
    "        (\n",
    "            np.amax(np.array(surface_mesh.vertices)[:, 2])\n",
    "            + np.amin(np.array(surface_mesh.vertices)[:, 2])\n",
    "        )\n",
    "        * -2,\n",
    "    )\n",
    ")\n",
    "\n",
    "test_transducer_set.plot_transducer_coords(\n",
    "    scale=0.1, phantom_coords=points, view=(0, 0)\n",
    ")\n",
    "test_transducer_set.plot_transducer_coords(\n",
    "    scale=0.1, phantom_coords=points, view=(90, 90)\n",
    ")\n",
    "test_transducer_set.plot_transducer_coords(\n",
    "    scale=0.1, phantom_coords=points, view=(0, 90)\n",
    ")"
   ]
  },
  {
   "cell_type": "code",
   "execution_count": null,
   "metadata": {},
   "outputs": [],
   "source": [
    "simprops = simulation.SimProperties(\n",
    "    grid_size=(100e-3, 100e-3, 100e-3),\n",
    "    voxel_size=(0.5e-3, 0.5e-3, 0.5e-3),\n",
    "    PML_size=(8, 8, 8),\n",
    "    PML_alpha=2,\n",
    "    t_end=12e-5,  # [s]\n",
    "    bona=6,  # parameter b/a determining degree of nonlinear acoustic effects\n",
    "    alpha_coeff=0.5,  # [dB/(MHz^y cm)]\n",
    "    alpha_power=1.5,\n",
    ")"
   ]
  },
  {
   "cell_type": "code",
   "execution_count": null,
   "metadata": {},
   "outputs": [],
   "source": [
    "test_experiment = experiment.Experiment(\n",
    "    simulation_path=\"breast_synthetic_aperture\",\n",
    "    sim_properties=simprops,\n",
    "    phantom=test_phantom,\n",
    "    transducer_set=test_transducer_set,\n",
    "    sensor=test_sensor,\n",
    "    nodes=1,\n",
    "    results=None,\n",
    "    indices=None,\n",
    "    workers=3,\n",
    "    additional_keys=[],\n",
    ")\n",
    "\n",
    "test_experiment.save()"
   ]
  },
  {
   "cell_type": "code",
   "execution_count": null,
   "metadata": {},
   "outputs": [],
   "source": [
    "test_experiment.plot_ray_path(0)"
   ]
  },
  {
   "cell_type": "markdown",
   "metadata": {},
   "source": [
    "# Run Simulation"
   ]
  },
  {
   "cell_type": "code",
   "execution_count": null,
   "metadata": {},
   "outputs": [],
   "source": [
    "test_experiment = experiment.Experiment.load(\"breast_synthetic_aperture\")\n",
    "test_experiment.run(dry=True, dry_fast=True)"
   ]
  },
  {
   "cell_type": "code",
   "execution_count": null,
   "metadata": {},
   "outputs": [],
   "source": [
    "test_experiment.run(repeat=False)"
   ]
  },
  {
   "cell_type": "markdown",
   "metadata": {},
   "source": [
    "# Reconstruction"
   ]
  },
  {
   "cell_type": "code",
   "execution_count": null,
   "metadata": {},
   "outputs": [],
   "source": [
    "test_experiment = experiment.Experiment.load(\"breast_synthetic_aperture\")\n",
    "test_experiment.run(dry=True, workers=8, dry_fast=True)\n",
    "test_experiment.add_results()"
   ]
  },
  {
   "cell_type": "code",
   "execution_count": null,
   "metadata": {},
   "outputs": [],
   "source": [
    "test_reconstruction = reconstruction.Compounding(experiment=test_experiment)"
   ]
  },
  {
   "cell_type": "code",
   "execution_count": null,
   "metadata": {},
   "outputs": [],
   "source": [
    "images2 = test_reconstruction.compound(\n",
    "    workers=16,\n",
    "    resolution_multiplier=1,\n",
    "    combine=False,\n",
    "    volumetric=True,\n",
    "    attenuation_factor=16,\n",
    "    save_intermediates=True,\n",
    ")"
   ]
  },
  {
   "cell_type": "code",
   "execution_count": null,
   "metadata": {},
   "outputs": [],
   "source": [
    "files = glob.glob(\"breast_synthetic_aperture/reconstruct/intermediate_image_00*.npz\")\n",
    "images1 = []\n",
    "for path in tqdm.tqdm(files):\n",
    "    images1.append(utils.load_array(path))\n",
    "images1 = np.array(images1)\n",
    "\n",
    "image1 = np.sum(images1, axis=0) / len(images1)"
   ]
  },
  {
   "cell_type": "code",
   "execution_count": null,
   "metadata": {},
   "outputs": [],
   "source": [
    "utils.save_mrc(image1, \"breast_synthetic_aperture.mrc\")"
   ]
  },
  {
   "cell_type": "code",
   "execution_count": null,
   "metadata": {},
   "outputs": [],
   "source": [
    "fig, ax = plt.subplots(2, 3, figsize=(10, 5))\n",
    "index = 0.5\n",
    "ax[0, 0].imshow(\n",
    "    test[0, :, :, int(test.shape[3] * index)], cmap=\"gray\", vmin=1400, vmax=1650\n",
    ")\n",
    "ax[1, 0].imshow(\n",
    "    image1[:, :, int(image1.shape[2] * index)], cmap=\"gray\", vmin=3000, vmax=15000\n",
    ")\n",
    "index = 0.55\n",
    "ax[0, 1].imshow(\n",
    "    test[0, :, int(test.shape[2] * index), :], cmap=\"gray\", vmin=1400, vmax=1650\n",
    ")\n",
    "ax[1, 1].imshow(\n",
    "    image1[:, int(image1.shape[1] * index), :], cmap=\"gray\", vmin=3000, vmax=15000\n",
    ")\n",
    "index = 0.35\n",
    "ax[0, 2].imshow(\n",
    "    test[0, int(test.shape[1] * index), :, :], cmap=\"gray\", vmin=1400, vmax=1650\n",
    ")\n",
    "ax[1, 2].imshow(\n",
    "    image1[int(image1.shape[0] * index), :, :], cmap=\"gray\", vmin=3000, vmax=15000\n",
    ")"
   ]
  }
 ],
 "metadata": {
  "kernelspec": {
   "display_name": "musik",
   "language": "python",
   "name": "python3"
  },
  "language_info": {
   "codemirror_mode": {
    "name": "ipython",
    "version": 3
   },
   "file_extension": ".py",
   "mimetype": "text/x-python",
   "name": "python",
   "nbconvert_exporter": "python",
   "pygments_lexer": "ipython3",
   "version": "3.9.18"
  }
 },
 "nbformat": 4,
 "nbformat_minor": 2
}

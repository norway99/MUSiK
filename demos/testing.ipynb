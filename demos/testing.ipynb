{
 "cells": [
  {
   "cell_type": "code",
   "execution_count": null,
   "metadata": {},
   "outputs": [],
   "source": [
    "# import sys\n",
    "# sys.path.append('../')\n",
    "# import numpy as np\n",
    "# import scipy\n",
    "# import tqdm\n",
    "# import matplotlib.pyplot as plt\n",
    "# import glob\n",
    "\n",
    "# import utils.utils\n",
    "# import utils.geometry\n",
    "\n",
    "# from core import *\n",
    "\n",
    "\n",
    "import sys\n",
    "sys.path.append('../utils')\n",
    "sys.path.append('../core')\n",
    "sys.path.append('../')\n",
    "import numpy as np\n",
    "import scipy\n",
    "import tqdm\n",
    "import utils\n",
    "import geometry\n",
    "from core import *\n",
    "\n",
    "import matplotlib.pyplot as plt\n",
    "import plotly.graph_objects as go\n",
    "import glob"
   ]
  },
  {
   "cell_type": "markdown",
   "metadata": {},
   "source": [
    "# Phantom"
   ]
  },
  {
   "cell_type": "code",
   "execution_count": null,
   "metadata": {},
   "outputs": [],
   "source": [
    "test_phantom = phantom.Phantom(source_path = None,\n",
    "            voxel_dims = (0.1e-3,0.1e-3,0.1e-3),\n",
    "            matrix_dims = (400,400,400),\n",
    "            baseline = (1500, 1000),\n",
    "            seed = 5678,)\n",
    "\n",
    "blood = tissue.Tissue(name='blood', c=1578, rho=1060, sigma=11.3, scale=0.00001, label=1)\n",
    "myocardium = tissue.Tissue(name='myocardium', c=1561.3, rho=1081, sigma=30, scale=0.0001, label=2)\n",
    "fat = tissue.Tissue(name='fat', c=1450, rho=920, sigma=10, scale=0.0001, label=3)\n",
    "\n",
    "pos = 0.7\n",
    "\n",
    "test_phantom.add_tissue_sphere((pos,-pos,0), 8, blood)\n",
    "test_phantom.add_tissue_sphere((pos,0,0), 16, blood)\n",
    "test_phantom.add_tissue_sphere((pos,pos,0), 32, blood)\n",
    "\n",
    "test_phantom.add_tissue_sphere((-pos,-pos,0), 16, fat)\n",
    "test_phantom.add_tissue_sphere((-pos,0,0), 32, fat)\n",
    "test_phantom.add_tissue_sphere((-pos,pos,0), 8, fat)\n",
    "\n",
    "test_phantom.add_tissue_sphere((0,-pos,0), 32, myocardium)\n",
    "test_phantom.add_tissue_sphere((0,0,0), 8, myocardium)\n",
    "test_phantom.add_tissue_sphere((0,pos,0), 16, myocardium)"
   ]
  },
  {
   "cell_type": "code",
   "execution_count": null,
   "metadata": {},
   "outputs": [],
   "source": [
    "plt.imshow(test_phantom.get_complete()[0,:,:,-int(test_phantom.matrix_dims[2] // 2)], vmin=np.amin(test_phantom.get_complete()[0]), vmax=np.amax(test_phantom.get_complete()[0]))\n",
    "plt.colorbar()"
   ]
  },
  {
   "cell_type": "code",
   "execution_count": null,
   "metadata": {},
   "outputs": [],
   "source": [
    "# # flat calibration phantom\n",
    "\n",
    "# phantom = Phantom(source_path = None,\n",
    "#             voxel_dims = (0.1e-3,0.1e-3,0.1e-3),\n",
    "#             matrix_dims = (400,400,400),\n",
    "#             baseline = (1500, 1000),\n",
    "#             seed = 5678,)\n",
    "\n",
    "# blood = Tissue(name='blood', c=1578, rho=1060, sigma=11.3, scale=0.00001, label=1)\n",
    "# myocardium = Tissue(name='myocardium', c=1561.3, rho=1081, sigma=30, scale=0.0001, label=2)\n",
    "\n",
    "# dist = 0.5\n",
    "\n",
    "# phantom.add_tissue_sphere(( dist, dist, dist),  8, myocardium)\n",
    "# phantom.add_tissue_sphere(( dist,-dist, dist), 16, myocardium)\n",
    "# phantom.add_tissue_sphere((-dist,-dist, dist), 32, blood)\n",
    "# phantom.add_tissue_sphere((-dist, dist, dist), 64, blood)\n",
    "\n",
    "# phantom.add_tissue_sphere(( dist, dist,-dist), 16, blood)\n",
    "# phantom.add_tissue_sphere(( dist,-dist,-dist),  8, blood)\n",
    "# phantom.add_tissue_sphere((-dist,-dist,-dist), 64, myocardium)\n",
    "# phantom.add_tissue_sphere((-dist, dist,-dist), 32, myocardium)"
   ]
  },
  {
   "cell_type": "code",
   "execution_count": null,
   "metadata": {},
   "outputs": [],
   "source": [
    "# print('Creating phantom...')\n",
    "# phantom = Phantom.load('hand_phantom')\n",
    "\n",
    "# phantom.complete.shape\n",
    "# phantom.complete = phantom.complete[:,200:,:900,200:600]\n",
    "# phantom.complete.shape\n",
    "\n",
    "# plt.imshow(phantom.get_complete()[0][:,:,200])\n",
    "# plt.colorbar()"
   ]
  },
  {
   "cell_type": "markdown",
   "metadata": {},
   "source": [
    "# Transducer Set"
   ]
  },
  {
   "cell_type": "code",
   "execution_count": null,
   "metadata": {},
   "outputs": [],
   "source": [
    "transducers = [transducer.Focused(elements = 32, \n",
    "                       elevation = 1e-4 * 32, \n",
    "                       sensor_sampling_scheme = 'not_centroid', \n",
    "                       sweep = (np.pi/6,np.pi/6), \n",
    "                       ray_num = (32,32), \n",
    "                       imaging_ndims = 3,\n",
    "                       focus_azimuth = 50e-3,\n",
    "                       focus_elevation = 50e-3,\n",
    "                       ) for i in range(8)]\n",
    "\n",
    "# transducers = [transducer.Focused(elements = 64, \n",
    "#                        elevation = 1e-4 * 64, \n",
    "#                        sensor_sampling_scheme = 'not_centroid', \n",
    "#                        sweep = np.pi/4, \n",
    "#                        ray_num = 64, \n",
    "#                        imaging_ndims = 2,\n",
    "#                        focus_azimuth = 50e-3,\n",
    "#                        focus_elevation = 50e-3,\n",
    "#                        ) for i in range(4)]\n",
    "\n",
    "for t in transducers:\n",
    "    t.make_sensor_coords(test_phantom.baseline[0])"
   ]
  },
  {
   "cell_type": "code",
   "execution_count": null,
   "metadata": {},
   "outputs": [],
   "source": [
    "test_transducer_set = transducer_set.TransducerSet(transducers, seed=8888)\n",
    "test_transducer_set.generate_extrinsics(shape=\"spherical\", extrinsics_kwargs={'r_mean': 50e-3, 'view_std': 0, 'yaw_fraction': 0.3, 'pitch_fraction': 0.6, 'roll_fraction': 0})\n",
    "test_transducer_set.plot_transducer_fovs(scale=0.05)"
   ]
  },
  {
   "cell_type": "code",
   "execution_count": null,
   "metadata": {},
   "outputs": [],
   "source": [
    "import plotly.graph_objects as go\n",
    "\n",
    "coords = []\n",
    "for i in range(len(test_transducer_set.transducers)):\n",
    "    coords.append(test_transducer_set.poses[i].apply_to_points(test_transducer_set.transducers[i].sensor_coords))\n",
    "    \n",
    "fig = go.Figure(data=[go.Scatter3d(\n",
    "                    x=np.concatenate(coords, axis=0)[:,0],\n",
    "                    y=np.concatenate(coords, axis=0)[:,1],\n",
    "                    z=np.concatenate(coords, axis=0)[:,2],\n",
    "                    mode='markers',\n",
    "                    marker=dict(size=1, opacity=0.8,),\n",
    "                )])\n",
    "fig.update_layout(margin=dict(l=0, r=0, b=0, t=0))\n",
    "fig.update_layout(scene_aspectmode='data')\n",
    "fig.show()"
   ]
  },
  {
   "cell_type": "markdown",
   "metadata": {},
   "source": [
    "# Sensor"
   ]
  },
  {
   "cell_type": "code",
   "execution_count": null,
   "metadata": {},
   "outputs": [],
   "source": [
    "test_sensor = sensor.Sensor(transducer_set=test_transducer_set, aperture_type='single_transducer')"
   ]
  },
  {
   "cell_type": "markdown",
   "metadata": {},
   "source": [
    "# Simulation"
   ]
  },
  {
   "cell_type": "code",
   "execution_count": null,
   "metadata": {},
   "outputs": [],
   "source": [
    "simprops = simulation.SimProperties(grid_size   = (1024,128,128),\n",
    "                 PML_size    = (32,8,8),\n",
    "                 PML_alpha   = 2,\n",
    "                 t_end       = 12e-5,          # [s]\n",
    "                 bona        = 6,               # parameter b/a determining degree of nonlinear acoustic effects\n",
    "                 alpha_coeff = 0.5, \t        # [dB/(MHz^y cm)]\n",
    "                 alpha_power = 1.5,\n",
    "                 )"
   ]
  },
  {
   "cell_type": "markdown",
   "metadata": {},
   "source": [
    "# Experiment"
   ]
  },
  {
   "cell_type": "code",
   "execution_count": null,
   "metadata": {},
   "outputs": [],
   "source": [
    "test_experiment = experiment.Experiment(\n",
    "                 simulation_path = '../experiment_files/test_experiment_2',\n",
    "                 sim_properties  = simprops,\n",
    "                 phantom         = test_phantom,\n",
    "                 transducer_set  = test_transducer_set,\n",
    "                 sensor          = test_sensor,\n",
    "                 nodes           = 2,\n",
    "                 results         = None,\n",
    "                 indices         = None,\n",
    "                 workers         = 3,\n",
    "                 )\n",
    "\n",
    "test_experiment.save()"
   ]
  },
  {
   "cell_type": "code",
   "execution_count": null,
   "metadata": {},
   "outputs": [],
   "source": [
    "# test_experiment.save()\n",
    "test_experiment = experiment.Experiment.load('../experiment_files/test_experiment_2')"
   ]
  },
  {
   "cell_type": "code",
   "execution_count": null,
   "metadata": {},
   "outputs": [],
   "source": [
    "len(test_experiment)"
   ]
  },
  {
   "cell_type": "code",
   "execution_count": null,
   "metadata": {},
   "outputs": [],
   "source": [
    "# test_experiment = Experiment.load('../test_experiment_03')\n",
    "test_experiment.run(dry=True)"
   ]
  },
  {
   "cell_type": "code",
   "execution_count": null,
   "metadata": {},
   "outputs": [],
   "source": [
    "test_experiment.run()"
   ]
  },
  {
   "cell_type": "code",
   "execution_count": null,
   "metadata": {},
   "outputs": [],
   "source": [
    "test_experiment.add_results()"
   ]
  },
  {
   "cell_type": "markdown",
   "metadata": {},
   "source": [
    "# Reconstruction"
   ]
  },
  {
   "cell_type": "code",
   "execution_count": null,
   "metadata": {},
   "outputs": [],
   "source": [
    "reconstruction = Reconstruction(test_experiment)"
   ]
  },
  {
   "cell_type": "code",
   "execution_count": null,
   "metadata": {},
   "outputs": [],
   "source": [
    "reconstruction.plot_ray_path(100)"
   ]
  },
  {
   "cell_type": "code",
   "execution_count": null,
   "metadata": {},
   "outputs": [],
   "source": [
    "reconstruction.plot_scatter()"
   ]
  },
  {
   "cell_type": "code",
   "execution_count": null,
   "metadata": {},
   "outputs": [],
   "source": []
  }
 ],
 "metadata": {
  "kernelspec": {
   "display_name": "musik",
   "language": "python",
   "name": "python3"
  },
  "language_info": {
   "codemirror_mode": {
    "name": "ipython",
    "version": 3
   },
   "file_extension": ".py",
   "mimetype": "text/x-python",
   "name": "python",
   "nbconvert_exporter": "python",
   "pygments_lexer": "ipython3",
   "version": "3.9.18"
  }
 },
 "nbformat": 4,
 "nbformat_minor": 2
}

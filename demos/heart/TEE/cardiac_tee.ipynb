{
 "cells": [
  {
   "cell_type": "code",
   "execution_count": 7,
   "metadata": {},
   "outputs": [],
   "source": [
    "import sys\n",
    "import os\n",
    "\n",
    "parent = os.path.dirname(os.path.realpath(\"../../\"))\n",
    "sys.path.append(parent)\n",
    "\n",
    "import numpy as np\n",
    "import scipy\n",
    "import tqdm\n",
    "import open3d as o3d\n",
    "import matplotlib.pyplot as plt\n",
    "import glob\n",
    "\n",
    "from core import *\n",
    "from utils import phantom_builder\n",
    "from utils import geometry\n",
    "\n",
    "os.environ[\"CUDA_DEVICE_ORDER\"] = \"PCI_BUS_ID\"\n",
    "os.environ[\"CUDA_VISIBLE_DEVICES\"] = \"0\""
   ]
  },
  {
   "cell_type": "markdown",
   "metadata": {},
   "source": [
    "# Make Phantom"
   ]
  },
  {
   "cell_type": "code",
   "execution_count": 8,
   "metadata": {},
   "outputs": [],
   "source": [
    "voxel_size = np.array([0.0005, 0.0005, 0.0005])\n",
    "surface_mesh = o3d.io.read_triangle_mesh(\n",
    "    f\"{parent}/assets/cardiac_TEE_phantom/esophageal_surface.ply\"\n",
    ")\n",
    "body_mask = phantom_builder.voxelize(voxel_size[0], mesh=surface_mesh)"
   ]
  },
  {
   "cell_type": "code",
   "execution_count": null,
   "metadata": {},
   "outputs": [],
   "source": [
    "body_mask.shape"
   ]
  },
  {
   "cell_type": "code",
   "execution_count": null,
   "metadata": {},
   "outputs": [],
   "source": [
    "test_phantom = phantom.Phantom(\n",
    "    voxel_dims=(voxel_size[0], voxel_size[0], voxel_size[0]),\n",
    "    matrix_dims=body_mask.shape,\n",
    "    baseline=(1540, 1000),\n",
    "    seed=None,\n",
    ")\n",
    "\n",
    "blood = tissue.Tissue(name=\"blood\", c=1578, rho=1060, sigma=1.3, scale=0.00001, label=1)\n",
    "myocardium = tissue.Tissue(\n",
    "    name=\"myocardium\", c=1592, rho=1081, sigma=20, scale=0.0001, label=2\n",
    ")\n",
    "esophagus = tissue.Tissue(\n",
    "    name=\"esophagus\", c=1500, rho=1100, sigma=10, scale=0.0001, label=3\n",
    ")\n",
    "fat = tissue.Tissue(name=\"fat\", c=1480, rho=970, sigma=15, scale=0.0001, label=4)\n",
    "\n",
    "kidney_file_dir = f\"{parent}/assets/cardiac_TEE_phantom/\"\n",
    "kidney_tissue_list = [blood, myocardium, esophagus]\n",
    "\n",
    "test_phantom.build_organ_from_mesh(\n",
    "    surface_mesh, voxel_size[0], kidney_tissue_list, dir_path=kidney_file_dir\n",
    ")\n",
    "test_phantom.set_default_tissue(fat)"
   ]
  },
  {
   "cell_type": "code",
   "execution_count": null,
   "metadata": {},
   "outputs": [],
   "source": [
    "test = test_phantom.get_complete()"
   ]
  },
  {
   "cell_type": "code",
   "execution_count": null,
   "metadata": {},
   "outputs": [],
   "source": [
    "index = 200\n",
    "plt.imshow(test[0, :, :, index], cmap=\"gray\", vmin=1450, vmax=1650)\n",
    "plt.imshow(\n",
    "    body_mask[:, :, index], alpha=(body_mask[:, :, index] > 0) * 0.9, cmap=\"Reds\"\n",
    ")"
   ]
  },
  {
   "cell_type": "code",
   "execution_count": null,
   "metadata": {},
   "outputs": [],
   "source": [
    "plt.imshow(\n",
    "    test_phantom.get_complete()[0, 200, :, ::-1].T, vmin=1450, vmax=1650, cmap=\"gray\"\n",
    ")"
   ]
  },
  {
   "cell_type": "code",
   "execution_count": null,
   "metadata": {},
   "outputs": [],
   "source": [
    "for i in range(0, test_phantom.get_complete().shape[1], 4):\n",
    "    plt.imshow(\n",
    "        test_phantom.get_complete()[0, i, :, ::-1].T, vmin=1450, vmax=1650, cmap=\"gray\"\n",
    "    )\n",
    "    plt.savefig(f\"video/heart_phantom_{str(i).zfill(3)}.png\", dpi=150)"
   ]
  },
  {
   "cell_type": "markdown",
   "metadata": {},
   "source": [
    "# Set up simulation"
   ]
  },
  {
   "cell_type": "code",
   "execution_count": null,
   "metadata": {},
   "outputs": [],
   "source": [
    "num_transducers = 5\n",
    "\n",
    "transducers = [\n",
    "    transducer.Focused(\n",
    "        max_frequency=2e6,\n",
    "        elements=128,\n",
    "        width=15e-3,\n",
    "        height=15e-3,\n",
    "        sensor_sampling_scheme=\"not_centroid\",\n",
    "        sweep=(np.pi / 2, np.pi / 2),\n",
    "        ray_num=(128, 128),\n",
    "        imaging_ndims=3,\n",
    "        focus_azimuth=70e-3,\n",
    "        focus_elevation=100e-3,\n",
    "        balance_3D=True,\n",
    "    )\n",
    "    for i in range(num_transducers)\n",
    "]\n",
    "\n",
    "\n",
    "for t in transducers:\n",
    "    t.make_sensor_coords(1540)  # test_phantom.baseline[0]\n",
    "\n",
    "test_transducer_set = transducer_set.TransducerSet(transducers, seed=8888)"
   ]
  },
  {
   "cell_type": "code",
   "execution_count": null,
   "metadata": {},
   "outputs": [],
   "source": [
    "# Mid esophageal view\n",
    "pt, normal = test_transducer_set.place_on_mesh_voxel(\n",
    "    0, surface_mesh, [150, 270, 200], voxel_size[0]\n",
    ")\n",
    "transducer_pose = geometry.Transform(\n",
    "    rotation=(np.pi * 0, np.pi * 0, np.pi * 0), translation=pt\n",
    ")\n",
    "test_transducer_set.assign_pose(0, transducer_pose)\n",
    "\n",
    "# Transgastric\n",
    "pt, normal = test_transducer_set.place_on_mesh_voxel(\n",
    "    0, surface_mesh, [250, 250, 50], voxel_size[0]\n",
    ")\n",
    "transducer_pose = geometry.Transform(\n",
    "    rotation=(np.pi * 0.25, np.pi * -0.4, np.pi * 0), translation=pt\n",
    ")\n",
    "test_transducer_set.assign_pose(1, transducer_pose)\n",
    "\n",
    "# Deep transgastric\n",
    "pt, normal = test_transducer_set.place_on_mesh_voxel(\n",
    "    0, surface_mesh, [350, 400, 50], voxel_size[0]\n",
    ")\n",
    "transducer_pose = geometry.Transform(\n",
    "    rotation=(np.pi * 0.25, np.pi * -0.7, np.pi * 0), translation=pt\n",
    ")\n",
    "test_transducer_set.assign_pose(2, transducer_pose)\n",
    "\n",
    "# Mid-upper esophageal\n",
    "pt, normal = test_transducer_set.place_on_mesh_voxel(\n",
    "    0, surface_mesh, [100, 250, 320], voxel_size[0]\n",
    ")\n",
    "transducer_pose = geometry.Transform(\n",
    "    rotation=(np.pi * 0.1, np.pi * 0, np.pi * 0), translation=pt\n",
    ")\n",
    "test_transducer_set.assign_pose(3, transducer_pose)\n",
    "\n",
    "# High-upper esophageal\n",
    "pt, normal = test_transducer_set.place_on_mesh_voxel(\n",
    "    0, surface_mesh, [100, 250, 450], voxel_size[0]\n",
    ")\n",
    "transducer_pose = geometry.Transform(\n",
    "    rotation=(np.pi * 0.25, np.pi * 0, np.pi * 0), translation=pt\n",
    ")\n",
    "test_transducer_set.assign_pose(4, transducer_pose)"
   ]
  },
  {
   "cell_type": "code",
   "execution_count": null,
   "metadata": {},
   "outputs": [],
   "source": [
    "test_sensor = sensor.Sensor(\n",
    "    transducer_set=test_transducer_set, aperture_type=\"transmit_as_receive\"\n",
    ")"
   ]
  },
  {
   "cell_type": "code",
   "execution_count": null,
   "metadata": {},
   "outputs": [],
   "source": [
    "# test_transducer_set.plot_transducer_coords(scale = 0.1, phantom_coords = np.array((o3d.io.read_triangle_mesh(f\"{parent}/assets/cardiac_TEE_phantom/03_esophagus.obj\")).sample_points_uniformly(1000).points))\n",
    "test_transducer_set.plot_transducer_coords()\n",
    "test_transducer_set.plot_transducer_fovs()"
   ]
  },
  {
   "cell_type": "code",
   "execution_count": null,
   "metadata": {},
   "outputs": [],
   "source": [
    "simprops = simulation.SimProperties(\n",
    "    grid_size=(110e-3, 20e-3, 20e-3),\n",
    "    voxel_size=(0.5e-3, 0.5e-3, 0.5e-3),\n",
    "    PML_size=(16, 8, 8),\n",
    "    PML_alpha=2,\n",
    "    t_end=12e-5,  # [s]\n",
    "    bona=6,  # parameter b/a determining degree of nonlinear acoustic effects\n",
    "    alpha_coeff=0.5,  # [dB/(MHz^y cm)]\n",
    "    alpha_power=1.5,\n",
    ")"
   ]
  },
  {
   "cell_type": "code",
   "execution_count": null,
   "metadata": {},
   "outputs": [],
   "source": [
    "test_experiment = experiment.Experiment(\n",
    "    simulation_path=f\"cardiac_TEE_2MHz\",\n",
    "    sim_properties=simprops,\n",
    "    phantom=test_phantom,\n",
    "    transducer_set=test_transducer_set,\n",
    "    sensor=test_sensor,\n",
    "    nodes=1,\n",
    "    results=None,\n",
    "    indices=None,\n",
    "    workers=4,\n",
    "    additional_keys=[],\n",
    "    repeat=-1,\n",
    ")\n",
    "\n",
    "test_experiment.save()"
   ]
  },
  {
   "cell_type": "code",
   "execution_count": null,
   "metadata": {},
   "outputs": [],
   "source": [
    "sensor_centroids = []\n",
    "for i in range(len(test_transducer_set)):\n",
    "    sensor_centroids.append(\n",
    "        np.mean(\n",
    "            test_sensor.sensor_coords[\n",
    "                i * test_sensor.sensor_coords.shape[0] // len(test_transducer_set) : (\n",
    "                    i + 1\n",
    "                )\n",
    "                * test_sensor.sensor_coords.shape[0]\n",
    "                // len(test_transducer_set),\n",
    "                :,\n",
    "            ],\n",
    "            axis=0,\n",
    "        )\n",
    "        / voxel_size\n",
    "        + np.array(test.shape[1:]) / 2\n",
    "    )"
   ]
  },
  {
   "cell_type": "code",
   "execution_count": null,
   "metadata": {},
   "outputs": [],
   "source": [
    "test_experiment.visualize_sensor_mask(\n",
    "    index=[slice(0, -1, 1), slice(0, -1, 1), int(np.round(sensor_centroids[0][2]))]\n",
    ")"
   ]
  },
  {
   "cell_type": "code",
   "execution_count": null,
   "metadata": {},
   "outputs": [],
   "source": [
    "test_experiment.visualize_sensor_mask(\n",
    "    index=[slice(0, -1, 1), slice(0, -1, 1), int(np.round(sensor_centroids[1][2]))]\n",
    ")"
   ]
  },
  {
   "cell_type": "code",
   "execution_count": null,
   "metadata": {},
   "outputs": [],
   "source": [
    "test_experiment.visualize_sensor_mask(\n",
    "    index=[slice(0, -1, 1), slice(0, -1, 1), int(np.round(sensor_centroids[2][2]))]\n",
    ")"
   ]
  },
  {
   "cell_type": "code",
   "execution_count": null,
   "metadata": {},
   "outputs": [],
   "source": [
    "test_experiment.visualize_sensor_mask(\n",
    "    index=[slice(0, -1, 1), slice(0, -1, 1), int(np.round(sensor_centroids[3][2]))]\n",
    ")"
   ]
  },
  {
   "cell_type": "code",
   "execution_count": null,
   "metadata": {},
   "outputs": [],
   "source": [
    "test_experiment.visualize_sensor_mask(\n",
    "    index=[slice(0, -1, 1), slice(0, -1, 1), int(np.round(sensor_centroids[4][2]))]\n",
    ")"
   ]
  },
  {
   "cell_type": "code",
   "execution_count": null,
   "metadata": {},
   "outputs": [],
   "source": [
    "test_experiment.plot_ray_path(32 // 2)"
   ]
  },
  {
   "cell_type": "code",
   "execution_count": null,
   "metadata": {},
   "outputs": [],
   "source": [
    "test_experiment.plot_ray_path(32 * 1 + 32 // 2)"
   ]
  },
  {
   "cell_type": "code",
   "execution_count": null,
   "metadata": {},
   "outputs": [],
   "source": [
    "test_experiment.plot_ray_path(32 * 2 + 32 // 2)"
   ]
  },
  {
   "cell_type": "code",
   "execution_count": null,
   "metadata": {},
   "outputs": [],
   "source": [
    "test_experiment.plot_ray_path(32 * 3 + 32 // 2)"
   ]
  },
  {
   "cell_type": "code",
   "execution_count": null,
   "metadata": {},
   "outputs": [],
   "source": [
    "test_experiment.plot_ray_path(32 * 4 + 32 // 2)"
   ]
  },
  {
   "cell_type": "markdown",
   "metadata": {},
   "source": [
    "# Run Simulation"
   ]
  },
  {
   "cell_type": "code",
   "execution_count": null,
   "metadata": {},
   "outputs": [],
   "source": [
    "test_experiment = experiment.Experiment.load(f\"cardiac_TEE_2MHz\")\n",
    "test_experiment.run(dry=True)"
   ]
  },
  {
   "cell_type": "code",
   "execution_count": null,
   "metadata": {},
   "outputs": [],
   "source": [
    "test_experiment.run(repeat=False)"
   ]
  },
  {
   "cell_type": "markdown",
   "metadata": {},
   "source": [
    "# Reconstruction"
   ]
  },
  {
   "cell_type": "code",
   "execution_count": 4,
   "metadata": {},
   "outputs": [],
   "source": [
    "test_experiment.add_results()"
   ]
  },
  {
   "cell_type": "code",
   "execution_count": 5,
   "metadata": {},
   "outputs": [],
   "source": [
    "test_reconstruction = reconstruction.DAS(experiment=test_experiment)"
   ]
  },
  {
   "cell_type": "code",
   "execution_count": null,
   "metadata": {},
   "outputs": [],
   "source": [
    "# for i,result in tqdm.tqdm(enumerate(test_reconstruction.results)):\n",
    "#     if result[0].shape[0] != 2477:\n",
    "#         print(result[0].shape)\n",
    "#         prit(i)\n",
    "#         break"
   ]
  },
  {
   "cell_type": "code",
   "execution_count": null,
   "metadata": {},
   "outputs": [],
   "source": [
    "signals = test_reconstruction.get_signals(\n",
    "    dimensions=3, matsize=128, downsample=1, workers=16, tgc=10\n",
    ")"
   ]
  },
  {
   "cell_type": "code",
   "execution_count": 4,
   "metadata": {},
   "outputs": [],
   "source": [
    "from utils import utils"
   ]
  },
  {
   "cell_type": "code",
   "execution_count": 14,
   "metadata": {},
   "outputs": [],
   "source": [
    "for i, signal in enumerate(signals):\n",
    "    # signal = np.where(np.isnan(signal), 0, signal)\n",
    "    utils.save_mrc(signal * 0.01, f\"output/cardiac_TEE_signals_{i}.mrc\")"
   ]
  },
  {
   "cell_type": "code",
   "execution_count": null,
   "metadata": {},
   "outputs": [],
   "source": [
    "image = test_reconstruction.get_image(\n",
    "    dimensions=3, matsize=128, downsample=1, workers=16, tgc=10\n",
    ")\n",
    "# image = np.where(np.isnan(image), 0, image)\n",
    "utils.save_mrc(image * 0.01, \"output/cardiac_TEE_image.mrc\")"
   ]
  },
  {
   "cell_type": "code",
   "execution_count": null,
   "metadata": {},
   "outputs": [],
   "source": [
    "signals[0]"
   ]
  },
  {
   "cell_type": "code",
   "execution_count": null,
   "metadata": {},
   "outputs": [],
   "source": [
    "assert False"
   ]
  },
  {
   "cell_type": "code",
   "execution_count": null,
   "metadata": {},
   "outputs": [],
   "source": [
    "signals = test_reconstruction.get_signals(\n",
    "    dimensions=2, matsize=128, downsample=0.5, workers=16, tgc=10\n",
    ")"
   ]
  },
  {
   "cell_type": "code",
   "execution_count": null,
   "metadata": {},
   "outputs": [],
   "source": [
    "plt.imshow(signals[0], vmax=20000, cmap=\"gray\")"
   ]
  },
  {
   "cell_type": "code",
   "execution_count": null,
   "metadata": {},
   "outputs": [],
   "source": [
    "plt.imshow(signals[1], vmax=20000, cmap=\"gray\")"
   ]
  },
  {
   "cell_type": "code",
   "execution_count": null,
   "metadata": {},
   "outputs": [],
   "source": [
    "plt.imshow(signals[2], vmax=20000, cmap=\"gray\")"
   ]
  },
  {
   "cell_type": "code",
   "execution_count": null,
   "metadata": {},
   "outputs": [],
   "source": [
    "plt.imshow(signals[3], vmax=20000, cmap=\"gray\")"
   ]
  },
  {
   "cell_type": "code",
   "execution_count": null,
   "metadata": {},
   "outputs": [],
   "source": [
    "plt.imshow(signals[4], vmax=20000, cmap=\"gray\")"
   ]
  },
  {
   "cell_type": "code",
   "execution_count": null,
   "metadata": {},
   "outputs": [],
   "source": []
  }
 ],
 "metadata": {
  "kernelspec": {
   "display_name": "musik",
   "language": "python",
   "name": "python3"
  },
  "language_info": {
   "codemirror_mode": {
    "name": "ipython",
    "version": 3
   },
   "file_extension": ".py",
   "mimetype": "text/x-python",
   "name": "python",
   "nbconvert_exporter": "python",
   "pygments_lexer": "ipython3",
   "version": "3.9.18"
  }
 },
 "nbformat": 4,
 "nbformat_minor": 2
}

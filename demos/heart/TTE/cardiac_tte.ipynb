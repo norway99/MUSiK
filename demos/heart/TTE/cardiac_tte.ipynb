{
 "cells": [
  {
   "cell_type": "code",
   "execution_count": null,
   "metadata": {},
   "outputs": [],
   "source": [
    "import sys\n",
    "import os\n",
    "\n",
    "parent = os.path.dirname(os.path.realpath(\"../../\"))\n",
    "sys.path.append(parent)\n",
    "\n",
    "import numpy as np\n",
    "import scipy\n",
    "import tqdm\n",
    "import open3d as o3d\n",
    "import matplotlib.pyplot as plt\n",
    "import glob\n",
    "\n",
    "\n",
    "from core import *\n",
    "from utils import phantom_builder\n",
    "from utils import geometry\n",
    "\n",
    "os.environ[\"CUDA_DEVICE_ORDER\"] = \"PCI_BUS_ID\"\n",
    "os.environ[\"CUDA_VISIBLE_DEVICES\"] = \"0\""
   ]
  },
  {
   "cell_type": "markdown",
   "metadata": {},
   "source": [
    "# Make Phantom"
   ]
  },
  {
   "cell_type": "code",
   "execution_count": 2,
   "metadata": {},
   "outputs": [],
   "source": [
    "voxel_size = np.array([0.001, 0.001, 0.001])\n",
    "# voxel_size = np.array([0.0005, 0.0005, 0.0005])\n",
    "surface_mesh = o3d.io.read_triangle_mesh(\n",
    "    f\"{parent}/assets/cardiac_TEE_phantom/esophageal_surface.ply\"\n",
    ")\n",
    "body_mask = phantom_builder.voxelize(voxel_size[0], mesh=surface_mesh)"
   ]
  },
  {
   "cell_type": "code",
   "execution_count": null,
   "metadata": {},
   "outputs": [],
   "source": [
    "test_phantom = phantom.Phantom(\n",
    "    voxel_dims=(voxel_size[0], voxel_size[0], voxel_size[0]),\n",
    "    matrix_dims=body_mask.shape,\n",
    "    baseline=(1540, 1000),\n",
    "    seed=None,\n",
    ")\n",
    "\n",
    "blood = tissue.Tissue(name=\"blood\", c=1578, rho=1060, sigma=1.3, scale=0.00001, label=1)\n",
    "myocardium = tissue.Tissue(\n",
    "    name=\"myocardium\", c=1592, rho=1081, sigma=20, scale=0.0001, label=2\n",
    ")\n",
    "esophagus = tissue.Tissue(\n",
    "    name=\"esophagus\", c=1500, rho=1100, sigma=10, scale=0.0001, label=3\n",
    ")\n",
    "fat = tissue.Tissue(name=\"fat\", c=1480, rho=970, sigma=15, scale=0.0001, label=4)\n",
    "\n",
    "heart_file_dir = f\"{parent}/assets/cardiac_TEE_phantom/\"\n",
    "heart_tissue_list = [blood, myocardium, esophagus]\n",
    "\n",
    "test_phantom.build_organ_from_mesh(\n",
    "    surface_mesh, voxel_size[0], heart_tissue_list, dir_path=heart_file_dir\n",
    ")\n",
    "test_phantom.set_default_tissue(fat)"
   ]
  },
  {
   "cell_type": "code",
   "execution_count": 4,
   "metadata": {},
   "outputs": [],
   "source": [
    "test = test_phantom.get_complete()"
   ]
  },
  {
   "cell_type": "code",
   "execution_count": null,
   "metadata": {},
   "outputs": [],
   "source": [
    "index = 50\n",
    "plt.imshow(test[0, :, :, index], cmap=\"gray\", vmin=1450, vmax=1650)\n",
    "plt.imshow(\n",
    "    body_mask[:, :, index], alpha=(body_mask[:, :, index] > 0) * 0.9, cmap=\"Reds\"\n",
    ")"
   ]
  },
  {
   "cell_type": "markdown",
   "metadata": {},
   "source": [
    "# Set up simulation"
   ]
  },
  {
   "cell_type": "code",
   "execution_count": 6,
   "metadata": {},
   "outputs": [],
   "source": [
    "num_transducers = 6\n",
    "transducers = [\n",
    "    transducer.Focused(\n",
    "        max_frequency=2e6,\n",
    "        elements=128,\n",
    "        width=20e-3,\n",
    "        height=20e-3,\n",
    "        sensor_sampling_scheme=\"not_centroid\",\n",
    "        sweep=np.pi / 2,\n",
    "        ray_num=128,\n",
    "        imaging_ndims=2,\n",
    "        focus_azimuth=100e-3,\n",
    "        focus_elevation=150e-3,\n",
    "        cycles=3,\n",
    "    )\n",
    "    for i in range(num_transducers)\n",
    "]\n",
    "\n",
    "for t in transducers:\n",
    "    t.make_sensor_coords(test_phantom.baseline[0])\n",
    "\n",
    "test_transducer_set = transducer_set.TransducerSet(transducers, seed=8888)"
   ]
  },
  {
   "cell_type": "code",
   "execution_count": 7,
   "metadata": {},
   "outputs": [],
   "source": [
    "test_transducer_set = transducer_set.TransducerSet(transducers, seed=8888)\n",
    "\n",
    "# apical 4 chamber\n",
    "transform1 = geometry.Transform([-np.pi * 0.75, 0, 0], [0, 0, 0])\n",
    "transform2 = geometry.Transform([0, -np.pi / 2 * 0.1, 0], [0, 0, 0])\n",
    "transform3 = geometry.Transform([0, 0, 0], [0, 0, 0])\n",
    "transform = transform1 * transform2 * transform3\n",
    "position = [-0.15, -0.01, -0.05]\n",
    "transform.translation = (transform1 * transform2).apply_to_point(\n",
    "    position, inverse=False\n",
    ")\n",
    "test_transducer_set.assign_pose(0, transform)\n",
    "\n",
    "# apical 2 chamber\n",
    "transform1 = geometry.Transform([-np.pi * 0.75, 0, 0], [0, 0, 0])\n",
    "transform2 = geometry.Transform([0, -np.pi / 2 * 0.1, 0], [0, 0, 0])\n",
    "transform3 = geometry.Transform([0, 0, -np.pi / 2], [0, 0, 0])\n",
    "transform = transform1 * transform2 * transform3\n",
    "position = [-0.15, -0.01, -0.05]\n",
    "transform.translation = (transform1 * transform2).apply_to_point(\n",
    "    position, inverse=False\n",
    ")\n",
    "test_transducer_set.assign_pose(1, transform)\n",
    "\n",
    "# parasternal shout axis papillary\n",
    "transform1 = geometry.Transform([-np.pi * 0.8, 0, 0], [0, 0, 0])\n",
    "transform2 = geometry.Transform([0, np.pi / 2 * 0.7, 0], [0, 0, 0])\n",
    "transform3 = geometry.Transform([-np.pi * 0.15, 0, -np.pi / 2 * 0.3], [0, 0, 0])\n",
    "transform = transform1 * transform2 * transform3\n",
    "position = np.array([0.095, 0.04, 0.04])\n",
    "transform.translation = position\n",
    "test_transducer_set.assign_pose(2, transform)\n",
    "\n",
    "# parasternal short axis mitral\n",
    "transform1 = geometry.Transform([-3.01825409, 0.87793401, -0.87338513], [0, 0, 0])\n",
    "transform2 = geometry.Transform([0, 0, 0], [0, 0, 0])\n",
    "transform3 = geometry.Transform([0, 0, 0], [0, 0, 0])\n",
    "transform = transform1 * transform2 * transform3\n",
    "position = np.array([0.09, 0.03, 0.056])\n",
    "transform.translation = position\n",
    "test_transducer_set.assign_pose(3, transform)\n",
    "\n",
    "# parasternal long axis\n",
    "transform1 = geometry.Transform([-3.14, 0.95, -2.51], [0, 0, 0])\n",
    "transform2 = geometry.Transform([-0.2, 0, 0], [0, 0, 0])\n",
    "transform3 = geometry.Transform([0, 0.04, 0], [0, 0, 0])\n",
    "transform = transform1 * transform2 * transform3\n",
    "position = np.array([0.09, 0.025, 0.045])\n",
    "transform.translation = position\n",
    "test_transducer_set.assign_pose(4, transform)\n",
    "\n",
    "# subcostal 4 chamber\n",
    "transform1 = geometry.Transform([3, -0.75, 0], [0, 0, 0])\n",
    "transform2 = geometry.Transform([0, 0, 0], [0, 0, 0])\n",
    "transform3 = geometry.Transform([0, 0, 0], [0, 0, 0])\n",
    "transform = transform1 * transform2 * transform3\n",
    "position = np.array([0.10, 0, -0.15])\n",
    "transform.translation = position\n",
    "test_transducer_set.assign_pose(5, transform)\n",
    "\n",
    "\n",
    "# # parasternal short axis aortic\n",
    "# # suprasternal aortic arch\n",
    "# print(transform.rotation.as_euler('ZYX', degrees=False))"
   ]
  },
  {
   "cell_type": "code",
   "execution_count": null,
   "metadata": {},
   "outputs": [],
   "source": [
    "# points = np.array((o3d.io.read_triangle_mesh(f\"{parent}/assets/cardiac_TEE_phantom/02_myocardium.obj\")).sample_points_uniformly(5000).points)\n",
    "points = np.array(\n",
    "    (o3d.io.read_triangle_mesh(f\"{parent}/assets/cardiac_TEE_phantom/01_bloodpool.obj\"))\n",
    "    .sample_points_uniformly(8000)\n",
    "    .points\n",
    ")\n",
    "\n",
    "test_transducer_set.plot_transducer_coords(\n",
    "    scale=0.1, phantom_coords=points, view=(90, 0)\n",
    ")\n",
    "test_transducer_set.plot_transducer_coords(\n",
    "    scale=0.1, phantom_coords=points, view=(0, 0)\n",
    ")\n",
    "test_transducer_set.plot_transducer_coords(\n",
    "    scale=0.1, phantom_coords=points, view=(0, 90)\n",
    ")"
   ]
  },
  {
   "cell_type": "code",
   "execution_count": 9,
   "metadata": {},
   "outputs": [],
   "source": [
    "test_sensor = sensor.Sensor(\n",
    "    transducer_set=test_transducer_set, aperture_type=\"transmit_as_receive\"\n",
    ")"
   ]
  },
  {
   "cell_type": "code",
   "execution_count": 10,
   "metadata": {},
   "outputs": [],
   "source": [
    "simprops = simulation.SimProperties(\n",
    "    grid_size=(200e-3, 25e-3, 25e-3),\n",
    "    voxel_size=(0.5e-3, 0.5e-3, 0.5e-3),\n",
    "    PML_size=(16, 16, 16),\n",
    "    PML_alpha=2,\n",
    "    t_end=12e-5,  # [s]\n",
    "    bona=6,  # parameter b/a determining degree of nonlinear acoustic effects\n",
    "    alpha_coeff=0.5,  # [dB/(MHz^y cm)]\n",
    "    alpha_power=1.5,\n",
    ")"
   ]
  },
  {
   "cell_type": "code",
   "execution_count": null,
   "metadata": {},
   "outputs": [],
   "source": [
    "test_experiment = experiment.Experiment(\n",
    "    simulation_path=f\"cardiac_TTE_newphantom\",\n",
    "    sim_properties=simprops,\n",
    "    phantom=test_phantom,\n",
    "    transducer_set=test_transducer_set,\n",
    "    sensor=test_sensor,\n",
    "    nodes=1,\n",
    "    results=None,\n",
    "    indices=None,\n",
    "    workers=4,\n",
    "    additional_keys=[],\n",
    ")\n",
    "\n",
    "test_experiment.save()"
   ]
  },
  {
   "cell_type": "code",
   "execution_count": 12,
   "metadata": {},
   "outputs": [],
   "source": [
    "sensor_centroids = []\n",
    "for i in range(len(test_transducer_set)):\n",
    "    sensor_centroids.append(\n",
    "        np.mean(\n",
    "            test_sensor.sensor_coords[\n",
    "                i * test_sensor.sensor_coords.shape[0] // len(test_transducer_set) : (\n",
    "                    i + 1\n",
    "                )\n",
    "                * test_sensor.sensor_coords.shape[0]\n",
    "                // len(test_transducer_set),\n",
    "                :,\n",
    "            ],\n",
    "            axis=0,\n",
    "        )\n",
    "        / voxel_size\n",
    "        + np.array(test.shape[1:]) / 2\n",
    "    )"
   ]
  },
  {
   "cell_type": "code",
   "execution_count": 13,
   "metadata": {},
   "outputs": [],
   "source": [
    "# test_experiment.visualize_sensor_mask(index=[slice(0, -1, 1), slice(0, -1, 1), int(np.round(sensor_centroids[0][2]))])\n",
    "# test_experiment.plot_ray_path(64)"
   ]
  },
  {
   "cell_type": "code",
   "execution_count": 14,
   "metadata": {},
   "outputs": [],
   "source": [
    "# test_experiment.visualize_sensor_mask(index=[slice(0, -1, 1), slice(0, -1, 1), int(np.round(sensor_centroids[1][2]))])\n",
    "# test_experiment.plot_ray_path(128+64)"
   ]
  },
  {
   "cell_type": "code",
   "execution_count": 15,
   "metadata": {},
   "outputs": [],
   "source": [
    "# test_experiment.visualize_sensor_mask(index=[slice(0, -1, 1), slice(0, -1, 1), int(np.round(sensor_centroids[2][2]))])\n",
    "# test_experiment.plot_ray_path(256+64)"
   ]
  },
  {
   "cell_type": "code",
   "execution_count": 16,
   "metadata": {},
   "outputs": [],
   "source": [
    "# test_experiment.visualize_sensor_mask(index=[slice(0, -1, 1), slice(0, -1, 1), int(np.round(sensor_centroids[3][2]))])\n",
    "# test_experiment.plot_ray_path(384+64)"
   ]
  },
  {
   "cell_type": "code",
   "execution_count": 17,
   "metadata": {},
   "outputs": [],
   "source": [
    "# test_experiment.visualize_sensor_mask(index=[slice(0, -1, 1), slice(0, -1, 1), int(np.round(sensor_centroids[4][2]))])\n",
    "# test_experiment.plot_ray_path(512+64)"
   ]
  },
  {
   "cell_type": "code",
   "execution_count": 18,
   "metadata": {},
   "outputs": [],
   "source": [
    "# test_experiment.visualize_sensor_mask(index=[slice(0, -1, 1), slice(0, -1, 1), int(np.round(sensor_centroids[5][2]))])\n",
    "# test_experiment.plot_ray_path(640+64)"
   ]
  },
  {
   "cell_type": "markdown",
   "metadata": {},
   "source": [
    "# Run Simulation"
   ]
  },
  {
   "cell_type": "code",
   "execution_count": null,
   "metadata": {},
   "outputs": [],
   "source": [
    "test_experiment = experiment.Experiment.load(f\"cardiac_TTE_newphantom\")\n",
    "test_experiment.run(dry=True)"
   ]
  },
  {
   "cell_type": "code",
   "execution_count": null,
   "metadata": {},
   "outputs": [],
   "source": [
    "test_experiment.run(repeat=False)"
   ]
  },
  {
   "cell_type": "markdown",
   "metadata": {},
   "source": [
    "# Reconstruction"
   ]
  },
  {
   "cell_type": "code",
   "execution_count": 21,
   "metadata": {},
   "outputs": [],
   "source": [
    "test_experiment.add_results()"
   ]
  },
  {
   "cell_type": "code",
   "execution_count": 22,
   "metadata": {},
   "outputs": [],
   "source": [
    "test_reconstruction = reconstruction.DAS(experiment=test_experiment)"
   ]
  },
  {
   "cell_type": "code",
   "execution_count": null,
   "metadata": {},
   "outputs": [],
   "source": [
    "signals = test_reconstruction.get_signals(\n",
    "    dimensions=2, matsize=512, downsample=1, workers=16, tgc=10\n",
    ")"
   ]
  },
  {
   "cell_type": "code",
   "execution_count": null,
   "metadata": {},
   "outputs": [],
   "source": [
    "plt.imshow(signals[0][:, ::-1], vmin=0, vmax=100000, cmap=\"gray\")\n",
    "plt.gca().set_facecolor(\"black\")\n",
    "plt.gca().set_xticks([])\n",
    "plt.gca().set_yticks([])\n",
    "plt.savefig(\"cardiac_TTE_ap4ch_2MHz.png\", bbox_inches=\"tight\", pad_inches=0, dpi=300)\n",
    "\n",
    "plt.imshow(signals[1][:, ::-1], vmin=0, vmax=100000, cmap=\"gray\")\n",
    "plt.gca().set_facecolor(\"black\")\n",
    "plt.gca().set_xticks([])\n",
    "plt.gca().set_yticks([])\n",
    "plt.savefig(\"cardiac_TTE_ap2ch_2MHz.png\", bbox_inches=\"tight\", pad_inches=0, dpi=300)\n",
    "\n",
    "plt.imshow(signals[2][:, ::-1], vmin=0, vmax=100000, cmap=\"gray\")\n",
    "plt.gca().set_facecolor(\"black\")\n",
    "plt.gca().set_xticks([])\n",
    "plt.gca().set_yticks([])\n",
    "plt.savefig(\n",
    "    \"cardiac_TTE_parasternal_sax_midpap_2MHz.png\",\n",
    "    bbox_inches=\"tight\",\n",
    "    pad_inches=0,\n",
    "    dpi=300,\n",
    ")\n",
    "\n",
    "plt.imshow(signals[3][:, ::-1], vmin=0, vmax=100000, cmap=\"gray\")\n",
    "plt.gca().set_facecolor(\"black\")\n",
    "plt.gca().set_xticks([])\n",
    "plt.gca().set_yticks([])\n",
    "plt.savefig(\n",
    "    \"cardiac_TTE_parasternal_sax_mitral_2MHz.png\",\n",
    "    bbox_inches=\"tight\",\n",
    "    pad_inches=0,\n",
    "    dpi=300,\n",
    ")\n",
    "\n",
    "plt.imshow(signals[4][:, ::-1], vmin=0, vmax=100000, cmap=\"gray\")\n",
    "plt.gca().set_facecolor(\"black\")\n",
    "plt.gca().set_xticks([])\n",
    "plt.gca().set_yticks([])\n",
    "plt.savefig(\n",
    "    \"cardiac_TTE_parasternal_lax_2MHz.png\", bbox_inches=\"tight\", pad_inches=0, dpi=300\n",
    ")\n",
    "\n",
    "plt.imshow(signals[5][:, ::-1], vmin=0, vmax=100000, cmap=\"gray\")\n",
    "plt.gca().set_facecolor(\"black\")\n",
    "plt.gca().set_xticks([])\n",
    "plt.gca().set_yticks([])\n",
    "plt.savefig(\n",
    "    \"cardiac_TTE_subcostal_4ch_2MHz.png\", bbox_inches=\"tight\", pad_inches=0, dpi=300\n",
    ")"
   ]
  }
 ],
 "metadata": {
  "kernelspec": {
   "display_name": "Python 3",
   "language": "python",
   "name": "python3"
  },
  "language_info": {
   "codemirror_mode": {
    "name": "ipython",
    "version": 3
   },
   "file_extension": ".py",
   "mimetype": "text/x-python",
   "name": "python",
   "nbconvert_exporter": "python",
   "pygments_lexer": "ipython3",
   "version": "3.9.18"
  }
 },
 "nbformat": 4,
 "nbformat_minor": 2
}

{
 "cells": [
  {
   "cell_type": "code",
   "execution_count": 2,
   "metadata": {},
   "outputs": [],
   "source": [
    "import sys\n",
    "import os\n",
    "\n",
    "parent = os.path.dirname(os.path.realpath('../'))\n",
    "sys.path.append(parent)\n",
    "\n",
    "import numpy as np\n",
    "import scipy\n",
    "import tqdm\n",
    "import matplotlib.pyplot as plt\n",
    "import glob\n",
    "\n",
    "from core import *\n",
    "from utils import geometry\n",
    "\n",
    "# os.environ[\"CUDA_DEVICE_ORDER\"]=\"PCI_BUS_ID\"\n",
    "# os.environ[\"CUDA_VISIBLE_DEVICES\"]=\"1\""
   ]
  },
  {
   "cell_type": "markdown",
   "metadata": {},
   "source": [
    "### Analytic solution to wave equation"
   ]
  },
  {
   "cell_type": "code",
   "execution_count": 3,
   "metadata": {},
   "outputs": [],
   "source": [
    "# P_i       incident pressure distribution\n",
    "# rho_0     density\n",
    "# v_not     velocity\n",
    "# tau       \n",
    "# t\n",
    "# omega     angular frequency\n",
    "# u         = sin(theta)cos(phi) for point Q\n",
    "# L         aperture length\n",
    "# w         element width\n",
    "# Q         point in field\n",
    "# lam       wavelength\n",
    "# m         number of runs (?)\n",
    "# c_0       constant"
   ]
  },
  {
   "cell_type": "code",
   "execution_count": 5,
   "metadata": {},
   "outputs": [
    {
     "data": {
      "text/plain": [
       "array([ 5.70220039e-17+0.00000000e+00j, -2.85110019e-17+4.04038669e-17j,\n",
       "       -2.85110019e-17-4.04038669e-17j])"
      ]
     },
     "execution_count": 5,
     "metadata": {},
     "output_type": "execute_result"
    }
   ],
   "source": [
    "xyz = np.array([1, 1, 1])\n",
    "L = 1\n",
    "lam = 1\n",
    "m = [1]\n",
    "w = 1\n",
    "c_0 = 1\n",
    "\n",
    "def exp1(xyz, L, lam, m, w, c_0):\n",
    "    if np.linalg.norm(xyz) == 0:\n",
    "        theta = 0\n",
    "    else:\n",
    "        theta = np.arccos(xyz[2] / np.linalg.norm(xyz))\n",
    "\n",
    "    phi = np.arctan2(xyz[1], xyz[0])\n",
    "    u = np.sin(theta) * np.cos(phi)\n",
    "    exp1 = np.sum([np.sinc((L / lam) * (u - (m_value * lam) / w)) for m_value in m])\n",
    "    exp2 = L * w * w * np.sinc(u * w / lam)\n",
    "    exp3 = np.sqrt((c_0 / (2 * np.pi * np.linalg.norm(xyz))))\n",
    "    return exp1 * exp2 * exp3\n",
    "\n",
    "Q = np.array([[-1, 0, 0], [0.01, 0, 0], [1, 0, 0]])\n",
    "np.fft.ifft(np.array([exp1(q, L, lam, m, w, c_0) for q in Q]))\n",
    "\n"
   ]
  },
  {
   "cell_type": "code",
   "execution_count": 19,
   "metadata": {},
   "outputs": [
    {
     "data": {
      "text/plain": [
       "0.11857914098969193"
      ]
     },
     "execution_count": 19,
     "metadata": {},
     "output_type": "execute_result"
    }
   ],
   "source": [
    "exp1 * exp2 * exp3"
   ]
  },
  {
   "cell_type": "code",
   "execution_count": null,
   "metadata": {},
   "outputs": [],
   "source": [
    "Q"
   ]
  }
 ],
 "metadata": {
  "kernelspec": {
   "display_name": "Python 3",
   "language": "python",
   "name": "python3"
  },
  "language_info": {
   "codemirror_mode": {
    "name": "ipython",
    "version": 3
   },
   "file_extension": ".py",
   "mimetype": "text/x-python",
   "name": "python",
   "nbconvert_exporter": "python",
   "pygments_lexer": "ipython3",
   "version": "3.9.19"
  }
 },
 "nbformat": 4,
 "nbformat_minor": 2
}

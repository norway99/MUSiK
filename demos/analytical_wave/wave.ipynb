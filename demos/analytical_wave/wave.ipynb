{
 "cells": [
  {
   "cell_type": "code",
   "execution_count": 1,
   "metadata": {},
   "outputs": [],
   "source": [
    "import sys\n",
    "import os\n",
    "\n",
    "parent = os.path.dirname(os.path.realpath('../'))\n",
    "sys.path.append(parent)\n",
    "\n",
    "import numpy as np\n",
    "import scipy\n",
    "import tqdm\n",
    "import matplotlib.pyplot as plt\n",
    "import glob\n",
    "\n",
    "from core import *\n",
    "from utils import geometry\n",
    "\n",
    "from scipy.signal import hilbert"
   ]
  },
  {
   "cell_type": "markdown",
   "metadata": {},
   "source": [
    "### Analytic solution to wave equation"
   ]
  },
  {
   "cell_type": "code",
   "execution_count": null,
   "metadata": {},
   "outputs": [],
   "source": [
    "# P_i       incident pressure distribution\n",
    "# rho_0     density\n",
    "# v_not     velocity\n",
    "# tau       \n",
    "# t\n",
    "# omega     angular frequency\n",
    "# u         = sin(theta)cos(phi) for point Q\n",
    "# L         aperture length\n",
    "# w         element width\n",
    "# Q         point in field\n",
    "# lam       wavelength\n",
    "# m         number of runs (?)\n",
    "# c_0       constant"
   ]
  },
  {
   "cell_type": "code",
   "execution_count": null,
   "metadata": {},
   "outputs": [],
   "source": [
    "def fourier_expression(Q, L, f, m, w, c_0):\n",
    "    assert Q.shape[-1] == 3, \"Q must be a 3D vector [x,y,z] or list of 3D vectors (Nx3)\"\n",
    "    Q = Q.astype(np.float128)\n",
    "    theta = np.arccos(Q[:,2] / np.linalg.norm(Q, axis=-1))\n",
    "    theta = np.where(np.linalg.norm(Q) == 0, 0, theta)\n",
    "    phi = np.arctan2(Q[:,1], Q[:,0])\n",
    "    u = np.sin(theta) * np.cos(phi)\n",
    "    exp1 = np.sum(np.array([np.sinc((L * f / c_0) * (u - (m_value * c_0 / f) / w)) for m_value in m]), axis=0)\n",
    "    exp2 = L * w * w * np.sinc(u * w * f / c_0)\n",
    "    exp3 = np.sqrt((c_0 / (2 * np.pi * np.linalg.norm(Q, axis=-1))))\n",
    "    return exp1 * exp2 * exp3\n",
    "\n",
    "def exponential_expression(rho_0, v_0, tau, t, omega_c):\n",
    "    t = t.astype(np.float128)\n",
    "    exp1 = rho_0 * v_0 * np.exp(-t / tau) * np.cos(-omega_c * t)\n",
    "    H = np.heaviside(t, 1)\n",
    "    return exp1 * H\n",
    "\n",
    "def convolution(fourier, exponential):\n",
    "    signals = [np.convolve(exponential, fourier[i,:], mode='same') for i in range(fourier.shape[0])]\n",
    "    return np.array(signals)\n",
    "\n",
    "def compute_signal(q, L, F, m, w, c_0, rho_0, v_0, tau, t, omega_c):\n",
    "    fourier = np.fft.ifft(np.array([fourier_expression(q, L, freq, m, w, c_0) for freq in F]).T, axis=-1)\n",
    "    exponential = exponential_expression(rho_0, v_0, tau, t, omega_c)\n",
    "    return convolution(fourier, exponential)\n",
    "\n",
    "def extract_pressure(signal, timestep, Q):\n",
    "    distance = np.linalg.norm(Q, axis=-1)\n",
    "    sigs = [np.abs(np.real(signal[i,(np.round(timestep * distance[i])).astype(np.int32)])) for i in range(len(distance))]\n",
    "    return np.array(sigs)\n",
    "\n",
    "def element_summation(resolution, matrix_size, L, f, m, w, t, c_0=1500, rho_0=1000, v_0=1, tau=1, omega_c=1):\n",
    "    Q = np.meshgrid(np.linspace(-resolution * matrix_size[0] / 2, resolution * matrix_size[0] / 2, matrix_size[0]), \n",
    "                    np.linspace(0, 0, 1), \n",
    "                    np.linspace(0, resolution * matrix_size[1], matrix_size[1]), \n",
    "                    indexing='ij')\n",
    "    Q = np.stack((Q[0].ravel(), Q[1].ravel(), Q[2].ravel())).T\n",
    "    \n",
    "    F = np.linspace(f * 0.95, f * 1.05, 1)\n",
    "    timestep = (t[-1]-t[0]) / f\n",
    "    \n",
    "    sig = compute_signal(Q, L, F, m, w, c_0, rho_0, v_0, tau, t, omega_c)\n",
    "    \n",
    "    ps = extract_pressure(sig, timestep, Q)\n",
    "    \n",
    "    ps_square = np.array(ps).reshape(matrix_size[0], matrix_size[1])\n",
    "    new_img = np.zeros_like(ps_square)\n",
    "\n",
    "    bound = int(L/resolution/2)\n",
    "    for i in range(-bound,bound+1):\n",
    "        if i < 0:\n",
    "            new_img = new_img + np.pad(ps_square, ((0,-i),(0,0)))[-i:]\n",
    "        elif i > 0:\n",
    "            new_img = new_img + np.pad(ps_square, ((i,0),(0,0)))[:-i]\n",
    "        else:\n",
    "            new_img = new_img + ps_square\n",
    "    return new_img"
   ]
  },
  {
   "cell_type": "code",
   "execution_count": null,
   "metadata": {},
   "outputs": [],
   "source": [
    "image = element_summation(resolution=0.00025, \n",
    "                          matrix_size=(256,512), \n",
    "                          L=10e-3, \n",
    "                          f=1e6, \n",
    "                          m=[-2,-1,0,1,2], \n",
    "                          w=L / 32, \n",
    "                          c_0=1500, \n",
    "                          rho_0=1000, \n",
    "                          v_0=5e-8, \n",
    "                          tau=1, \n",
    "                          t=np.linspace(0, 20, 200), \n",
    "                          omega_c=1)"
   ]
  },
  {
   "cell_type": "code",
   "execution_count": null,
   "metadata": {},
   "outputs": [],
   "source": [
    "plt.imshow(image)\n",
    "plt.xticks([511])\n",
    "plt.yticks([0,128,255])\n",
    "plt.gca().set_xticklabels([f'{512*0.00025}'])\n",
    "plt.gca().set_yticklabels([f'{-128*0.00025}', f'{0}', f'{128*0.00025}'])\n",
    "plt.xlabel('meters')\n",
    "plt.ylabel('meters')\n",
    "plt.show()\n",
    "\n",
    "plt.savefig('pressure_field.png', dpi=300)"
   ]
  },
  {
   "cell_type": "code",
   "execution_count": null,
   "metadata": {},
   "outputs": [],
   "source": [
    "cmap = plt.get_cmap('viridis')\n",
    "\n",
    "Q = np.array([np.array([0, 0, i]) for i in np.linspace(0, 0.1, 128)])\n",
    "sigs = compute_signal(Q, L, F, m, w, c_0, rho_0, v_0, tau, t, omega_c)\n",
    "\n",
    "plt.xlabel('Time (s e-6)')\n",
    "plt.ylabel('Pressure (probably Pa)')\n",
    "\n",
    "for i,signal in enumerate(sigs[::-1]):\n",
    "    j = 31-i\n",
    "    j = 0\n",
    "    plt.plot(t*timestep * 1000000+j*4, signal + j*2e-15, color=cmap(i / len(sigs)), alpha=1, linewidth=0.2)\n",
    "    \n",
    "plt.gca().spines[['right', 'top']].set_visible(False)\n",
    "# plt.savefig('signal.png', pad_inches=0.1 ,dpi=300)"
   ]
  },
  {
   "cell_type": "code",
   "execution_count": null,
   "metadata": {},
   "outputs": [],
   "source": []
  }
 ],
 "metadata": {
  "kernelspec": {
   "display_name": "Python 3",
   "language": "python",
   "name": "python3"
  },
  "language_info": {
   "codemirror_mode": {
    "name": "ipython",
    "version": 3
   },
   "file_extension": ".py",
   "mimetype": "text/x-python",
   "name": "python",
   "nbconvert_exporter": "python",
   "pygments_lexer": "ipython3",
   "version": "3.9.19"
  }
 },
 "nbformat": 4,
 "nbformat_minor": 2
}

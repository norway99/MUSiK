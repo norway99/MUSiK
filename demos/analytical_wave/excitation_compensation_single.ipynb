{
 "cells": [
  {
   "cell_type": "code",
   "execution_count": null,
   "metadata": {},
   "outputs": [],
   "source": [
    "import sys\n",
    "import os\n",
    "\n",
    "parent = os.path.dirname(os.path.realpath('../'))\n",
    "sys.path.append(parent)\n",
    "\n",
    "import numpy as np\n",
    "import scipy\n",
    "import tqdm\n",
    "import open3d as o3d\n",
    "import matplotlib.pyplot as plt\n",
    "import glob\n",
    "\n",
    "from core import *\n",
    "from utils import phantom_builder\n",
    "from utils import geometry\n",
    "from utils import utils\n",
    "\n",
    "os.environ[\"CUDA_DEVICE_ORDER\"]=\"PCI_BUS_ID\"\n",
    "os.environ[\"CUDA_VISIBLE_DEVICES\"]=\"0\"\n",
    "\n",
    "overwrite_figures = True\n",
    "figure_path = './outputs'\n",
    "if not os.path.exists(figure_path):\n",
    "    os.makedirs(figure_path)\n",
    "\n",
    "rc = {\"mathtext.fontset\" : \"stix\"}\n",
    "plt.rcParams.update(rc)"
   ]
  },
  {
   "cell_type": "code",
   "execution_count": null,
   "metadata": {},
   "outputs": [],
   "source": [
    "test_phantom = phantom.Phantom(\n",
    "            voxel_dims = (0.5e-3,0.5e-3,0.5e-3),\n",
    "            matrix_dims = (256,256,64),\n",
    "            baseline = (1500, 1000),\n",
    "            seed = 5678,)\n",
    "\n",
    "water = tissue.Tissue(name='water', c=1500, rho=1000, sigma=0, scale=0.001, label=0)\n",
    "wire = tissue.Tissue(name='wire', c=2400, rho=1500, sigma=0, scale=0.001, label=1)\n",
    "\n",
    "pos = 0.016\n",
    "test_phantom.add_tissue(water, mask=np.ones(test_phantom.matrix_dims))\n",
    "\n",
    "wire_mask = np.zeros(test_phantom.matrix_dims)\n",
    "for i in range(4,13): \n",
    "    for j in range(1,13): \n",
    "        wire_mask[int(0.01/test_phantom.voxel_dims[0]*i - 2),int(0.01/test_phantom.voxel_dims[0]*j - 2),:] = 1\n",
    "    \n",
    "test_phantom.add_tissue(wire, mask=wire_mask)\n",
    "test_phantom.set_default_tissue('water')\n",
    "test = test_phantom.get_complete()"
   ]
  },
  {
   "cell_type": "code",
   "execution_count": null,
   "metadata": {},
   "outputs": [],
   "source": [
    "plt.imshow(test[0,:,:,test_phantom.matrix_dims[2]//2])\n",
    "\n",
    "plt.gca().set_xticks(np.linspace(0, test_phantom.matrix_dims[1],9))\n",
    "plt.gca().set_yticks(np.linspace(0, test_phantom.matrix_dims[0],9))\n",
    "plt.gca().grid(color='w', linestyle='-', linewidth=0.1)"
   ]
  },
  {
   "cell_type": "code",
   "execution_count": null,
   "metadata": {},
   "outputs": [],
   "source": [
    "num_transducers = 1\n",
    "transducers = [transducer.Planewave(max_frequency=2e6,\n",
    "                                    elements = 256, \n",
    "                                    width = 40e-3,\n",
    "                                    height =  10e-3,\n",
    "                                    sensor_sampling_scheme = 'not_centroid', \n",
    "                                    sweep = np.pi/2,\n",
    "                                    ray_num = 25,\n",
    "                                    imaging_ndims = 2,\n",
    "                                    focus_elevation = 100e-3,\n",
    "                                    ) for i in range(num_transducers)]\n",
    "\n",
    "\n",
    "for t in transducers:\n",
    "    t.make_sensor_coords(test_phantom.baseline[0])"
   ]
  },
  {
   "cell_type": "code",
   "execution_count": null,
   "metadata": {},
   "outputs": [],
   "source": [
    "cont_transducer_set = transducer_set.TransducerSet(transducers, seed=8888)\n",
    "cont_transducer_set.assign_pose(0, geometry.Transform([0,0,0], [-0.05,0,0]))\n",
    "\n",
    "cont_transducer_set.plot_transducer_fovs(scale=0.1)\n",
    "cont_transducer_set.plot_transducer_coords(scale=0.1)"
   ]
  },
  {
   "cell_type": "code",
   "execution_count": null,
   "metadata": {},
   "outputs": [],
   "source": [
    "test_sensor = sensor.Sensor(transducer_set=cont_transducer_set, aperture_type='extended_aperture')\n"
   ]
  },
  {
   "cell_type": "code",
   "execution_count": null,
   "metadata": {},
   "outputs": [],
   "source": [
    "simprops = simulation.SimProperties(\n",
    "                grid_size   = (100e-3,110e-3,20e-3),\n",
    "                PML_size    = (16,8,8),\n",
    "                PML_alpha   = 2,\n",
    "                t_end       = 12e-5,           # [s]\n",
    "                bona        = 6,               # parameter b/a determining degree of nonlinear acoustic effects\n",
    "                alpha_coeff = 0.5, \t           # [dB/(MHz^y cm)]\n",
    "                alpha_power = 1.5,\n",
    "                )"
   ]
  },
  {
   "cell_type": "code",
   "execution_count": null,
   "metadata": {},
   "outputs": [],
   "source": [
    "test_experiment = experiment.Experiment(\n",
    "                 simulation_path = 'single',\n",
    "                 sim_properties  = simprops,\n",
    "                 phantom         = test_phantom,\n",
    "                 transducer_set  = cont_transducer_set,\n",
    "                 sensor          = test_sensor,\n",
    "                 nodes           = 1,\n",
    "                 results         = None,\n",
    "                 indices         = None,\n",
    "                 workers         = 3,\n",
    "                 additional_keys = []\n",
    "                 )\n",
    "\n",
    "test_experiment.save()"
   ]
  },
  {
   "cell_type": "code",
   "execution_count": null,
   "metadata": {},
   "outputs": [],
   "source": [
    "gm = test_experiment.visualize_sensor_mask(index=[slice(0, -1, 1), slice(0, -1, 1), test_phantom.matrix_dims[2]//2])\n",
    "plt.gca().set_title('aperture')\n",
    "plt.gca().set_xticks([-1,256])\n",
    "plt.gca().set_xticklabels(['0','0.128'])\n",
    "plt.gca().set_yticks([0,256])\n",
    "plt.gca().set_yticklabels(['0.128','0'])\n",
    "plt.xlabel('x (m)')\n",
    "plt.ylabel('y (m)')\n",
    "plt.savefig(f'{figure_path}/singletransducer_aperture.svg', dpi=300, bbox_inches=\"tight\")"
   ]
  },
  {
   "cell_type": "code",
   "execution_count": null,
   "metadata": {},
   "outputs": [],
   "source": [
    "test_experiment = experiment.Experiment.load('single')\n",
    "test_experiment.run(dry=False)\n",
    "test_experiment.run(repeat=False)"
   ]
  },
  {
   "cell_type": "markdown",
   "metadata": {},
   "source": [
    "# Reconstruction"
   ]
  },
  {
   "cell_type": "code",
   "execution_count": null,
   "metadata": {},
   "outputs": [],
   "source": [
    "test_experiment = experiment.Experiment.load('single')\n",
    "test_experiment.run(dry=True)\n",
    "test_experiment.add_results()\n",
    "test_reconstruction = reconstruction.Compounding(experiment=test_experiment)"
   ]
  },
  {
   "cell_type": "code",
   "execution_count": null,
   "metadata": {},
   "outputs": [],
   "source": [
    "images1 = test_reconstruction.compound(workers=9, resolution_multiplier=2, combine=False, attenuation_factor=4)"
   ]
  },
  {
   "cell_type": "code",
   "execution_count": null,
   "metadata": {},
   "outputs": [],
   "source": [
    "image1 = np.sum(images1, axis=0)/len(images1)"
   ]
  },
  {
   "cell_type": "code",
   "execution_count": null,
   "metadata": {},
   "outputs": [],
   "source": [
    "from scipy.interpolate import NearestNDInterpolator\n",
    "msensor = test_experiment.get_sensor_mask()\n",
    "x = []\n",
    "y = []\n",
    "z = []\n",
    "for i in tqdm.tqdm(range(msensor.shape[0])):\n",
    "    for j in range(msensor.shape[1]):\n",
    "        x.append(i)\n",
    "        y.append(j)\n",
    "        z.append(msensor[i,j,:].sum(axis=-1))\n",
    "X = np.linspace(0, msensor.shape[0], image1.shape[0])\n",
    "Y = np.linspace(0, msensor.shape[1], image1.shape[1])\n",
    "X, Y = np.meshgrid(X, Y, indexing='ij')  # 2D grid for interpolation\n",
    "interp = NearestNDInterpolator(list(zip(x, y)), z)\n",
    "Z = interp(X, Y)\n",
    "sensor_mask = Z"
   ]
  },
  {
   "cell_type": "code",
   "execution_count": null,
   "metadata": {},
   "outputs": [],
   "source": [
    "psf = 20 * np.log10(image1 / np.max(image1))\n",
    "image = psf[:,:,psf.shape[2]//2]\n",
    "\n",
    "fig, ax = plt.subplots()\n",
    "contour_cmap = plt.cm.get_cmap('plasma')\n",
    "\n",
    "im = ax.imshow(image, cmap='gray', vmin=-35, vmax=0)\n",
    "ax.imshow(sensor_mask, cmap='cool_r', alpha=(sensor_mask>0)*1.0)\n",
    "# CS = ax.contour(image, cmap=contour_cmap, linewidths=0.5, levels = [-25,-20,-15,-10,-5,0])\n",
    "\n",
    "ax.set_title('single, $\\mathrm{\\mathbb{P}}(E)=1$')\n",
    "\n",
    "ax.set_xticks([])\n",
    "ax.set_yticks([])\n",
    "if overwrite_figures:\n",
    "    plt.savefig(f'{figure_path}/single_noap.png', dpi=300, bbox_inches=\"tight\")"
   ]
  },
  {
   "cell_type": "code",
   "execution_count": null,
   "metadata": {},
   "outputs": [],
   "source": [
    "from core.analytic_wave import planewave_pmax"
   ]
  },
  {
   "cell_type": "code",
   "execution_count": null,
   "metadata": {},
   "outputs": [],
   "source": [
    "test_experiment = experiment.Experiment.load('single')\n",
    "test_experiment.run(dry=True)\n",
    "test_experiment.add_results()\n",
    "test_reconstruction = reconstruction.Compounding(experiment=test_experiment)"
   ]
  },
  {
   "cell_type": "code",
   "execution_count": null,
   "metadata": {},
   "outputs": [],
   "source": [
    "pmax = planewave_pmax(resolution=0.0005, \n",
    "                    matrix_size=(256,256), \n",
    "                    L=test_reconstruction.transducer_set[0][0].width, \n",
    "                    f=test_reconstruction.transducer_set[0][0].max_frequency, \n",
    "                    m=[-2,-1,0,1,2], \n",
    "                    w=test_reconstruction.transducer_set[0][0].width / test_reconstruction.transducer_set[0][0].get_num_elements(), \n",
    "                    c_0=1500, \n",
    "                    rho_0=1000, \n",
    "                    v_0=5e-8, \n",
    "                    tau=1, \n",
    "                    t=np.linspace(0, 10, 100), \n",
    "                    omega_c=1)\n",
    "\n",
    "plt.imshow(pmax, cmap='hot')\n",
    "plt.yticks([0,255])\n",
    "plt.xticks([0,128,255])\n",
    "plt.gca().set_yticklabels([f'{0}',f'{256*0.0005}'])\n",
    "plt.gca().set_xticklabels([f'{-128*0.0005}', f'{0}', f'{128*0.0005}'])\n",
    "plt.xlabel('x (m)')\n",
    "plt.ylabel('y (m)')\n",
    "\n",
    "plt.savefig(f'{figure_path}/singletransducer_pressure_field.png', dpi=300, bbox_inches=\"tight\")"
   ]
  },
  {
   "cell_type": "code",
   "execution_count": null,
   "metadata": {},
   "outputs": [],
   "source": [
    "images3 = test_reconstruction.compound(workers=9, resolution_multiplier=2, combine=False, pressure_field=pmax, pressure_field_resolution=0.0005, attenuation_factor=4)"
   ]
  },
  {
   "cell_type": "code",
   "execution_count": null,
   "metadata": {},
   "outputs": [],
   "source": [
    "image3 = np.sum(images3, axis=0)/len(images3)"
   ]
  },
  {
   "cell_type": "code",
   "execution_count": null,
   "metadata": {},
   "outputs": [],
   "source": [
    "from scipy.interpolate import NearestNDInterpolator\n",
    "msensor = test_experiment.get_sensor_mask()\n",
    "x = []\n",
    "y = []\n",
    "z = []\n",
    "for i in tqdm.tqdm(range(msensor.shape[0])):\n",
    "    for j in range(msensor.shape[1]):\n",
    "        x.append(i)\n",
    "        y.append(j)\n",
    "        z.append(msensor[i,j,:].sum(axis=-1))\n",
    "X = np.linspace(0, msensor.shape[0], image1.shape[0])\n",
    "Y = np.linspace(0, msensor.shape[1], image1.shape[1])\n",
    "X, Y = np.meshgrid(X, Y, indexing='ij')  # 2D grid for interpolation\n",
    "interp = NearestNDInterpolator(list(zip(x, y)), z)\n",
    "Z = interp(X, Y)\n",
    "sensor_mask = Z"
   ]
  },
  {
   "cell_type": "code",
   "execution_count": null,
   "metadata": {},
   "outputs": [],
   "source": [
    "psf = 20 * np.log10(image3 / np.max(image3))\n",
    "image = psf[:,:,psf.shape[2]//2]\n",
    "\n",
    "fig, ax = plt.subplots()\n",
    "contour_cmap = plt.cm.get_cmap('plasma')\n",
    "\n",
    "im = ax.imshow(image, cmap='gray', vmin=-35, vmax=0)\n",
    "ax.imshow(sensor_mask, cmap='cool_r', alpha=(sensor_mask>0)*1.0)\n",
    "# CS = ax.contour(image, cmap=contour_cmap, linewidths=0.5, levels = [-25,-20,-15,-10,-5,0])\n",
    "\n",
    "plt.colorbar(im, cax=ax.inset_axes([1.035, 0, 0.04, 1]), label='dB', ticks=[-35,-25,-20,-15,-10,-5,0])\n",
    "# proxy = [plt.Rectangle((0,0),1,1,fc = pc.get_edgecolor()[0]) for pc in CS.collections]\n",
    "# plt.legend(proxy[::-1], ['','','','','','','',''][::-1], frameon=False, handlelength=1, handleheight=0.01, fontsize=10, bbox_to_anchor=(1.138, 0.905), labelspacing = 2.8)\n",
    "\n",
    "ax.set_title('single, $\\mathrm{\\mathbb{P}}(E)=P$')\n",
    "\n",
    "ax.set_xticks([])\n",
    "ax.set_yticks([])\n",
    "if overwrite_figures:\n",
    "    plt.savefig(f'{figure_path}/single_ap.png', dpi=300, bbox_inches=\"tight\")"
   ]
  },
  {
   "cell_type": "code",
   "execution_count": null,
   "metadata": {},
   "outputs": [],
   "source": [
    "res_horz_indices = np.where(np.sum(test_reconstruction.phantom.mask, axis=(0,2))>128)[0]\n",
    "res_horz_indices = res_horz_indices * image1.shape[0] / test_reconstruction.phantom.matrix_dims[0]\n",
    "res_vert_indices = np.where(np.sum(test_reconstruction.phantom.mask, axis=(1,2))>128)[0]\n",
    "res_vert_indices = res_vert_indices * image1.shape[0] / test_reconstruction.phantom.matrix_dims[0]"
   ]
  },
  {
   "cell_type": "code",
   "execution_count": null,
   "metadata": {},
   "outputs": [],
   "source": [
    "plt.rcParams.update({'font.size': 14})"
   ]
  },
  {
   "cell_type": "code",
   "execution_count": null,
   "metadata": {},
   "outputs": [],
   "source": [
    "cmap3 = plt.cm.get_cmap('YlGn', 9)\n",
    "\n",
    "# near resolution horizontal\n",
    "fig, ax = plt.subplots(2,1, figsize=(7,4), tight_layout=True)\n",
    "for xc in res_horz_indices:\n",
    "    ax[0].vlines(x=xc-3, ymin=-150,ymax=0, linewidth=0.5, color='k', linestyle='--')\n",
    "    ax[1].vlines(x=xc-3, ymin=-150,ymax=0, linewidth=0.5, color='k', linestyle='--')\n",
    "\n",
    "for row,index in enumerate(res_vert_indices[::-1]):\n",
    "    ax[0].plot(20*np.log(image1[int(index)] / np.max(image1[int(index)])), linewidth = 0.8, c=cmap3(row), label='not compensated')\n",
    "    ax[1].plot(20*np.log(image3[int(index)] / np.max(image3[int(index)])), linewidth = 0.8, c=cmap3(row), label='excitation compensated')\n",
    "ax[0].spines['top'].set_visible(False)\n",
    "ax[0].spines['right'].set_visible(False)\n",
    "ax[1].spines['top'].set_visible(False)\n",
    "ax[1].spines['right'].set_visible(False)\n",
    "ax[0].set_ylabel('intensity (dB)')\n",
    "ax[1].set_ylabel('intensity (dB)')\n",
    "ax[1].set_xticks([0,image1.shape[0]]) # 133 / 683 * 256 * 0.5\n",
    "ax[1].set_xticklabels(['0','128'])\n",
    "ax[0].set_xticks([]) # 133 / 683 * 256 * 0.5\n",
    "ax[0].set_xticklabels([])\n",
    "ax[1].set_xlabel('x (mm)')"
   ]
  },
  {
   "cell_type": "code",
   "execution_count": null,
   "metadata": {},
   "outputs": [],
   "source": [
    "cmap3 = plt.cm.get_cmap('YlGn', 9)\n",
    "\n",
    "# near resolution horizontal\n",
    "fig, ax = plt.subplots(1,2, figsize=(10,3.5), tight_layout=True)\n",
    "for xc in res_horz_indices:\n",
    "    ax[0].vlines(x=xc-3, ymin=-140,ymax=0, linewidth=0.5, color='k', linestyle='--')\n",
    "    ax[1].vlines(x=xc-3, ymin=-140,ymax=0, linewidth=0.5, color='k', linestyle='--')\n",
    "\n",
    "for row,index in enumerate(res_vert_indices[::-1]):\n",
    "    ax[0].plot(20*np.log(image1[int(index)] / np.max(image1[int(index)])), linewidth = 1.5, c=cmap3(row), label='sequential')\n",
    "    ax[1].plot(20*np.log(image3[int(index)] / np.max(image3[int(index)])), linewidth = 1.5, c=cmap3(row), label='synchronous')\n",
    "\n",
    "for a in ax.flatten():\n",
    "    a.spines['top'].set_visible(False)\n",
    "    a.spines['right'].set_visible(False)\n",
    "    a.spines['top'].set_visible(False)\n",
    "    a.spines['right'].set_visible(False)\n",
    "ax[0].set_ylabel('intensity (dB)')\n",
    "# ax[1].set_ylabel('intensity (dB)')\n",
    "\n",
    "# ax[0].set_xticks([])\n",
    "# ax[1].set_xticks([])\n",
    "# ax[0].set_xticklabels([])\n",
    "ax[0].set_xticks([0,image3.shape[0]])\n",
    "ax[0].set_xticklabels(['0','128'])\n",
    "ax[0].set_xlabel('x (mm)')\n",
    "ax[1].set_xticks([0,image3.shape[0]])\n",
    "ax[1].set_xticklabels(['0','128'])\n",
    "ax[1].set_xlabel('x (mm)')\n",
    "\n",
    "# proxy = [plt.Rectangle((0,0),1,1,fc = cmap3(n)) for n in range(cmap3.N)]\n",
    "# ax[0].legend(proxy[::-1], ['20 mm','','','','','','','100 mm'], frameon=False, handlelength=0.5, handleheight=1, fontsize=10, bbox_to_anchor=(1, 1.05), labelspacing = 0, title='depth\\n')\n",
    "proxy = [plt.Rectangle((0,0),1,1,fc = cmap3(n)) for n in range(cmap3.N)]\n",
    "ax[1].legend(proxy[::-1], ['20 mm','','','','','','','100 mm'], frameon=False, handlelength=0.5, handleheight=1, fontsize=14, bbox_to_anchor=(1, 1.05), labelspacing = 0, title='depth\\n')\n",
    "\n",
    "plt.savefig(f'{figure_path}/grid_psf_2panel.svg', bbox_inches=\"tight\")"
   ]
  },
  {
   "cell_type": "code",
   "execution_count": null,
   "metadata": {},
   "outputs": [],
   "source": [
    "def compute_SNR(image, res_horz_indices, res_vert_indices, spread=13,):\n",
    "    signal = np.zeros((res_vert_indices.shape[0], res_horz_indices.shape[0]))\n",
    "    signal_points = []\n",
    "    for i,m in enumerate(res_vert_indices):\n",
    "        for j,n in enumerate(res_horz_indices):\n",
    "            signal[i,j] = image[int(np.round(m)),int(np.round(n))]\n",
    "            signal_points.append((n,m))\n",
    "            \n",
    "    noise = np.zeros((res_vert_indices.shape[0], res_horz_indices.shape[0]))\n",
    "    noise_points = []\n",
    "    for i,m in enumerate(res_vert_indices):\n",
    "        for j,n in enumerate(res_horz_indices):\n",
    "            noise[i,j] += image[int(np.round(m+spread)),int(np.round(n+spread))]\n",
    "            noise[i,j] += image[int(np.round(m-spread)),int(np.round(n+spread))]\n",
    "            noise[i,j] += image[int(np.round(m+spread)),int(np.round(n-spread))]\n",
    "            noise[i,j] += image[int(np.round(m-spread)),int(np.round(n-spread))]\n",
    "            noise_points.append((n+spread,m+spread))\n",
    "            noise_points.append((n-spread,m+spread))\n",
    "            noise_points.append((n+spread,m-spread))\n",
    "            noise_points.append((n-spread,m-spread))\n",
    "            \n",
    "    signal_points = np.array(signal_points)\n",
    "    noise_points = np.array(noise_points)\n",
    "    \n",
    "    noise = noise/4\n",
    "    \n",
    "    return signal, noise, signal_points, noise_points"
   ]
  },
  {
   "cell_type": "code",
   "execution_count": null,
   "metadata": {},
   "outputs": [],
   "source": [
    "signal1, noise1, signal_points1, noise_points1 = compute_SNR(image1, res_horz_indices, res_vert_indices)\n",
    "signal3, noise3, signal_points3, noise_points3 = compute_SNR(image3, res_horz_indices, res_vert_indices)\n",
    "\n",
    "error1 = np.std(signal1/noise1, axis=1)\n",
    "error3 = np.std(signal3/noise3, axis=1)"
   ]
  },
  {
   "cell_type": "code",
   "execution_count": null,
   "metadata": {},
   "outputs": [],
   "source": [
    "fig, ax = plt.subplots(1,1, figsize=(4,4), tight_layout=True)\n",
    "\n",
    "ax.plot(np.mean(signal1/noise1, axis=1), color=cmap3(6), linestyle = '-',  label='$\\mathrm{\\mathbb{P}}(E)=1$', linewidth=2)\n",
    "ax.plot(np.mean(signal3/noise3, axis=1), color=cmap3(6), linestyle = '--', label='$\\mathrm{\\mathbb{P}}(E)=P$', linewidth=2)\n",
    "\n",
    "ax.fill_between(np.arange(9), np.mean(signal1/noise1, axis=1)-error1, np.mean(signal1/noise1, axis=1)+error1, color=cmap3(6), alpha=0.15, linewidth=0)\n",
    "ax.fill_between(np.arange(9), np.mean(signal3/noise3, axis=1)-error3, np.mean(signal3/noise3, axis=1)+error3, color=cmap3(6), alpha=0.15, linewidth=0)\n",
    "ax.legend()\n",
    "\n",
    "ax.set_xticks([0,8])\n",
    "ax.set_xticklabels(['20','100'])\n",
    "ax.set_xlabel('depth (mm)')\n",
    "ax.set_ylabel('SNR')\n",
    "\n",
    "plt.savefig(f'{figure_path}/singletransducer_SNR.svg', bbox_inches=\"tight\")"
   ]
  },
  {
   "cell_type": "code",
   "execution_count": null,
   "metadata": {},
   "outputs": [],
   "source": [
    "# plt.imshow(image, cmap='gray', vmin=-30, vmax=0)\n",
    "# plt.scatter(signal_points1[:,0],signal_points1[:,1], c=[0.2,0.4,1], s=2)\n",
    "# plt.scatter(noise_points1[:,0], noise_points1[:,1], c='orange', s=2)\n",
    "\n",
    "# plt.savefig(f'{figure_path}/singletransducer_SNR_points.png', dpi=300, bbox_inches=\"tight\")\n",
    "\n",
    "plt.imshow(image, cmap='gray', vmin=-30, vmax=0)\n",
    "plt.scatter(signal_points1[:,0],signal_points1[:,1], c=[0.2,0.4,1], s=2, label='signal')\n",
    "plt.scatter(noise_points1[:,0], noise_points1[:,1], c='orange', s=2, label='noise')\n",
    "plt.gca().set_xticks([])\n",
    "plt.gca().set_yticks([])\n",
    "legend = plt.legend(loc=\"upper right\", edgecolor=\"white\")\n",
    "legend.get_frame().set_alpha(None)\n",
    "legend.get_frame().set_facecolor((1, 1, 1, 1))\n",
    "plt.savefig(f'{figure_path}/singletransducer_SNR_points.png', dpi=300, bbox_inches=\"tight\")"
   ]
  },
  {
   "cell_type": "code",
   "execution_count": null,
   "metadata": {},
   "outputs": [],
   "source": [
    "# cmap1 = plt.cm.get_cmap('GnBu', 9)\n",
    "# cmap2 = plt.cm.get_cmap('OrRd', 9)\n",
    "\n",
    "# # near resolution horizontal\n",
    "# fig, ax = plt.subplots(2,2, figsize=(8,4), tight_layout=True)\n",
    "# for xc in res_horz_indices:\n",
    "#     ax[0,0].vlines(x=xc-3, ymin=-125,ymax=0, linewidth=0.5, color='k', linestyle='--')\n",
    "#     ax[0,1].vlines(x=xc-3, ymin=-125,ymax=0, linewidth=0.5, color='k', linestyle='--')\n",
    "#     ax[1,0].vlines(x=xc-3, ymin=-125,ymax=0, linewidth=0.5, color='k', linestyle='--')\n",
    "#     ax[1,1].vlines(x=xc-3, ymin=-125,ymax=0, linewidth=0.5, color='k', linestyle='--')\n",
    "\n",
    "# for row,index in enumerate(res_vert_indices[::-1]):\n",
    "#     ax[0,0].plot(20*np.log(image1[int(index)] / np.max(image1[int(index)])), linewidth = 0.8, c=cmap1(row), label='sequential')\n",
    "#     ax[0,1].plot(20*np.log(image3[int(index)] / np.max(image3[int(index)])), linewidth = 0.8, c=cmap1(row), label='synchronous')\n",
    "#     ax[1,0].plot(20*np.log(image2[int(index)] / np.max(image2[int(index)])), linewidth = 0.8, c=cmap2(row), label='sequential')\n",
    "#     ax[1,1].plot(20*np.log(image4[int(index)] / np.max(image4[int(index)])), linewidth = 0.8, c=cmap2(row), label='synchronous')\n",
    "\n",
    "# for a in ax.flatten():\n",
    "#     a.spines['top'].set_visible(False)\n",
    "#     a.spines['right'].set_visible(False)\n",
    "#     a.spines['top'].set_visible(False)\n",
    "#     a.spines['right'].set_visible(False)\n",
    "# ax[0,0].set_ylabel('intensity (dB)')\n",
    "# ax[1,0].set_ylabel('intensity (dB)')\n",
    "\n",
    "# ax[1,0].set_xticks([0,image3.shape[0]])\n",
    "# ax[1,0].set_xticklabels(['0','128'])\n",
    "# ax[1,1].set_xticks([0,image3.shape[0]])\n",
    "# ax[1,1].set_xticklabels(['0','128'])\n",
    "# ax[0,0].set_xticks([])\n",
    "# ax[0,1].set_xticks([])\n",
    "# ax[0,0].set_xticklabels([])\n",
    "# ax[0,1].set_xticklabels([])\n",
    "# ax[1,0].set_xlabel('x (mm)')\n",
    "# ax[1,1].set_xlabel('x (mm)')\n",
    "\n",
    "# proxy = [plt.Rectangle((0,0),1,1,fc = cmap1(n)) for n in range(cmap1.N)]\n",
    "# ax[0,1].legend(proxy[::-1], ['20 mm','','','','','','','100 mm'], frameon=False, handlelength=1, handleheight=0.01, fontsize=10, bbox_to_anchor=(1, 0.95), labelspacing = 0)\n",
    "# proxy = [plt.Rectangle((0,0),1,1,fc = cmap2(n)) for n in range(cmap2.N)]\n",
    "# ax[1,1].legend(proxy[::-1], ['20 mm','','','','','','','100 mm'], frameon=False, handlelength=1, handleheight=0.01, fontsize=10, bbox_to_anchor=(1, 0.95), labelspacing = 0)\n",
    "\n",
    "# plt.savefig(f'grid_psf_4panel.svg', bbox_inches=\"tight\")"
   ]
  }
 ],
 "metadata": {
  "kernelspec": {
   "display_name": "musik",
   "language": "python",
   "name": "python3"
  },
  "language_info": {
   "codemirror_mode": {
    "name": "ipython",
    "version": 3
   },
   "file_extension": ".py",
   "mimetype": "text/x-python",
   "name": "python",
   "nbconvert_exporter": "python",
   "pygments_lexer": "ipython3",
   "version": "3.9.18"
  }
 },
 "nbformat": 4,
 "nbformat_minor": 2
}

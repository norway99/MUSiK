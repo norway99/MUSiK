{
 "cells": [
  {
   "cell_type": "code",
   "execution_count": null,
   "metadata": {},
   "outputs": [],
   "source": [
    "import sys\n",
    "import os\n",
    "\n",
    "parent = os.path.dirname(os.path.realpath(\"../\"))\n",
    "sys.path.append(parent)\n",
    "\n",
    "import numpy as np\n",
    "\n",
    "\n",
    "import scipy\n",
    "import tqdm\n",
    "import open3d as o3d\n",
    "import matplotlib.pyplot as plt\n",
    "import glob\n",
    "\n",
    "from core import *\n",
    "\n",
    "from utils import phantom_builder\n",
    "from utils import geometry\n",
    "\n",
    "os.environ[\"CUDA_DEVICE_ORDER\"] = \"PCI_BUS_ID\"\n",
    "os.environ[\"CUDA_VISIBLE_DEVICES\"] = \"0\""
   ]
  },
  {
   "cell_type": "code",
   "execution_count": 2,
   "metadata": {},
   "outputs": [],
   "source": [
    "voxel_size = np.array([0.0005, 0.0005, 0.0005])\n",
    "surface_mesh = o3d.io.read_triangle_mesh(\n",
    "    f\"{parent}/assets/kidney_phantom/00_abdomen_cropped.obj\"\n",
    ")\n",
    "body_mask = phantom_builder.voxelize(voxel_size[0], mesh=surface_mesh)"
   ]
  },
  {
   "cell_type": "code",
   "execution_count": null,
   "metadata": {},
   "outputs": [],
   "source": [
    "test_phantom = phantom.Phantom(\n",
    "    voxel_dims=(voxel_size[0], voxel_size[0], voxel_size[0]),\n",
    "    matrix_dims=body_mask.shape,\n",
    "    baseline=(1540, 1000),\n",
    "    seed=5678,\n",
    ")\n",
    "\n",
    "kidney = tissue.Tissue(\n",
    "    name=\"renal_cortex\", c=1571.3, rho=1049, sigma=0, scale=0.0001, label=3\n",
    ")\n",
    "blood = tissue.Tissue(name=\"blood\", c=1578, rho=1060, sigma=0, scale=0.00001, label=1)\n",
    "medulla = tissue.Tissue(\n",
    "    name=\"renal_medulla\", c=1564, rho=1044, sigma=0, scale=0.0001, label=2\n",
    ")\n",
    "cortex = tissue.Tissue(\n",
    "    name=\"renal_cortex\", c=1571.3, rho=1049, sigma=0, scale=0.0001, label=3\n",
    ")\n",
    "fat = tissue.Tissue(name=\"fat\", c=1450, rho=920, sigma=30, scale=0.0001, label=4)\n",
    "connective = tissue.Tissue(\n",
    "    name=\"connective_tissue\", c=1450, rho=1027, sigma=0, scale=0.0005, label=5\n",
    ")\n",
    "muscle = tissue.Tissue(name=\"muscle\", c=1580, rho=1090, sigma=4, scale=0.001, label=6)\n",
    "bone = tissue.Tissue(\n",
    "    name=\"bone\", c=2500, rho=1800, sigma=0, scale=0.0001, label=7\n",
    ")  # Running simulations with high sos tissue requires a larger grid_lambda parameter to maintain stability\n",
    "\n",
    "kidney_file_dir = f\"{parent}/assets/kidney_phantom\"\n",
    "kidney_tissue_list = [\n",
    "    fat,\n",
    "    muscle,\n",
    "    muscle,\n",
    "    bone,\n",
    "    cortex,\n",
    "    cortex,\n",
    "    medulla,\n",
    "    medulla,\n",
    "    blood,\n",
    "]\n",
    "\n",
    "test_phantom.build_organ_from_mesh(\n",
    "    surface_mesh, voxel_size[0], kidney_tissue_list, dir_path=kidney_file_dir\n",
    ")\n",
    "test_phantom.set_default_tissue(\"water\")"
   ]
  },
  {
   "cell_type": "code",
   "execution_count": null,
   "metadata": {},
   "outputs": [],
   "source": [
    "index = 235\n",
    "plt.imshow(\n",
    "    test_phantom.get_complete()[0, :, :, index], cmap=\"gray\", vmin=1400, vmax=1650\n",
    ")\n",
    "plt.imshow(\n",
    "    body_mask[:, :, index], alpha=(body_mask[:, :, index] > 0) * 0.9, cmap=\"Reds\"\n",
    ")"
   ]
  },
  {
   "cell_type": "code",
   "execution_count": 4,
   "metadata": {},
   "outputs": [],
   "source": [
    "num_transducers = 1\n",
    "\n",
    "transducers = [\n",
    "    transducer.Focused(\n",
    "        max_frequency=2e6,\n",
    "        elements=128,\n",
    "        width=20e-3,\n",
    "        height=20e-3,\n",
    "        sensor_sampling_scheme=\"not_centroid\",\n",
    "        sweep=np.pi / 2,\n",
    "        ray_num=128,\n",
    "        imaging_ndims=2,\n",
    "        focus_azimuth=190 - 3,\n",
    "        focus_elevation=120 - 3,\n",
    "    )\n",
    "    for i in range(num_transducers)\n",
    "]\n",
    "\n",
    "\n",
    "for t in transducers:\n",
    "    t.make_sensor_coords(1540)  # test_phantom.baseline[0]\n",
    "\n",
    "test_transducer_set = transducer_set.TransducerSet(transducers, seed=8888)"
   ]
  },
  {
   "cell_type": "code",
   "execution_count": 5,
   "metadata": {},
   "outputs": [],
   "source": [
    "pt, normal = test_transducer_set.place_on_mesh_voxel(\n",
    "    0, surface_mesh, [220, 70, 340], voxel_size[0]\n",
    ")\n",
    "transducer_pose = geometry.Transform(\n",
    "    rotation=(np.pi * 0.65, np.pi * 0.15, np.pi * 0.6), translation=pt\n",
    ")\n",
    "test_transducer_set.assign_pose(0, transducer_pose)"
   ]
  },
  {
   "cell_type": "code",
   "execution_count": 7,
   "metadata": {},
   "outputs": [],
   "source": [
    "# pt, normal = test_transducer_set.place_on_mesh_voxel(0, surface_mesh,[220,70,310], voxel_size[0])\n",
    "# normal = -normal\n",
    "# normal = np.array([normal[0] + 0.3, normal[1] - 0.3, normal[2] - 0.3])\n",
    "# normal = normal / np.linalg.norm(normal)\n",
    "# pose = geometry.Transform.make_from_heading_vector(normal, pt)\n",
    "# theta = np.pi * .45\n",
    "# about_nl_axis = geometry.Transform(rotation=tuple(theta * normal), translation=(0,0,0), about_axis=True)\n",
    "# transducer_pose = about_nl_axis * pose\n",
    "# test_transducer_set.assign_pose(0, transducer_pose)"
   ]
  },
  {
   "cell_type": "code",
   "execution_count": 6,
   "metadata": {},
   "outputs": [],
   "source": [
    "test_sensor = sensor.Sensor(\n",
    "    transducer_set=test_transducer_set, aperture_type=\"transmit_as_receive\"\n",
    ")"
   ]
  },
  {
   "cell_type": "code",
   "execution_count": null,
   "metadata": {},
   "outputs": [],
   "source": [
    "points = np.array(\n",
    "    (\n",
    "        o3d.io.read_triangle_mesh(\n",
    "            f\"{parent}/assets/kidney_phantom/04_VH_M_kidney_capsule_L.obj\"\n",
    "        )\n",
    "    )\n",
    "    .sample_points_uniformly(1000)\n",
    "    .points\n",
    ")\n",
    "points = points[:, [0, 1, 2]] - np.mean(points, axis=0)\n",
    "\n",
    "test_transducer_set.plot_transducer_coords(\n",
    "    scale=0.2, phantom_coords=points, view=(0, 0)\n",
    ")\n",
    "test_transducer_set.plot_transducer_coords(\n",
    "    scale=0.2, phantom_coords=points, view=(0, 0)\n",
    ")\n",
    "test_transducer_set.plot_transducer_coords(\n",
    "    scale=0.2, phantom_coords=points, view=(90, 0)\n",
    ")"
   ]
  },
  {
   "cell_type": "code",
   "execution_count": 7,
   "metadata": {},
   "outputs": [],
   "source": [
    "simprops = simulation.SimProperties(\n",
    "    grid_size=(180e-3, 90e-3, 40e-3),\n",
    "    voxel_size=(0.5e-3, 0.5e-3, 0.5e-3),\n",
    "    PML_size=(32, 8, 8),\n",
    "    PML_alpha=2,\n",
    "    t_end=12e-5,  # [s]\n",
    "    bona=6,  # parameter b/a determining degree of nonlinear acoustic effects\n",
    "    alpha_coeff=0.5,  # [dB/(MHz^y cm)]\n",
    "    alpha_power=1.5,\n",
    "    grid_lambda=2,  #\n",
    ")"
   ]
  },
  {
   "cell_type": "code",
   "execution_count": 8,
   "metadata": {},
   "outputs": [],
   "source": [
    "test_experiment = experiment.Experiment(\n",
    "    simulation_path=\"kidney_experiment_focused\",\n",
    "    sim_properties=simprops,\n",
    "    phantom=test_phantom,\n",
    "    transducer_set=test_transducer_set,\n",
    "    sensor=test_sensor,\n",
    "    nodes=1,\n",
    "    results=None,\n",
    "    indices=None,\n",
    "    workers=3,\n",
    "    additional_keys=[],\n",
    ")\n",
    "\n",
    "test_experiment.save()"
   ]
  },
  {
   "cell_type": "code",
   "execution_count": null,
   "metadata": {},
   "outputs": [],
   "source": [
    "sensor_coord = (\n",
    "    np.mean(test_sensor.sensor_coords, axis=0) / voxel_size\n",
    "    + np.array(test_phantom.matrix_dims) / 2\n",
    ")\n",
    "sensor_coord"
   ]
  },
  {
   "cell_type": "code",
   "execution_count": null,
   "metadata": {},
   "outputs": [],
   "source": [
    "test_experiment.visualize_sensor_mask(\n",
    "    index=[slice(0, -1, 1), slice(0, -1, 1), int(np.round(sensor_coord[2]))],\n",
    "    body_surface_mask=body_mask,\n",
    ")"
   ]
  },
  {
   "cell_type": "code",
   "execution_count": null,
   "metadata": {},
   "outputs": [],
   "source": [
    "test_experiment.visualize_sensor_mask(\n",
    "    index=[\n",
    "        slice(0, -1, 1),\n",
    "        int(np.round(sensor_coord[1])),\n",
    "        slice(0, -1, 1),\n",
    "    ],\n",
    "    body_surface_mask=body_mask,\n",
    ")"
   ]
  },
  {
   "cell_type": "code",
   "execution_count": null,
   "metadata": {},
   "outputs": [],
   "source": [
    "test_experiment.plot_ray_path(0)"
   ]
  },
  {
   "cell_type": "code",
   "execution_count": null,
   "metadata": {},
   "outputs": [],
   "source": [
    "test_experiment.plot_ray_path(31)"
   ]
  },
  {
   "cell_type": "code",
   "execution_count": null,
   "metadata": {},
   "outputs": [],
   "source": [
    "test_experiment.plot_ray_path(-1)"
   ]
  },
  {
   "cell_type": "code",
   "execution_count": null,
   "metadata": {},
   "outputs": [],
   "source": [
    "test_experiment = experiment.Experiment.load(\"kidney_experiment_focused\")\n",
    "test_experiment.run(\n",
    "    dry=False\n",
    ")  # dry = True will load the data from a previously saved simulation instead of running a new one"
   ]
  },
  {
   "cell_type": "code",
   "execution_count": null,
   "metadata": {},
   "outputs": [],
   "source": [
    "test_experiment.run(repeat=False)"
   ]
  },
  {
   "cell_type": "code",
   "execution_count": 4,
   "metadata": {},
   "outputs": [],
   "source": [
    "test_experiment.add_results()"
   ]
  },
  {
   "cell_type": "code",
   "execution_count": 5,
   "metadata": {},
   "outputs": [],
   "source": [
    "test_reconstruction = reconstruction.DAS(experiment=test_experiment)"
   ]
  },
  {
   "cell_type": "code",
   "execution_count": null,
   "metadata": {},
   "outputs": [],
   "source": [
    "signals = test_reconstruction.get_signals(\n",
    "    dimensions=2, matsize=1024, downsample=1, workers=16, tgc=5\n",
    ")"
   ]
  },
  {
   "cell_type": "code",
   "execution_count": null,
   "metadata": {},
   "outputs": [],
   "source": [
    "signals[0].shape"
   ]
  },
  {
   "cell_type": "code",
   "execution_count": null,
   "metadata": {},
   "outputs": [],
   "source": [
    "signals[0].shape"
   ]
  },
  {
   "cell_type": "code",
   "execution_count": null,
   "metadata": {},
   "outputs": [],
   "source": [
    "plt.imshow(signals[0], vmax=20000, cmap=\"gray\")\n",
    "plt.gca().set_facecolor(\"black\")\n",
    "plt.gca().set_xticks([])\n",
    "plt.gca().set_yticks([])\n",
    "plt.savefig(\"kidney_focused_2MHz.png\", bbox_inches=\"tight\", pad_inches=0, dpi=300)"
   ]
  },
  {
   "cell_type": "code",
   "execution_count": null,
   "metadata": {},
   "outputs": [],
   "source": [
    "plt.plot(test_experiment.results[9][1][0])"
   ]
  },
  {
   "cell_type": "code",
   "execution_count": null,
   "metadata": {},
   "outputs": [],
   "source": [
    "test_experiment.results[0][1][0]"
   ]
  },
  {
   "cell_type": "code",
   "execution_count": null,
   "metadata": {},
   "outputs": [],
   "source": []
  },
  {
   "cell_type": "code",
   "execution_count": null,
   "metadata": {},
   "outputs": [],
   "source": []
  },
  {
   "cell_type": "code",
   "execution_count": null,
   "metadata": {},
   "outputs": [],
   "source": []
  }
 ],
 "metadata": {
  "kernelspec": {
   "display_name": "musik",
   "language": "python",
   "name": "python3"
  },
  "language_info": {
   "codemirror_mode": {
    "name": "ipython",
    "version": 3
   },
   "file_extension": ".py",
   "mimetype": "text/x-python",
   "name": "python",
   "nbconvert_exporter": "python",
   "pygments_lexer": "ipython3",
   "version": "3.9.18"
  }
 },
 "nbformat": 4,
 "nbformat_minor": 2
}

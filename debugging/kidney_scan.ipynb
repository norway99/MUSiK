{
 "cells": [
  {
   "cell_type": "code",
   "execution_count": null,
   "metadata": {},
   "outputs": [],
   "source": [
    "import sys\n",
    "sys.path.append('../utils')\n",
    "sys.path.append('../')\n",
    "import numpy as np\n",
    "import scipy\n",
    "import tqdm\n",
    "import utils\n",
    "import geometry\n",
    "import phantom_builder\n",
    "import open3d as o3d\n",
    "from open3d import io, visualization\n",
    "\n",
    "from sklearn.cluster import KMeans\n",
    "from skimage.morphology import erosion, dilation, opening, closing, white_tophat\n",
    "from skimage.morphology import black_tophat, skeletonize, convex_hull_image\n",
    "from skimage import segmentation \n",
    "\n",
    "import matplotlib.pyplot as plt\n",
    "import plotly.graph_objects as go\n",
    "import glob\n",
    "import pydicom\n",
    "import functools\n",
    "import mcubes\n",
    "\n",
    "# code below is commented out since we start with a re-scaled and re-positioned body surface mesh from kidney_files directory\n",
    "\n",
    "# def plot_slice(image, slice):\n",
    "#     plt.imshow(image[:, :, slice])\n",
    "#     plt.colorbar()\n",
    "#     plt.gray()\n",
    "\n",
    "#image, voxel_size = phantom_builder.read_dicom('../demos/series-00000/', HU = True, crop = 450, axis = 0)\n",
    "# opened = phantom_builder.morph_open(image, 5)\n",
    "# fg_mask = phantom_builder.make_fg_mask(opened, opened.shape[2], fg_threshold = 40)\n",
    "# fg_mask = phantom_builder.make_fg_mask(opened, opened.shape[2], fg_threshold = 40)\n",
    "# vertices, triangles = phantom_builder.make_surface_mesh(fg_mask, voxel_size, './abdomen_smoothed.obj')\n",
    "\n",
    "voxel_size = np.array([0.00058984, 0.00058984, 0.0005])\n",
    "surface_mesh = io.read_triangle_mesh(\"../demos/abdomen_smoothed_scaled.obj\")\n",
    "body_mask = phantom_builder.voxelize(\"../demos/abdomen_smoothed_scaled.obj\", voxel_size[0])\n"
   ]
  },
  {
   "cell_type": "code",
   "execution_count": null,
   "metadata": {},
   "outputs": [],
   "source": [
    "test_phantom = phantom.Phantom(source_path = None,\n",
    "                               voxel_dims = (voxel_size[0], voxel_size[0], voxel_size[0]),\n",
    "                               matrix_dims = body_mask.shape,\n",
    "                               baseline = (1540, 1000),\n",
    "                               seed = 5678,\n",
    "                               )\n",
    "\n",
    "blood = tissue.Tissue(name='blood', c=1578, rho=1060, sigma=1.3, scale=0.00001, label=1)\n",
    "medulla = tissue.Tissue(name='renal_medulla', c=1564, rho=1044, sigma=40, scale=0.0001, label=2)\n",
    "cortex = tissue.Tissue(name='renal_cortex', c=1571.3, rho=1049, sigma=5, scale=0.0001, label=3)\n",
    "fat = tissue.Tissue(name='fat', c=1450, rho=920, sigma=10, scale=0.0001, label=4)\n",
    "connective = tissue.Tissue(name='connective_tissue', c=1450, rho=1027, sigma=30, scale=0.0001, label=5)\n",
    "\n",
    "kidney_file_dir = \"../demos/kidney_files/\" \n",
    "kidney_tissue_list = [blood, connective, cortex, cortex, blood, medulla, medulla]\n",
    "\n",
    "test_phantom.add_tissue(fat, mask=np.ones(test_phantom.matrix_dims))\n",
    "test_phantom.build_organ_from_mesh(surface_mesh, voxel_size[0], kidney_tissue_list, dir_path = kidney_file_dir)\n",
    "test_phantom.set_default_tissue('fat')"
   ]
  },
  {
   "cell_type": "code",
   "execution_count": null,
   "metadata": {},
   "outputs": [],
   "source": [
    "transducers = [transducer.Planewave(max_frequency=1e6,\n",
    "                                    elements = 32, \n",
    "                                    width = 20e-3,\n",
    "                                    height =  20e-3,\n",
    "                                    sensor_sampling_scheme = 'not_centroid', \n",
    "                                    sweep = np.pi/3,\n",
    "                                    ray_num = 32, \n",
    "                                    imaging_ndims = 2,\n",
    "                                    focus_elevation = 20e-3,\n",
    "                                    ) for i in range(1)]\n",
    "\n",
    "for t in transducers:\n",
    "    t.make_sensor_coords(test_phantom.baseline[0])\n",
    "\n",
    "test_transducer_set = transducer_set.TransducerSet(transducers, seed=8888)\n",
    "\n",
    "test_transducer_set.place_transducer_by_voxel(0, surface_mesh, np.pi/2, [400,600,330], voxel_size[0])\n",
    "\n",
    "test_transducer_set.plot_transducer_fovs(scale=0.1)\n",
    "test_transducer_set.plot_transducer_coords(scale=0.1)\n"
   ]
  },
  {
   "cell_type": "code",
   "execution_count": null,
   "metadata": {},
   "outputs": [],
   "source": [
    "test_sensor = sensor.Sensor(transducer_set=test_transducer_set, aperture_type='transmit_as_receive')"
   ]
  },
  {
   "cell_type": "code",
   "execution_count": null,
   "metadata": {},
   "outputs": [],
   "source": [
    "simprops = simulation.SimProperties(\n",
    "                grid_size   = (150e-3,40e-3,40e-3),\n",
    "                voxel_size  = (0.5e-3,0.5e-3,0.5e-3),\n",
    "                PML_size    = (32,8,8),\n",
    "                PML_alpha   = 2,\n",
    "                t_end       = 12e-5,           # [s]\n",
    "                bona        = 6,               # parameter b/a determining degree of nonlinear acoustic effects\n",
    "                alpha_coeff = 0.5, \t           # [dB/(MHz^y cm)]\n",
    "                alpha_power = 1.5,\n",
    "                )"
   ]
  },
  {
   "cell_type": "code",
   "execution_count": null,
   "metadata": {},
   "outputs": [],
   "source": [
    "test_experiment = experiment.Experiment(\n",
    "                 simulation_path = '../experiment_files/kidney_experiment_01',\n",
    "                 sim_properties  = simprops,\n",
    "                 phantom         = test_phantom,\n",
    "                 transducer_set  = test_transducer_set,\n",
    "                 sensor          = test_sensor,\n",
    "                 nodes           = 1,\n",
    "                 results         = None,\n",
    "                 indices         = None,\n",
    "                 workers         = 3,\n",
    "                 additional_keys = []\n",
    "                 )\n",
    "\n",
    "test_experiment.save()"
   ]
  },
  {
   "cell_type": "code",
   "execution_count": null,
   "metadata": {},
   "outputs": [],
   "source": [
    "test_experiment.plot_ray_path(15)"
   ]
  },
  {
   "cell_type": "code",
   "execution_count": null,
   "metadata": {},
   "outputs": [],
   "source": [
    "test_experiment = experiment.Experiment.load('../experiment_files/kidney_experiment_01')\n",
    "test_experiment.run(dry=True)"
   ]
  },
  {
   "cell_type": "code",
   "execution_count": null,
   "metadata": {},
   "outputs": [],
   "source": [
    "test_experiment.run(repeat=True)"
   ]
  }
 ],
 "metadata": {
  "language_info": {
   "name": "python"
  }
 },
 "nbformat": 4,
 "nbformat_minor": 2
}

{
 "cells": [
  {
   "cell_type": "code",
   "execution_count": 1,
   "metadata": {},
   "outputs": [],
   "source": [
    "import sys\n",
    "sys.path.append('../utils')\n",
    "sys.path.append('../core')\n",
    "sys.path.append('../')\n",
    "import numpy as np\n",
    "import scipy\n",
    "import tqdm\n",
    "import utils\n",
    "import geometry\n",
    "import phantom_builder\n",
    "from core import *\n",
    "import open3d as o3d\n",
    "from open3d import io, visualization\n",
    "\n",
    "import matplotlib.pyplot as plt\n",
    "import plotly.graph_objects as go\n",
    "import glob\n",
    "import pydicom\n",
    "import functools"
   ]
  },
  {
   "cell_type": "code",
   "execution_count": null,
   "metadata": {},
   "outputs": [],
   "source": [
    "voxel_size = np.array([0.00058984, 0.00058984, 0.0005])\n",
    "surface_mesh = io.read_triangle_mesh(\"../assets/kidney_obj/abdomen_cropped.obj\")\n",
    "body_mask = phantom_builder.voxelize(voxel_size[0], mesh=surface_mesh)"
   ]
  },
  {
   "cell_type": "code",
   "execution_count": null,
   "metadata": {},
   "outputs": [],
   "source": [
    "test_phantom = phantom.Phantom(source_path = None,\n",
    "                               voxel_dims = (voxel_size[0], voxel_size[0], voxel_size[0]),\n",
    "                               matrix_dims = body_mask.shape,\n",
    "                               baseline = (1540, 1000),\n",
    "                               seed = 5678,\n",
    "                               )\n",
    "\n",
    "blood = tissue.Tissue(name='blood', c=1578, rho=1060, sigma=1.3, scale=0.00001, label=1)\n",
    "medulla = tissue.Tissue(name='renal_medulla', c=1564, rho=1044, sigma=40, scale=0.0001, label=2)\n",
    "cortex = tissue.Tissue(name='renal_cortex', c=1571.3, rho=1049, sigma=5, scale=0.0001, label=3)\n",
    "fat = tissue.Tissue(name='fat', c=1450, rho=920, sigma=0, scale=1, label=4)\n",
    "connective = tissue.Tissue(name='connective_tissue', c=1450, rho=1027, sigma=30, scale=0.0001, label=5)\n",
    "\n",
    "kidney_file_dir = \"../assets/kidney_obj/\"\n",
    "kidney_tissue_list = [connective, cortex, blood, blood, medulla]\n",
    "\n",
    "test_phantom.add_tissue(fat, mask=np.ones(test_phantom.matrix_dims))\n",
    "test_phantom.build_organ_from_mesh(surface_mesh, voxel_size[0], kidney_tissue_list, dir_path = kidney_file_dir)\n",
    "test_phantom.set_default_tissue('fat')"
   ]
  },
  {
   "cell_type": "code",
   "execution_count": null,
   "metadata": {},
   "outputs": [],
   "source": [
    "test_phantom.mask = np.transpose(test_phantom.mask, (2, 0, 1) )\n",
    "test_phantom.matrix_dims = np.array(test_phantom.mask.shape)\n",
    "test_phantom.voxel_dims = np.array([test_phantom.voxel_dims[2] , test_phantom.voxel_dims[0], test_phantom.voxel_dims[1]])\n",
    "test = test_phantom.get_complete()"
   ]
  },
  {
   "cell_type": "code",
   "execution_count": null,
   "metadata": {},
   "outputs": [],
   "source": [
    "plt.imshow(test[0, :, :, 150])\n",
    "bm = np.transpose(body_mask, (2, 0,1))\n",
    "plt.imshow(bm[:,:, 310] * 1000, alpha=0.2, cmap='Reds_r')"
   ]
  },
  {
   "cell_type": "code",
   "execution_count": null,
   "metadata": {},
   "outputs": [],
   "source": [
    "plt.imshow(test[0, 180, :, :])\n",
    "bm = np.transpose(body_mask, (2, 0,1))\n",
    "plt.imshow(bm[180,:, :] * 1000, alpha=0.2, cmap='Reds_r')"
   ]
  },
  {
   "cell_type": "code",
   "execution_count": null,
   "metadata": {},
   "outputs": [],
   "source": [
    "num_transducers = 1\n",
    "# transducers = [transducer.Planewave(max_frequency=1e6,\n",
    "#                                     elements = 32, \n",
    "#                                     width = 20e-3,\n",
    "#                                     height =  20e-3,\n",
    "#                                     sensor_sampling_scheme = 'not_centroid', \n",
    "#                                     sweep = np.pi/3,\n",
    "#                                     ray_num = 3, \n",
    "#                                     imaging_ndims = 2,\n",
    "#                                     focus_elevation = 20e-3,\n",
    "#                                     ) for i in range(num_transducers)]\n",
    "\n",
    "transducers = [transducer.Focused(max_frequency = 1e6,\n",
    "                                  elements = 128, \n",
    "                                  width = 40e-3,\n",
    "                                  height =  40e-3,\n",
    "                                  sensor_sampling_scheme = 'not_centroid', \n",
    "                                  sweep = np.pi/2,\n",
    "                                  ray_num = 64,\n",
    "                                  imaging_ndims = 2,\n",
    "                                  focus_azimuth = 100e-3,\n",
    "                                  focus_elevation = 100e-3) for i in range(num_transducers)]\n",
    "\n",
    "\n",
    "for t in transducers:\n",
    "    t.make_sensor_coords(1540) # test_phantom.baseline[0]\n",
    "\n",
    "test_transducer_set = transducer_set.TransducerSet(transducers, seed=8888)\n",
    "\n",
    "# # pt, normal = test_transducer_set.place_on_mesh_voxel(0, surface_mesh,[100,275,150], voxel_size[0])\n",
    "# pt, normal = test_transducer_set.place_on_mesh_voxel(0, surface_mesh,[250,100,120], voxel_size[0])\n",
    "# pt = np.array([pt[2], pt[0], pt[1]])\n",
    "# normal = -np.array([normal[2], normal[0], normal[1]])"
   ]
  },
  {
   "cell_type": "code",
   "execution_count": null,
   "metadata": {},
   "outputs": [],
   "source": [
    "# pose = geometry.Transform.make_from_heading_vector(normal, pt)\n",
    "\n",
    "# theta = 0\n",
    "# about_nl_axis = geometry.Transform(rotation=tuple(theta*normal), translation=(0,0,0), about_axis=True)\n",
    "\n",
    "# transducer_pose = about_nl_axis * pose\n",
    "\n",
    "# test_transducer_set.assign_pose(0, transducer_pose)\n"
   ]
  },
  {
   "cell_type": "code",
   "execution_count": null,
   "metadata": {},
   "outputs": [],
   "source": [
    "transform1 = geometry.Transform([-np.pi/3,0,0], [0,0,0])\n",
    "transform2 = geometry.Transform([0,np.pi/6,0], [0,0,0])\n",
    "transform3 = geometry.Transform([0,0,np.pi/2], [0,0,0])\n",
    "transform = transform1 * transform2 * transform3\n",
    "position = [-0.07,0,0.02]\n",
    "transform.translation = (transform1 * transform2).apply_to_point(position, inverse=False)\n",
    "test_transducer_set.assign_pose(0, transform)"
   ]
  },
  {
   "cell_type": "code",
   "execution_count": null,
   "metadata": {},
   "outputs": [],
   "source": [
    "# test.shape"
   ]
  },
  {
   "cell_type": "code",
   "execution_count": null,
   "metadata": {},
   "outputs": [],
   "source": [
    "# np.mean(test_sensor.sensor_coords, axis=0) / voxel_size + np.array(test.shape[1:])"
   ]
  },
  {
   "cell_type": "code",
   "execution_count": null,
   "metadata": {},
   "outputs": [],
   "source": [
    "test_sensor = sensor.Sensor(transducer_set=test_transducer_set, aperture_type='transmit_as_receive')"
   ]
  },
  {
   "cell_type": "code",
   "execution_count": null,
   "metadata": {},
   "outputs": [],
   "source": [
    "# test_sensor.visualize(test_phantom, index=[slice(0, -1, 1), slice(0, -1, 1), 150])"
   ]
  },
  {
   "cell_type": "code",
   "execution_count": null,
   "metadata": {},
   "outputs": [],
   "source": [
    "test_transducer_set.plot_transducer_coords()\n",
    "test_transducer_set.plot_transducer_fovs()"
   ]
  },
  {
   "cell_type": "code",
   "execution_count": null,
   "metadata": {},
   "outputs": [],
   "source": [
    "simprops = simulation.SimProperties(\n",
    "                grid_size   = (150e-3,80e-3,80e-3),\n",
    "                voxel_size  = (0.5e-3,0.5e-3,0.5e-3),\n",
    "                PML_size    = (8,8,8),\n",
    "                PML_alpha   = 2,\n",
    "                t_end       = 12e-5,           # [s]\n",
    "                bona        = 6,               # parameter b/a determining degree of nonlinear acoustic effects\n",
    "                alpha_coeff = 0.5, \t           # [dB/(MHz^y cm)]\n",
    "                alpha_power = 1.5,\n",
    "                )"
   ]
  },
  {
   "cell_type": "code",
   "execution_count": null,
   "metadata": {},
   "outputs": [],
   "source": [
    "test_experiment = experiment.Experiment(\n",
    "                 simulation_path = '../experiment_files/kidney_experiment_01',\n",
    "                 sim_properties  = simprops,\n",
    "                 phantom         = test_phantom,\n",
    "                 transducer_set  = test_transducer_set,\n",
    "                 sensor          = test_sensor,\n",
    "                 nodes           = 1,\n",
    "                 results         = None,\n",
    "                 indices         = None,\n",
    "                 workers         = 3,\n",
    "                 additional_keys = []\n",
    "                 )\n",
    "\n",
    "test_experiment.save()"
   ]
  },
  {
   "cell_type": "code",
   "execution_count": null,
   "metadata": {},
   "outputs": [],
   "source": [
    "test_experiment.plot_ray_path(1)"
   ]
  },
  {
   "cell_type": "code",
   "execution_count": null,
   "metadata": {},
   "outputs": [],
   "source": [
    "test_experiment.plot_ray_path(1)"
   ]
  },
  {
   "cell_type": "code",
   "execution_count": null,
   "metadata": {},
   "outputs": [],
   "source": [
    "test_experiment = experiment.Experiment.load('../experiment_files/kidney_experiment_01')\n",
    "test_experiment.run(dry=True)"
   ]
  },
  {
   "cell_type": "code",
   "execution_count": null,
   "metadata": {},
   "outputs": [],
   "source": [
    "test_experiment.run(repeat=True)"
   ]
  },
  {
   "cell_type": "code",
   "execution_count": null,
   "metadata": {},
   "outputs": [],
   "source": []
  },
  {
   "cell_type": "code",
   "execution_count": null,
   "metadata": {},
   "outputs": [],
   "source": []
  }
 ],
 "metadata": {
  "kernelspec": {
   "display_name": "musik",
   "language": "python",
   "name": "python3"
  },
  "language_info": {
   "codemirror_mode": {
    "name": "ipython",
    "version": 3
   },
   "file_extension": ".py",
   "mimetype": "text/x-python",
   "name": "python",
   "nbconvert_exporter": "python",
   "pygments_lexer": "ipython3",
   "version": "3.9.18"
  }
 },
 "nbformat": 4,
 "nbformat_minor": 2
}

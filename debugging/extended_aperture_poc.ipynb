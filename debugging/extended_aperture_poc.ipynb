{
 "cells": [
  {
   "cell_type": "code",
   "execution_count": null,
   "metadata": {},
   "outputs": [],
   "source": [
    "import sys\n",
    "sys.path.append('../utils')\n",
    "sys.path.append('../core')\n",
    "sys.path.append('../')\n",
    "import numpy as np\n",
    "import scipy\n",
    "import tqdm\n",
    "import utils\n",
    "import geometry\n",
    "from core import *\n",
    "\n",
    "import matplotlib.pyplot as plt\n",
    "import plotly.graph_objects as go\n",
    "import glob"
   ]
  },
  {
   "cell_type": "code",
   "execution_count": null,
   "metadata": {},
   "outputs": [],
   "source": [
    "test_phantom = phantom.Phantom(source_path = None,\n",
    "            voxel_dims = (0.5e-3,0.5e-3,0.5e-3),\n",
    "            matrix_dims = (150,150,100),\n",
    "            baseline = (1500, 1000),\n",
    "            seed = 5678,)\n",
    "\n",
    "blood = tissue.Tissue(name='blood', c=1578, rho=1060, sigma=5.3, scale=0.00001, label=1)\n",
    "myocardium = tissue.Tissue(name='myocardium', c=1561.3, rho=1081, sigma=50, scale=0.0001, label=2)\n",
    "fat = tissue.Tissue(name='fat', c=1450, rho=920, sigma=0, scale=1, label=3)\n",
    "\n",
    "pos = 0.02\n",
    "\n",
    "# test_phantom.add_tissue_sphere((pos,-pos,0), 2, blood)\n",
    "# test_phantom.add_tissue_sphere((pos,0,0), 4, blood)\n",
    "# test_phantom.add_tissue_sphere((pos,pos,0), 8, blood)\n",
    "\n",
    "# test_phantom.add_tissue_sphere((-pos,n-pos,0), 4, fat)\n",
    "# test_phantom.add_tissue_sphere((-pos,0,0), 8, fat)\n",
    "# test_phantom.add_tissue_sphere((-pos,pos,0), 2, fat)\n",
    "\n",
    "# test_phantom.add_tissue_sphere((0,-pos,0), 8, myocardium)\n",
    "# test_phantom.add_tissue_sphere((0,0,0), 2, myocardium)\n",
    "# test_phantom.add_tissue_sphere((0,pos,0), 4, myocardium)\n",
    "\n",
    "test_phantom.add_tissue(fat, mask=np.ones(test_phantom.matrix_dims))\n",
    "test_phantom.add_tissue_sphere((pos,0,0), 4, myocardium)\n",
    "test_phantom.add_tissue_sphere((0+0.01,pos-0.01,0), 4, myocardium)\n",
    "# test_phantom.add_tissue_sphere((-pos,2*pos,0), 6, myocardium)\n",
    "test_phantom.set_default_tissue('fat')\n",
    "test = test_phantom.get_complete()\n",
    "# test_phantom.add_tissue_sphere((0,-pos,0), 4, myocardium)\n"
   ]
  },
  {
   "cell_type": "code",
   "execution_count": null,
   "metadata": {},
   "outputs": [],
   "source": [
    "plt.imshow(test[0,:,:,test_phantom.matrix_dims[2]//2])\n",
    "x = test_phantom.mask\n",
    "print(np.sum(np.where(x != 3, 1, 0)))\n"
   ]
  },
  {
   "cell_type": "code",
   "execution_count": null,
   "metadata": {},
   "outputs": [],
   "source": [
    "num_transducers = 3\n",
    "transducers = [transducer.Planewave(max_frequency=1e6,\n",
    "                                    elements = 32, \n",
    "                                    width = 20e-3,\n",
    "                                    height =  10e-3,\n",
    "                                    sensor_sampling_scheme = 'not_centroid', \n",
    "                                    sweep = np.pi/6,\n",
    "                                    ray_num = 30, \n",
    "                                    imaging_ndims = 2,\n",
    "                                    focus_elevation = 50e-3,\n",
    "                                    ) for i in range(num_transducers)]\n",
    "\n",
    "for t in transducers:\n",
    "    t.make_sensor_coords(test_phantom.baseline[0])"
   ]
  },
  {
   "cell_type": "code",
   "execution_count": null,
   "metadata": {},
   "outputs": [],
   "source": [
    "cont_transducer_set = transducer_set.TransducerSet(transducers, seed=8888)\n",
    "cont_transducer_set.assign_pose(0, geometry.Transform([-np.pi/6,0,0], [0,0.01866,0]))\n",
    "cont_transducer_set.assign_pose(2, geometry.Transform([np.pi/6,0,0], [0,-0.01866,0]))\n",
    "cont_transducer_set.assign_pose(1, geometry.Transform(translation=[-0.005,0,0]))\n",
    "# test_transducer_set.assign_pose(0, geometry.Transform([-2*np.pi/6,0,0], [0,0.01,0]))\n",
    "# test_transducer_set.assign_pose(1, geometry.Transform([2*np.pi/6,0,0], [0,-0.01,0]))\n",
    "# test_transducer_set.assign_pose(1, geometry.Transform([np.pi/20,0,0], [0,-0.01,0]))\n",
    "\n",
    "cont_transducer_set.plot_transducer_fovs(scale=0.1)\n",
    "cont_transducer_set.plot_transducer_coords(scale=0.1)"
   ]
  },
  {
   "cell_type": "code",
   "execution_count": null,
   "metadata": {},
   "outputs": [],
   "source": [
    "num_transducers = 2\n",
    "transducers_copy = [transducer.Planewave(max_frequency=1e6,\n",
    "                                    elements = 32, \n",
    "                                    width = 20e-3,\n",
    "                                    height =  10e-3,\n",
    "                                    sensor_sampling_scheme = 'not_centroid', \n",
    "                                    sweep = np.pi/6,\n",
    "                                    ray_num = 30, \n",
    "                                    imaging_ndims = 2,\n",
    "                                    focus_elevation = 50e-3,\n",
    "                                    ) for i in range(num_transducers)]\n",
    "\n",
    "for t in transducers_copy:\n",
    "    t.make_sensor_coords(test_phantom.baseline[0])\n",
    "gap_transducer_set = transducer_set.TransducerSet(transducers_copy, seed=8888)\n",
    "gap_transducer_set.assign_pose(0, geometry.Transform([-np.pi/6,0,0], [0,0.01866,0]))\n",
    "gap_transducer_set.assign_pose(1, geometry.Transform([np.pi/6,0,0], [0,-0.01866,0]))\n",
    "\n",
    "gap_transducer_set.plot_transducer_fovs(scale=0.1)\n",
    "gap_transducer_set.plot_transducer_coords(scale=0.1)\n",
    "\n"
   ]
  },
  {
   "cell_type": "code",
   "execution_count": null,
   "metadata": {},
   "outputs": [],
   "source": [
    "extended_sensor = sensor.Sensor(transducer_set=cont_transducer_set, aperture_type='extended_aperture')\n",
    "tar_sensor = sensor.Sensor(transducer_set=cont_transducer_set, aperture_type='transmit_as_receive')\n",
    "gap_sensor = sensor.Sensor(transducer_set=gap_transducer_set, aperture_type='extended_aperture')\n",
    "gm = extended_sensor.visualize(test_phantom, index=[slice(0, -1, 1), slice(0, -1, 1), test_phantom.matrix_dims[2]//2])\n",
    "\n",
    "#gm2 = gap_sensor.visualize(test_phantom, index=[slice(0, -1, 1), slice(0, -1, 1), test_phantom.matrix_dims[2]//2])"
   ]
  },
  {
   "cell_type": "code",
   "execution_count": null,
   "metadata": {},
   "outputs": [],
   "source": [
    "simprops = simulation.SimProperties(\n",
    "                grid_size   = (80e-3,50e-3,30e-3),\n",
    "                voxel_size  = (0.5e-3,0.5e-3,0.5e-3),\n",
    "                PML_size    = (32,8,8),\n",
    "                PML_alpha   = 2,\n",
    "                t_end       = 12e-5,           # [s]\n",
    "                bona        = 6,               # parameter b/a determining degree of nonlinear acoustic effects\n",
    "                alpha_coeff = 0.5, \t           # [dB/(MHz^y cm)]\n",
    "                alpha_power = 1.5,\n",
    "                )"
   ]
  },
  {
   "cell_type": "code",
   "execution_count": null,
   "metadata": {},
   "outputs": [],
   "source": [
    "extended_experiment = experiment.Experiment(\n",
    "                 simulation_path = '../experiment_files/extended_aperture',\n",
    "                 sim_properties  = simprops,\n",
    "                 phantom         = test_phantom,\n",
    "                 transducer_set  = cont_transducer_set,\n",
    "                 sensor          = extended_sensor,\n",
    "                 nodes           = 1,\n",
    "                 results         = None,\n",
    "                 indices         = None,\n",
    "                 workers         = 1,\n",
    "                 additional_keys = ['p_max']\n",
    "                 )\n",
    "\n",
    "tar_experiment = experiment.Experiment(\n",
    "                 simulation_path = '../experiment_files/tar_aperture',\n",
    "                 sim_properties  = simprops,\n",
    "                 phantom         = test_phantom,\n",
    "                 transducer_set  = cont_transducer_set,\n",
    "                 sensor          = tar_sensor,\n",
    "                 nodes           = 1,\n",
    "                 results         = None,\n",
    "                 indices         = None,\n",
    "                 workers         = 1,\n",
    "                 additional_keys = ['p_max']\n",
    "                 )\n",
    "\n",
    "gap_experiment = experiment.Experiment(\n",
    "                 simulation_path = '../experiment_files/gap_experiment_ea',\n",
    "                 sim_properties  = simprops,\n",
    "                 phantom         = test_phantom,\n",
    "                 transducer_set  = gap_transducer_set,\n",
    "                 sensor          = gap_sensor,\n",
    "                 nodes           = 1,\n",
    "                 results         = None,\n",
    "                 indices         = None,\n",
    "                 workers         = 1,\n",
    "                 additional_keys = ['p_max']\n",
    "                 )\n",
    "\n",
    "extended_experiment.save()\n",
    "tar_experiment.save()\n",
    "gap_experiment.save()"
   ]
  },
  {
   "cell_type": "code",
   "execution_count": null,
   "metadata": {},
   "outputs": [],
   "source": [
    "gap_experiment.plot_ray_path(0)"
   ]
  },
  {
   "cell_type": "code",
   "execution_count": null,
   "metadata": {},
   "outputs": [],
   "source": [
    "test_experiment = experiment.Experiment.load('../experiment_files/extended_aperture')\n",
    "test_experiment.run(dry=True)\n",
    "test_experiment.run(repeat=True)"
   ]
  },
  {
   "cell_type": "code",
   "execution_count": null,
   "metadata": {},
   "outputs": [],
   "source": [
    "test_experiment = experiment.Experiment.load('../experiment_files/tar_aperture')\n",
    "test_experiment.run(dry=True)\n",
    "test_experiment.run(repeat=True)"
   ]
  },
  {
   "cell_type": "code",
   "execution_count": null,
   "metadata": {},
   "outputs": [],
   "source": [
    "test_experiment = experiment.Experiment.load('../experiment_files/gap_experiment_ea')\n",
    "test_experiment.run(dry=True)\n",
    "test_experiment.run(repeat=True)"
   ]
  },
  {
   "cell_type": "code",
   "execution_count": null,
   "metadata": {},
   "outputs": [],
   "source": []
  },
  {
   "cell_type": "markdown",
   "metadata": {},
   "source": [
    "# Reconstruction"
   ]
  },
  {
   "cell_type": "code",
   "execution_count": null,
   "metadata": {},
   "outputs": [],
   "source": [
    "test_experiment = experiment.Experiment.load('../experiment_files/tar_aperture')\n",
    "test_experiment.run(dry=True)\n",
    "test_experiment.add_results()\n",
    "test_reconstruction = reconstruction.Compounding(experiment=test_experiment)"
   ]
  },
  {
   "cell_type": "code",
   "execution_count": null,
   "metadata": {},
   "outputs": [],
   "source": [
    "image1 = test_reconstruction.compound(workers=24, resolution_multiplier=1, local=True)"
   ]
  },
  {
   "cell_type": "code",
   "execution_count": null,
   "metadata": {},
   "outputs": [],
   "source": [
    "plt.imshow(image1[:,:,image1.shape[2]//2])\n",
    "plt.colorbar()"
   ]
  },
  {
   "cell_type": "code",
   "execution_count": null,
   "metadata": {},
   "outputs": [],
   "source": [
    "test_experiment = experiment.Experiment.load('../experiment_files/extended_aperture')\n",
    "test_experiment.run(dry=True)\n",
    "test_experiment.add_results()\n",
    "test_reconstruction = reconstruction.Compounding(experiment=test_experiment)"
   ]
  },
  {
   "cell_type": "code",
   "execution_count": null,
   "metadata": {},
   "outputs": [],
   "source": [
    "image2 = test_reconstruction.compound(workers=24, resolution_multiplier=1, local=True)"
   ]
  },
  {
   "cell_type": "code",
   "execution_count": null,
   "metadata": {},
   "outputs": [],
   "source": [
    "plt.imshow(image2[:,:,image2.shape[2]//2])\n",
    "plt.colorbar()"
   ]
  },
  {
   "cell_type": "code",
   "execution_count": null,
   "metadata": {},
   "outputs": [],
   "source": [
    "test_experiment = experiment.Experiment.load('../experiment_files/gap_experiment_ea')\n",
    "test_experiment.run(dry=True)\n",
    "test_experiment.add_results()\n",
    "test_reconstruction = reconstruction.Compounding(experiment=test_experiment)"
   ]
  },
  {
   "cell_type": "code",
   "execution_count": null,
   "metadata": {},
   "outputs": [],
   "source": [
    "image3 = test_reconstruction.compound(workers=24, resolution_multiplier=1, local=True)"
   ]
  },
  {
   "cell_type": "code",
   "execution_count": null,
   "metadata": {},
   "outputs": [],
   "source": [
    "plt.imshow(image3[:,:,image3.shape[2]//2])\n",
    "plt.colorbar()"
   ]
  },
  {
   "cell_type": "code",
   "execution_count": null,
   "metadata": {},
   "outputs": [],
   "source": []
  },
  {
   "cell_type": "code",
   "execution_count": null,
   "metadata": {},
   "outputs": [],
   "source": []
  },
  {
   "cell_type": "code",
   "execution_count": null,
   "metadata": {},
   "outputs": [],
   "source": []
  }
 ],
 "metadata": {
  "kernelspec": {
   "display_name": "Python 3",
   "language": "python",
   "name": "python3"
  },
  "language_info": {
   "codemirror_mode": {
    "name": "ipython",
    "version": 3
   },
   "file_extension": ".py",
   "mimetype": "text/x-python",
   "name": "python",
   "nbconvert_exporter": "python",
   "pygments_lexer": "ipython3",
   "version": "3.9.18"
  }
 },
 "nbformat": 4,
 "nbformat_minor": 2
}

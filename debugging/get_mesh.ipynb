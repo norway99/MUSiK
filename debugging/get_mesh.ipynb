{
 "cells": [
  {
   "cell_type": "code",
   "execution_count": 3,
   "metadata": {},
   "outputs": [],
   "source": [
    "import sys\n",
    "sys.path.append('../utils')\n",
    "sys.path.append('../')\n",
    "import numpy as np\n",
    "import scipy\n",
    "import tqdm\n",
    "import utils\n",
    "import geometry\n",
    "\n",
    "import matplotlib.pyplot as plt\n",
    "import plotly.graph_objects as go\n",
    "import glob\n",
    "import pydicom\n",
    "import functools\n",
    "import mcubes\n"
   ]
  },
  {
   "cell_type": "code",
   "execution_count": 4,
   "metadata": {},
   "outputs": [
    {
     "name": "stderr",
     "output_type": "stream",
     "text": [
      "0it [00:00, ?it/s]\n"
     ]
    },
    {
     "ename": "ValueError",
     "evalue": "need at least one array to stack",
     "output_type": "error",
     "traceback": [
      "\u001b[0;31m---------------------------------------------------------------------------\u001b[0m",
      "\u001b[0;31mValueError\u001b[0m                                Traceback (most recent call last)",
      "\u001b[1;32m/Users/aparnank/Documents/med_school/md_ra/software/musik/debugging/get_mesh.ipynb Cell 2\u001b[0m line \u001b[0;36m8\n\u001b[1;32m      <a href='vscode-notebook-cell:/Users/aparnank/Documents/med_school/md_ra/software/musik/debugging/get_mesh.ipynb#W2sZmlsZQ%3D%3D?line=4'>5</a>\u001b[0m     image\u001b[39m.\u001b[39mappend(dcm\u001b[39m.\u001b[39mpixel_array)\n\u001b[1;32m      <a href='vscode-notebook-cell:/Users/aparnank/Documents/med_school/md_ra/software/musik/debugging/get_mesh.ipynb#W2sZmlsZQ%3D%3D?line=5'>6</a>\u001b[0m     slice_position\u001b[39m.\u001b[39mappend(dcm\u001b[39m.\u001b[39mSliceLocation)\n\u001b[0;32m----> <a href='vscode-notebook-cell:/Users/aparnank/Documents/med_school/md_ra/software/musik/debugging/get_mesh.ipynb#W2sZmlsZQ%3D%3D?line=7'>8</a>\u001b[0m image \u001b[39m=\u001b[39m np\u001b[39m.\u001b[39;49mstack(image, axis\u001b[39m=\u001b[39;49m\u001b[39m-\u001b[39;49m\u001b[39m1\u001b[39;49m)\n\u001b[1;32m      <a href='vscode-notebook-cell:/Users/aparnank/Documents/med_school/md_ra/software/musik/debugging/get_mesh.ipynb#W2sZmlsZQ%3D%3D?line=8'>9</a>\u001b[0m voxel_size \u001b[39m=\u001b[39m np\u001b[39m.\u001b[39marray([\n\u001b[1;32m     <a href='vscode-notebook-cell:/Users/aparnank/Documents/med_school/md_ra/software/musik/debugging/get_mesh.ipynb#W2sZmlsZQ%3D%3D?line=9'>10</a>\u001b[0m     \u001b[39mfloat\u001b[39m(dcm\u001b[39m.\u001b[39mPixelSpacing[\u001b[39m0\u001b[39m]),\n\u001b[1;32m     <a href='vscode-notebook-cell:/Users/aparnank/Documents/med_school/md_ra/software/musik/debugging/get_mesh.ipynb#W2sZmlsZQ%3D%3D?line=10'>11</a>\u001b[0m     \u001b[39mfloat\u001b[39m(dcm\u001b[39m.\u001b[39mPixelSpacing[\u001b[39m1\u001b[39m]),\n\u001b[1;32m     <a href='vscode-notebook-cell:/Users/aparnank/Documents/med_school/md_ra/software/musik/debugging/get_mesh.ipynb#W2sZmlsZQ%3D%3D?line=11'>12</a>\u001b[0m     np\u001b[39m.\u001b[39mabs((\u001b[39mfloat\u001b[39m(slice_position[\u001b[39m0\u001b[39m]) \u001b[39m-\u001b[39m \u001b[39mfloat\u001b[39m(slice_position[\u001b[39m-\u001b[39m\u001b[39m1\u001b[39m])) \u001b[39m/\u001b[39m (\u001b[39mlen\u001b[39m(slice_position) \u001b[39m-\u001b[39m \u001b[39m1\u001b[39m))\n\u001b[1;32m     <a href='vscode-notebook-cell:/Users/aparnank/Documents/med_school/md_ra/software/musik/debugging/get_mesh.ipynb#W2sZmlsZQ%3D%3D?line=12'>13</a>\u001b[0m ])\u001b[39m/\u001b[39m\u001b[39m1000\u001b[39m\n",
      "File \u001b[0;32m<__array_function__ internals>:180\u001b[0m, in \u001b[0;36mstack\u001b[0;34m(*args, **kwargs)\u001b[0m\n",
      "File \u001b[0;32m~/Library/Python/3.9/lib/python/site-packages/numpy/core/shape_base.py:422\u001b[0m, in \u001b[0;36mstack\u001b[0;34m(arrays, axis, out)\u001b[0m\n\u001b[1;32m    420\u001b[0m arrays \u001b[39m=\u001b[39m [asanyarray(arr) \u001b[39mfor\u001b[39;00m arr \u001b[39min\u001b[39;00m arrays]\n\u001b[1;32m    421\u001b[0m \u001b[39mif\u001b[39;00m \u001b[39mnot\u001b[39;00m arrays:\n\u001b[0;32m--> 422\u001b[0m     \u001b[39mraise\u001b[39;00m \u001b[39mValueError\u001b[39;00m(\u001b[39m'\u001b[39m\u001b[39mneed at least one array to stack\u001b[39m\u001b[39m'\u001b[39m)\n\u001b[1;32m    424\u001b[0m shapes \u001b[39m=\u001b[39m {arr\u001b[39m.\u001b[39mshape \u001b[39mfor\u001b[39;00m arr \u001b[39min\u001b[39;00m arrays}\n\u001b[1;32m    425\u001b[0m \u001b[39mif\u001b[39;00m \u001b[39mlen\u001b[39m(shapes) \u001b[39m!=\u001b[39m \u001b[39m1\u001b[39m:\n",
      "\u001b[0;31mValueError\u001b[0m: need at least one array to stack"
     ]
    }
   ],
   "source": [
    "image = []\n",
    "slice_position = []\n",
    "for dicom in tqdm.tqdm(sorted(glob.glob('../experiment_files/images/Patient_10/SE0001/*.dcm'))):\n",
    "    dcm = pydicom.dcmread(dicom)\n",
    "    image.append(dcm.pixel_array)\n",
    "    slice_position.append(dcm.SliceLocation)\n",
    "\n",
    "print(type(image))\n",
    "    \n",
    "image = np.stack(image, axis=-1)\n",
    "voxel_size = np.array([\n",
    "    float(dcm.PixelSpacing[0]),\n",
    "    float(dcm.PixelSpacing[1]),\n",
    "    np.abs((float(slice_position[0]) - float(slice_position[-1])) / (len(slice_position) - 1))\n",
    "])/1000"
   ]
  }
 ],
 "metadata": {
  "kernelspec": {
   "display_name": "Python 3",
   "language": "python",
   "name": "python3"
  },
  "language_info": {
   "codemirror_mode": {
    "name": "ipython",
    "version": 3
   },
   "file_extension": ".py",
   "mimetype": "text/x-python",
   "name": "python",
   "nbconvert_exporter": "python",
   "pygments_lexer": "ipython3",
   "version": "3.9.6"
  }
 },
 "nbformat": 4,
 "nbformat_minor": 2
}

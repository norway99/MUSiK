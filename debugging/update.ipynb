{
 "cells": [
  {
   "cell_type": "code",
   "execution_count": 1,
   "metadata": {},
   "outputs": [],
   "source": [
    "import sys\n",
    "sys.path.append('../utils')\n",
    "sys.path.append('../core')\n",
    "sys.path.append('../')\n",
    "import numpy as np\n",
    "import scipy\n",
    "import tqdm\n",
    "import utils\n",
    "import geometry_update as geometry\n",
    "from core import *\n",
    "\n",
    "import matplotlib.pyplot as plt\n",
    "import plotly.graph_objects as go\n",
    "import glob\n",
    "\n",
    "from functools import reduce\n",
    "from math import sqrt"
   ]
  },
  {
   "cell_type": "code",
   "execution_count": 2,
   "metadata": {},
   "outputs": [],
   "source": [
    "test_phantom = phantom_update.Phantom(source_path = None,\n",
    "            voxel_dims = (0.1e-3,0.1e-3,0.1e-3),\n",
    "            matrix_dims = (100,100,100),\n",
    "            baseline = (1500, 1000),\n",
    "            seed = 5678,)\n",
    "\n",
    "blood = tissue.Tissue(name='blood', c=1578, rho=1060, sigma=11.3, scale=0.00001, label=1)\n",
    "test_phantom.add_tissue_sphere((0,0,0), 4, blood)\n",
    "test_phantom.add_tissue_sphere((0.5,0,0), 10, blood)"
   ]
  },
  {
   "cell_type": "code",
   "execution_count": 3,
   "metadata": {},
   "outputs": [
    {
     "data": {
      "text/plain": [
       "<matplotlib.image.AxesImage at 0x757a1dd247c0>"
      ]
     },
     "execution_count": 3,
     "metadata": {},
     "output_type": "execute_result"
    },
    {
     "data": {
      "image/png": "[encoded data removed]",
      "text/plain": [
       "<Figure size 640x480 with 1 Axes>"
      ]
     },
     "metadata": {},
     "output_type": "display_data"
    }
   ],
   "source": [
    "plt.imshow(test_phantom.get_complete()[0,:,:,test_phantom.matrix_dims[2]//2])"
   ]
  },
  {
   "cell_type": "code",
   "execution_count": 4,
   "metadata": {},
   "outputs": [
    {
     "data": {
      "text/plain": [
       "array([10., 10., 10.])"
      ]
     },
     "execution_count": 4,
     "metadata": {},
     "output_type": "execute_result"
    }
   ],
   "source": [
    "test_phantom.voxel_dims * test_phantom.matrix_dims * 1000"
   ]
  },
  {
   "cell_type": "code",
   "execution_count": 5,
   "metadata": {},
   "outputs": [],
   "source": [
    "simprops = simulation_update.SimProperties(\n",
    "                grid_size   = (10e-3,4e-3,2e-3),\n",
    "                voxel_size  = (0.02e-3,0.02e-3,0.02e-3),\n",
    "                PML_size    = (1,1,1),\n",
    "                PML_alpha   = 2,\n",
    "                t_end       = 12e-5,           # [s]\n",
    "                bona        = 6,               # parameter b/a determining degree of nonlinear acoustic effects\n",
    "                alpha_coeff = 0.5, \t           # [dB/(MHz^y cm)]\n",
    "                alpha_power = 1.5,\n",
    "                )"
   ]
  },
  {
   "cell_type": "code",
   "execution_count": 6,
   "metadata": {},
   "outputs": [
    {
     "data": {
      "text/plain": [
       "array([512, 256, 128])"
      ]
     },
     "execution_count": 6,
     "metadata": {},
     "output_type": "execute_result"
    }
   ],
   "source": [
    "simprops.matrix_size"
   ]
  },
  {
   "cell_type": "code",
   "execution_count": 7,
   "metadata": {},
   "outputs": [],
   "source": [
    "bounds = simprops.bounds\n",
    "# transform = geometry.Transform((-np.pi/8,np.pi/1.6,0),(0.001,-0.001,0.0001))\n",
    "transform = geometry.Transform((np.pi/2,np.pi/2,np.pi/2),(0,0,0))\n",
    "# transform = geometry.Transform((0,0,0),(0,0,0))\n",
    "voxel_size = simprops.voxel_size\n",
    "matrix_size = simprops.matrix_size"
   ]
  },
  {
   "cell_type": "code",
   "execution_count": 8,
   "metadata": {},
   "outputs": [
    {
     "name": "stdout",
     "output_type": "stream",
     "text": [
      "first_crop_bounds_indices [[ 36  64]\n",
      " [ 23  77]\n",
      " [ 49 154]]\n",
      "padding: (0, 0, 54)\n",
      "to pad [[ 0  0]\n",
      " [ 0  0]\n",
      " [54 54]]\n",
      "new first_crop_bounds_indices [[ 36  64]\n",
      " [ 23  77]\n",
      " [103 208]]\n",
      "initial matrix shape (2, 100, 100, 208)\n",
      "cropped matrix shape (2, 28, 54, 105), pre rotation\n",
      "rotated matrix shape (2, 105, 105, 105)\n",
      "bias pre transform [0.005   0.005   0.00504]\n",
      "bias post transform [ 0.00504  0.005   -0.005  ]\n",
      "grid size [102.4  51.2  25.6]\n",
      "start [ 0 26 39]\n",
      "end [104  78  65]\n",
      "bias pre second crop [ 0.00504  0.005   -0.005  ]\n",
      "bias post second crop [ 0.00509  0.00505 -0.00495]\n",
      "rough_crop = (2, 104, 52, 26)\n",
      "interpolated_shape = (2, 520, 260, 130)\n",
      "sampled_matrix shape (2, 520, 260, 130)\n",
      "matrix_size shape [512 256 128]\n",
      "bias [ 0.49707033  0.9863281  -1.93359371]\n",
      "start [4 2 1]\n",
      "end [516 258 129]\n",
      "(2, 512, 256, 128)\n"
     ]
    }
   ],
   "source": [
    "out = test_phantom.crop_rotate_crop(bounds, transform, voxel_size, matrix_size)"
   ]
  },
  {
   "cell_type": "code",
   "execution_count": 9,
   "metadata": {},
   "outputs": [
    {
     "data": {
      "text/plain": [
       "<matplotlib.image.AxesImage at 0x757a1dbfa490>"
      ]
     },
     "execution_count": 9,
     "metadata": {},
     "output_type": "execute_result"
    },
    {
     "data": {
      "image/png": "[encoded data removed]",
      "text/plain": [
       "<Figure size 640x480 with 3 Axes>"
      ]
     },
     "metadata": {},
     "output_type": "display_data"
    }
   ],
   "source": [
    "fig, ax = plt.subplots(1,3,)\n",
    "\n",
    "ax[0].imshow(out[0,out.shape[1]//2,:,:])\n",
    "ax[1].imshow(out[0,:,out.shape[2]//2,:])\n",
    "ax[2].imshow(out[0,:,:,out.shape[3]//2])"
   ]
  },
  {
   "cell_type": "code",
   "execution_count": null,
   "metadata": {},
   "outputs": [],
   "source": []
  },
  {
   "cell_type": "code",
   "execution_count": null,
   "metadata": {},
   "outputs": [],
   "source": []
  }
 ],
 "metadata": {
  "kernelspec": {
   "display_name": "musik",
   "language": "python",
   "name": "python3"
  },
  "language_info": {
   "codemirror_mode": {
    "name": "ipython",
    "version": 3
   },
   "file_extension": ".py",
   "mimetype": "text/x-python",
   "name": "python",
   "nbconvert_exporter": "python",
   "pygments_lexer": "ipython3",
   "version": "3.9.18"
  }
 },
 "nbformat": 4,
 "nbformat_minor": 2
}

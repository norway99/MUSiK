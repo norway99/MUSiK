{
 "cells": [
  {
   "cell_type": "code",
   "execution_count": 2,
   "metadata": {},
   "outputs": [],
   "source": [
    "import sys\n",
    "sys.path.append('../utils')\n",
    "sys.path.append('../core')\n",
    "sys.path.append('../')\n",
    "import numpy as np\n",
    "import scipy\n",
    "import tqdm\n",
    "import utils\n",
    "import geometry\n",
    "from core import *\n",
    "\n",
    "import matplotlib.pyplot as plt\n",
    "import plotly.graph_objects as go\n",
    "import glob\n",
    "\n",
    "from functools import reduce\n",
    "from math import sqrt"
   ]
  },
  {
   "cell_type": "code",
   "execution_count": 75,
   "metadata": {},
   "outputs": [],
   "source": [
    "def largest_prime_factor(n): \n",
    "    largest_prime = -1\n",
    "    i = 2\n",
    "    while i * i <= n: \n",
    "        while n % i == 0: \n",
    "            largest_prime = i \n",
    "            n = n // i \n",
    "        i = i + 1\n",
    "    if n > 1: \n",
    "        largest_prime = n \n",
    "    return largest_prime \n",
    "\n",
    "# Computation in kwave utilizes a fourier-space calculation, therefore computational grid sizes with low factor numbers are ideal.\n",
    "def calc_matrix_size(grid_size, voxel_size):\n",
    "    matrix_size = []\n",
    "    raw_matrix_size = np.array(grid_size) / np.array(voxel_size)\n",
    "    for dim in range(3):\n",
    "        lpfs = []\n",
    "        for i in range(int(raw_matrix_size[dim]), int(raw_matrix_size[dim] * 1.5)):\n",
    "            lpfs.append(largest_prime_factor(i))\n",
    "        matrix_size.append(raw_matrix_size[dim] + np.argmin(lpfs))\n",
    "    return matrix_size"
   ]
  },
  {
   "cell_type": "code",
   "execution_count": 81,
   "metadata": {},
   "outputs": [
    {
     "data": {
      "text/plain": [
       "[288.0, 512.0, 1024.0]"
      ]
     },
     "execution_count": 81,
     "metadata": {},
     "output_type": "execute_result"
    }
   ],
   "source": [
    "calc_matrix_size((270,381,900), (1,1,1))"
   ]
  },
  {
   "cell_type": "code",
   "execution_count": null,
   "metadata": {},
   "outputs": [],
   "source": [
    "def compute_vertex_transforms(self,):\n",
    "    get size of computational grid in global coordinates\n",
    "    get the positions of each vertex of the computational grid - make sure to account for PML\n",
    "    get the transforms (in this case, a simple translation) associated with each vertex, put into a list, and append (optional, also possible to just save the coordinates)\n",
    "    \n",
    "    new_grid_size = (np.array(self.matrix_size) - np.array(self.PML_size)) * np.array(self.voxel_dims)\n",
    "    \n",
    "    \n",
    "        return 0"
   ]
  }
 ],
 "metadata": {
  "kernelspec": {
   "display_name": "musik",
   "language": "python",
   "name": "python3"
  },
  "language_info": {
   "codemirror_mode": {
    "name": "ipython",
    "version": 3
   },
   "file_extension": ".py",
   "mimetype": "text/x-python",
   "name": "python",
   "nbconvert_exporter": "python",
   "pygments_lexer": "ipython3",
   "version": "3.9.18"
  }
 },
 "nbformat": 4,
 "nbformat_minor": 2
}

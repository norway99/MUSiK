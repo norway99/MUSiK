{
 "cells": [
  {
   "cell_type": "code",
   "execution_count": null,
   "metadata": {},
   "outputs": [],
   "source": [
    "import sys\n",
    "sys.path.append('../utils')\n",
    "sys.path.append('../core')\n",
    "sys.path.append('../')\n",
    "import numpy as np\n",
    "import scipy\n",
    "import tqdm\n",
    "import utils\n",
    "import geometry\n",
    "from core import *\n",
    "\n",
    "import matplotlib.pyplot as plt\n",
    "import plotly.graph_objects as go\n",
    "import glob\n",
    "import pydicom\n",
    "import functools\n",
    "from PIL import Image\n",
    "\n",
    "import midvoxio"
   ]
  },
  {
   "cell_type": "markdown",
   "metadata": {},
   "source": [
    "# Open image"
   ]
  },
  {
   "cell_type": "code",
   "execution_count": null,
   "metadata": {},
   "outputs": [],
   "source": [
    "image = []\n",
    "slice_position = []\n",
    "for pngfile in tqdm.tqdm(sorted(glob.glob('/home/trevor/repos/kwave_unlimited/images/hando/*.png'))):\n",
    "    png = np.array(Image.open(pngfile))\n",
    "    image.append(png)\n",
    "    # slice_position.append(dcm.SliceLocation)\n",
    "    \n",
    "image = np.stack(image, axis=-1)\n",
    "# voxel_size = np.array([\n",
    "#     float(dcm.PixelSpacing[0]),\n",
    "#     float(dcm.PixelSpacing[1]),\n",
    "#     np.abs((float(slice_position[0]) - float(slice_position[-1])) / (len(slice_position) - 1))\n",
    "# ])/1000"
   ]
  },
  {
   "cell_type": "code",
   "execution_count": null,
   "metadata": {},
   "outputs": [],
   "source": [
    "plt.imshow(image[60,:,:], cmap='gray')"
   ]
  },
  {
   "cell_type": "code",
   "execution_count": null,
   "metadata": {},
   "outputs": [],
   "source": [
    "voxel_size = np.array([0.00065, 0.00065, 0.0002])"
   ]
  },
  {
   "cell_type": "code",
   "execution_count": null,
   "metadata": {},
   "outputs": [],
   "source": [
    "def transfer_function(image, method='first'):\n",
    "    if method == 'first':\n",
    "        density = np.zeros_like(image)\n",
    "        density = np.where(image < -365, 1.0491 + 1.0526e-3 * image, density)\n",
    "        density = np.where(image >= -365, 1.0053 + 8.921e-4 * image, density)\n",
    "        density = np.where(image >= 255, 1.0610 + 6.813e-4 * image, density)\n",
    "        density = density * 1000 # Conversion from g/cm^3 to kg/m^3\n",
    "    elif method == 'second':\n",
    "        density = np.zeros_like(image)\n",
    "        density = np.where(image < 148, 1.0168 + 9.836e-4 * image, density)\n",
    "        density = np.where(image >= 148, 1.1786 + 2.216e-4 * image, density)\n",
    "        density = density * 1000 # Conversion from g/cm^3 to kg/m^3\n",
    "    elif method == 'third':\n",
    "        density = np.zeros_like(image)\n",
    "        density = np.where(image < 104, 1.0050 + 0.0010 * image, density)\n",
    "        density = np.where(image >= 104, 1.0152 + 0.0006 * image, density)\n",
    "        density = density * 1000 # Conversion from g/cm^3 to kg/m^3\n",
    "    else:\n",
    "        print(\"transfer function method not recognized, supply as one of [first, second, third]\")\n",
    "        return 0\n",
    "    return density"
   ]
  },
  {
   "cell_type": "code",
   "execution_count": null,
   "metadata": {},
   "outputs": [],
   "source": [
    "plt.plot(np.linspace(-1000,1000,2000), transfer_function(np.linspace(-1000,1000,2000), method='first'))\n",
    "plt.plot(np.linspace(-1000,1000,2000), transfer_function(np.linspace(-1000,1000,2000), method='second'))\n",
    "plt.plot(np.linspace(-1000,1000,2000), transfer_function(np.linspace(-1000,1000,2000), method='third'))\n",
    "plt.xlabel('Hounsfield Units')\n",
    "plt.ylabel('Density (kg/m^3)')\n",
    "plt.legend(['first', 'second', 'third'])"
   ]
  },
  {
   "cell_type": "code",
   "execution_count": null,
   "metadata": {},
   "outputs": [],
   "source": [
    "test_phantom = phantom.Phantom(source_path = None,\n",
    "                               voxel_dims = (0.5e-3,0.5e-3,0.5e-3),\n",
    "                               matrix_dims = (300,300,300),\n",
    "                               baseline = (1540, 1000),\n",
    "                               seed = 5678,\n",
    "                               )"
   ]
  },
  {
   "cell_type": "code",
   "execution_count": null,
   "metadata": {},
   "outputs": [],
   "source": [
    "test_phantom.create_from_image(image, voxel_size, transfer_fn=functools.partial(transfer_function, method='first'), )"
   ]
  },
  {
   "cell_type": "code",
   "execution_count": null,
   "metadata": {},
   "outputs": [],
   "source": [
    "plt.imshow(test_phantom.get_complete()[0,80,:,:], )"
   ]
  },
  {
   "cell_type": "code",
   "execution_count": null,
   "metadata": {},
   "outputs": [],
   "source": [
    "test_phantom.save('hando_phantom')"
   ]
  },
  {
   "cell_type": "code",
   "execution_count": null,
   "metadata": {},
   "outputs": [],
   "source": [
    "test_phantom.get_complete().shape"
   ]
  },
  {
   "cell_type": "code",
   "execution_count": null,
   "metadata": {},
   "outputs": [],
   "source": [
    "plt.imshow(test_phantom.get_complete()[1][:,:,0])\n",
    "plt.colorbar()"
   ]
  },
  {
   "cell_type": "code",
   "execution_count": null,
   "metadata": {},
   "outputs": [],
   "source": [
    "test_phantom.get_complete()"
   ]
  },
  {
   "cell_type": "code",
   "execution_count": null,
   "metadata": {},
   "outputs": [],
   "source": [
    "utils.save_mrc(test_phantom.get_complete(), '../experiment_files/images/Patient_10/phantom_5e-4.mrc')\n",
    "\n",
    "test_phantom.save('../experiment_files/cardiac_phantom')"
   ]
  },
  {
   "cell_type": "code",
   "execution_count": null,
   "metadata": {},
   "outputs": [],
   "source": [
    "plt.imshow(np.where(test_phantom.get_complete()[1][:,:,127] > 1600, 1, 0))"
   ]
  },
  {
   "cell_type": "code",
   "execution_count": null,
   "metadata": {},
   "outputs": [],
   "source": [
    "array_2_mesh = np.where(test_phantom.get_complete()[1] > 1600, 1, 0)"
   ]
  },
  {
   "cell_type": "code",
   "execution_count": null,
   "metadata": {},
   "outputs": [],
   "source": [
    "import mcubes"
   ]
  },
  {
   "cell_type": "code",
   "execution_count": null,
   "metadata": {},
   "outputs": [],
   "source": []
  },
  {
   "cell_type": "code",
   "execution_count": null,
   "metadata": {},
   "outputs": [],
   "source": [
    "\n",
    "# Marching cubes without smoothing\n",
    "vertices_unsmooth, triangles_unsmooth = mcubes.marching_cubes(array_2_mesh, 0.5)\n",
    "mcubes.export_obj(vertices, triangles, 'heartCT.obj')\n",
    "\n",
    "# # Marching cubes with smoothing\n",
    "# smoothed_heartCT = mcubes.smooth(array_2_mesh)\n",
    "# vertices, triangles = mcubes.marching_cubes(smoothed_heartCT, 0)\n",
    "# mcubes.export_obj(vertices, triangles, 'smooth_heartCT.obj')"
   ]
  },
  {
   "cell_type": "code",
   "execution_count": null,
   "metadata": {},
   "outputs": [],
   "source": [
    "# Create a data volume (30 x 30 x 30)\n",
    "X, Y, Z = np.mgrid[:30, :30, :30]\n",
    "u = (X-15)**2 + (Y-15)**2 + (Z-15)**2 - 8**2\n",
    "\n",
    "# Extract the 0-isosurface\n",
    "vertices, triangles = mcubes.marching_cubes(u, 0.5)\n",
    "\n",
    "# Export the result to sphere.obj\n",
    "# mcubes.export_obj(vertices, triangles, 'sphere.obj')"
   ]
  },
  {
   "cell_type": "code",
   "execution_count": null,
   "metadata": {},
   "outputs": [],
   "source": [
    "x, y, z = np.mgrid[:100, :100, :100]\n",
    "binary_sphere = ((x - 50)**2 + (y - 50)**2 + (z - 50)**2 - 25**2 < 0) + ((x - 35)**2 + (y - 43)**2 + (z - 77)**2 - 20**2 < 0) + ((x - 75)**2 + (y - 35)**2 + (z - 75)**2 - 15**2 < 0) > 0\n",
    "\n",
    "# Extract the 0.5-levelset since the array is binary\n",
    "vertices, triangles = mcubes.marching_cubes(binary_sphere, 0.5)\n",
    "\n",
    "mcubes.export_obj(vertices, triangles, 'sphere_rough.obj')"
   ]
  },
  {
   "cell_type": "code",
   "execution_count": null,
   "metadata": {},
   "outputs": [],
   "source": [
    "smoothed_sphere = mcubes.smooth(binary_sphere)\n",
    "\n",
    "# Extract the 0-levelset (the 0-levelset of the output of mcubes.smooth is the\n",
    "# smoothed version of the 0.5-levelset of the binary array).\n",
    "vertices, triangles = mcubes.marching_cubes(smoothed_sphere, 0)\n",
    "\n",
    "mcubes.export_obj(vertices, triangles, 'sphere_smooth.obj')"
   ]
  },
  {
   "cell_type": "code",
   "execution_count": null,
   "metadata": {},
   "outputs": [],
   "source": []
  },
  {
   "cell_type": "code",
   "execution_count": null,
   "metadata": {},
   "outputs": [],
   "source": [
    "mcubes.open('experiment_files/images/Aorta.obj')"
   ]
  },
  {
   "cell_type": "code",
   "execution_count": null,
   "metadata": {},
   "outputs": [],
   "source": [
    "import pymeshlab"
   ]
  },
  {
   "cell_type": "code",
   "execution_count": null,
   "metadata": {},
   "outputs": [],
   "source": [
    "ms = pymeshlab.MeshSet()"
   ]
  },
  {
   "cell_type": "code",
   "execution_count": null,
   "metadata": {},
   "outputs": [],
   "source": [
    "new_object = ms.load_new_mesh('../experiment_files/images/Aorta.obj')"
   ]
  },
  {
   "cell_type": "code",
   "execution_count": null,
   "metadata": {},
   "outputs": [],
   "source": [
    "new_object"
   ]
  },
  {
   "cell_type": "markdown",
   "metadata": {},
   "source": [
    "# Make from vox"
   ]
  },
  {
   "cell_type": "code",
   "execution_count": null,
   "metadata": {},
   "outputs": [],
   "source": [
    "from midvoxio.voxio import vox_to_arr"
   ]
  },
  {
   "cell_type": "code",
   "execution_count": null,
   "metadata": {},
   "outputs": [],
   "source": [
    "blood_mask = vox_to_arr('../experiment_files/images/blood.vox')\n",
    "myocardium_mask = vox_to_arr('../experiment_files/images/myocardium.vox')"
   ]
  },
  {
   "cell_type": "code",
   "execution_count": null,
   "metadata": {},
   "outputs": [],
   "source": [
    "blood_mask = np.where(np.sum(blood_mask, axis=-1) > 0, 1, 0)\n",
    "myocardium_mask = np.where(np.sum(myocardium_mask, axis=-1) > 0, 1, 0)"
   ]
  },
  {
   "cell_type": "code",
   "execution_count": null,
   "metadata": {},
   "outputs": [],
   "source": [
    "plt.imshow(blood_mask[:,:,128])"
   ]
  },
  {
   "cell_type": "code",
   "execution_count": null,
   "metadata": {},
   "outputs": [],
   "source": [
    "plt.imshow(myocardium_mask[:,:,128])"
   ]
  },
  {
   "cell_type": "code",
   "execution_count": null,
   "metadata": {},
   "outputs": [],
   "source": [
    "# combined = np.stack((blood, myocardium, np.zeros_like(blood)), axis=-1)\n",
    "# combined = combined.astype(np.uint8)\n",
    "# plt.imshow(combined[:,:,115,:]*255)"
   ]
  },
  {
   "cell_type": "code",
   "execution_count": null,
   "metadata": {},
   "outputs": [],
   "source": [
    "test_phantom = phantom.Phantom(source_path = None,\n",
    "                               voxel_dims = (0.5e-3,0.5e-3,0.5e-3),\n",
    "                               matrix_dims = (256,256,256),\n",
    "                               baseline = (1540, 1000),\n",
    "                               seed = 5678,\n",
    "                               )\n",
    "\n",
    "blood = tissue.Tissue(name='blood', c=1578, rho=1060, sigma=2.3, scale=0.00001, label=1)\n",
    "myocardium = tissue.Tissue(name='myocardium', c=1561.3, rho=1081, sigma=50, scale=0.0001, label=2)\n",
    "fat = tissue.Tissue(name='fat', c=1450, rho=920, sigma=10, scale=0.0001, label=3)\n"
   ]
  },
  {
   "cell_type": "code",
   "execution_count": null,
   "metadata": {},
   "outputs": [],
   "source": [
    "test_phantom.add_tissue(fat, mask=np.ones((256,256,256)))\n",
    "test_phantom.add_tissue(myocardium, mask=myocardium_mask)\n",
    "test_phantom.add_tissue(blood, mask=blood_mask)\n",
    "test_phantom.set_default_tissue('fat')"
   ]
  },
  {
   "cell_type": "code",
   "execution_count": null,
   "metadata": {},
   "outputs": [],
   "source": [
    "plt.imshow(test_phantom.get_complete()[0,:,:,80])"
   ]
  },
  {
   "cell_type": "code",
   "execution_count": null,
   "metadata": {},
   "outputs": [],
   "source": [
    "test_phantom.save('../experiment_files/cardiac_phantom')\n",
    "utils.save_mrc(test_phantom.get_complete(), '../experiment_files/cardiac_phantom/cardiac_phantom.mrc')"
   ]
  },
  {
   "cell_type": "code",
   "execution_count": null,
   "metadata": {},
   "outputs": [],
   "source": []
  },
  {
   "cell_type": "markdown",
   "metadata": {},
   "source": [
    "# Meshlib"
   ]
  },
  {
   "cell_type": "code",
   "execution_count": null,
   "metadata": {},
   "outputs": [],
   "source": [
    "import meshlib"
   ]
  },
  {
   "cell_type": "code",
   "execution_count": null,
   "metadata": {},
   "outputs": [],
   "source": [
    "from meshlib import mrmeshpy as mm\n",
    "from meshlib import mrmeshnumpy as mn\n",
    "import numpy as np\n",
    "import plotly.graph_objects as go\n",
    " \n",
    "# load mesh\n",
    "mesh = mm.loadMesh(\"../demos/healthy_stationary_heart.stl\")\n",
    "# extract numpy arrays\n",
    "verts = mn.getNumpyVerts(mesh)\n",
    "faces = mn.getNumpyFaces(mesh.topology)\n",
    " \n",
    "# prepare data for plotly\n",
    "verts_t = np.transpose(verts)\n",
    "faces_t = np.transpose(faces)\n",
    " \n",
    "# draw\n",
    "fig = go.Figure(data=[\n",
    "    go.Mesh3d(\n",
    "        x=verts_t[0],\n",
    "        y=verts_t[1],\n",
    "        z=verts_t[2],\n",
    "        i=faces_t[0],\n",
    "        j=faces_t[1],\n",
    "        k=faces_t[2]\n",
    "    )\n",
    "])\n",
    " \n",
    "fig.show()\n"
   ]
  },
  {
   "cell_type": "code",
   "execution_count": null,
   "metadata": {},
   "outputs": [],
   "source": []
  }
 ],
 "metadata": {
  "kernelspec": {
   "display_name": "musik",
   "language": "python",
   "name": "python3"
  },
  "language_info": {
   "codemirror_mode": {
    "name": "ipython",
    "version": 3
   },
   "file_extension": ".py",
   "mimetype": "text/x-python",
   "name": "python",
   "nbconvert_exporter": "python",
   "pygments_lexer": "ipython3",
   "version": "3.9.18"
  }
 },
 "nbformat": 4,
 "nbformat_minor": 2
}

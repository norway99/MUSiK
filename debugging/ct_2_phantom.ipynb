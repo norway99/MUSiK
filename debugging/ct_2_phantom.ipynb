{
 "cells": [
  {
   "cell_type": "code",
   "execution_count": 1,
   "metadata": {},
   "outputs": [],
   "source": [
    "import sys\n",
    "sys.path.append('../utils')\n",
    "sys.path.append('../core_update')\n",
    "sys.path.append('../')\n",
    "import numpy as np\n",
    "import scipy\n",
    "import tqdm\n",
    "import utils\n",
    "import geometry\n",
    "from core_update import *\n",
    "\n",
    "import matplotlib.pyplot as plt\n",
    "import plotly.graph_objects as go\n",
    "import glob"
   ]
  },
  {
   "cell_type": "markdown",
   "metadata": {},
   "source": [
    "Densities in g/cm^3\n",
    "\n",
    "Paper 1:\n",
    "\n",
    "HU < -365         rho = 1.0491 + 1.0526e-3 HU  \n",
    "-365 < HU < 255         rho = 1.0053 + 8.921e-3 HU \n",
    "HU > 255         rho = 1.0610 + 6.813e-4 HU \n",
    "\n",
    "\n",
    "Paper 2:\n",
    "\n",
    "HU < 148         rho = 1.0168 + 9.836e-4 HU \n",
    "HU > 148         rho = 1.1786 + 2.216e-4 HU \n",
    "\n",
    "Paper 3:\n",
    "\n",
    "HU < 104         rho = 1.0050 + 0.0010 HU \n",
    "HU > 104         rho = 1.0152 + 0.0006 HU"
   ]
  },
  {
   "cell_type": "code",
   "execution_count": null,
   "metadata": {},
   "outputs": [],
   "source": [
    "def transfer_function(image, method='first'):\n",
    "    if method = 'first':\n",
    "        density = np.zeros_like(image)\n",
    "        density = np.where(image < -365, 1.0491 + 1.0526e-3 * image, density)\n",
    "        density = np.where(image >= -365, 1.0053 + 8.921e-3 * image, density)\n",
    "        density = np.where(image >= 255, 1.0610 + 6.813e-4 * image, density)\n",
    "    elif method = 'second':\n",
    "        density = np.zeros_like(image)\n",
    "        density = np.where(image < 148, 1.0168 + 9.836e-4 * image, density)\n",
    "        density = np.where(image >= 148, 1.1786 + 2.216e-4 * image, density)\n",
    "    elif method = 'third':\n",
    "        density = np.zeros_like(image)\n",
    "        density = np.where(image < 104, 1.0050 + 0.0010 * image, density)\n",
    "        density = np.where(image >= 104, 1.0152 + 0.0006 * image, density)\n",
    "    else:\n",
    "        print(\"transfer function method not recognized, supply as one of [first, second, third]\")\n",
    "        return 0\n",
    "    return density"
   ]
  },
  {
   "cell_type": "code",
   "execution_count": null,
   "metadata": {},
   "outputs": [],
   "source": [
    "def create_from_image(self, image, input_voxel_size, target_voxel_size=None, transfer_fn=None):\n",
    "    if target_voxel_size is None:\n",
    "        target_voxel_size = self.voxel_dims\n",
    "    if transfer_fn is None:\n",
    "        transfer_fn = lambda x: (x + np.amin(x)) / (np.amax(x) - np.amin(x))\n",
    "        \n",
    "    if type(image) == np.ndarray:\n",
    "        data = image\n",
    "    \n",
    "    # data = transfer_fn(data)\n",
    "\n",
    "    x = np.arange(0, data.shape[0])\n",
    "    y = np.arange(0, data.shape[1])\n",
    "    z = np.arange(0, data.shape[2])\n",
    "\n",
    "    assert len(input_voxel_size) == 3, 'input voxel size must be a tuple of length 3'\n",
    "    assert len(target_voxel_size) == 3, 'target voxel size must be a tuple of length 3'\n",
    "\n",
    "    transformed_x = x * input_voxel_size[0] / target_voxel_size[0]\n",
    "    transformed_y = y * input_voxel_size[1] / target_voxel_size[1]\n",
    "    transformed_z = z * input_voxel_size[2] / target_voxel_size[2]\n",
    "\n",
    "    from scipy.interpolate import RegularGridInterpolator\n",
    "    interp = RegularGridInterpolator((transformed_x, transformed_y, transformed_z), data)\n",
    "    # interp = NearestNDInterpolator((transformed_x, transformed_y, transformed_z), data)\n",
    "\n",
    "    points = np.stack(np.meshgrid(np.arange(0, transformed_x[-1]), np.arange(0, transformed_y[-1]), np.arange(0, transformed_z[-1]), indexing='ij'), axis=-1)\n",
    "    \n",
    "    if points.shape[0] * points.shape[1] * points.shape[2] > 5e8:\n",
    "        print('desired phantom array size is very large (>500,000,000 voxels), consider supplying a larger target_voxel_size or cropping the input image')\n",
    "    if points.shape[0] * points.shape[1] * points.shape[2] > 2e9:\n",
    "        print('desired phantom array size is too large (>2e9 voxels), consider supplying a larger target_voxel_size or cropping the input image')\n",
    "        return 0\n",
    "    \n",
    "    new_phantom = interp(points)\n",
    "    self.complete = np.stack((new_phantom * self.baseline[0], new_phantom * self.baseline[1]), axis = 0)    "
   ]
  }
 ],
 "metadata": {
  "kernelspec": {
   "display_name": "musik",
   "language": "python",
   "name": "python3"
  },
  "language_info": {
   "codemirror_mode": {
    "name": "ipython",
    "version": 3
   },
   "file_extension": ".py",
   "mimetype": "text/x-python",
   "name": "python",
   "nbconvert_exporter": "python",
   "pygments_lexer": "ipython3",
   "version": "3.9.18"
  }
 },
 "nbformat": 4,
 "nbformat_minor": 2
}

{
 "cells": [
  {
   "cell_type": "code",
   "execution_count": null,
   "metadata": {},
   "outputs": [],
   "source": [
    "import sys\n",
    "sys.path.append('../utils')\n",
    "sys.path.append('../core')\n",
    "sys.path.append('../')\n",
    "import numpy as np\n",
    "import scipy\n",
    "import tqdm\n",
    "import utils\n",
    "import geometry\n",
    "from core import *\n",
    "\n",
    "import matplotlib.pyplot as plt\n",
    "import plotly.graph_objects as go\n",
    "import glob\n",
    "\n",
    "from midvoxio.voxio import vox_to_arr"
   ]
  },
  {
   "cell_type": "code",
   "execution_count": null,
   "metadata": {},
   "outputs": [],
   "source": [
    "blood_mask = vox_to_arr('../experiment_files/images/blood.vox')\n",
    "myocardium_mask = vox_to_arr('../experiment_files/images/myocardium.vox')\n",
    "blood_mask = np.where(np.sum(blood_mask, axis=-1) > 0, 1, 0)\n",
    "myocardium_mask = np.where(np.sum(myocardium_mask, axis=-1) > 0, 1, 0)"
   ]
  },
  {
   "cell_type": "code",
   "execution_count": null,
   "metadata": {},
   "outputs": [],
   "source": [
    "test_phantom = phantom.Phantom(source_path = None,\n",
    "                               voxel_dims = (0.5e-3,0.5e-3,0.5e-3),\n",
    "                               matrix_dims = (256,256,256),\n",
    "                               baseline = (1540, 1000),\n",
    "                               seed = 5678,\n",
    "                               )\n",
    "\n",
    "blood = tissue.Tissue(name='blood', c=1578, rho=1060, sigma=1.3, scale=0.00001, label=1)\n",
    "myocardium = tissue.Tissue(name='myocardium', c=1592, rho=1081, sigma=20, scale=0.0001, label=2)\n",
    "fat = tissue.Tissue(name='fat', c=1450, rho=920, sigma=10, scale=0.0001, label=3)\n",
    "\n",
    "test_phantom.add_tissue(fat, mask=np.ones((256,256,256)))\n",
    "test_phantom.add_tissue(myocardium, mask=myocardium_mask)\n",
    "test_phantom.add_tissue(blood, mask=blood_mask)\n",
    "test_phantom.set_default_tissue('fat')\n",
    "# plt.imshow(test_phantom.get_complete()[0,:,:,80])\n",
    "# test_phantom.save('../experiment_files/cardiac_phantom')\n",
    "# utils.save_mrc(test_phantom.get_complete(), '../experiment_files/cardiac_phantom/cardiac_phantom.mrc')"
   ]
  },
  {
   "cell_type": "code",
   "execution_count": null,
   "metadata": {},
   "outputs": [],
   "source": [
    "plt.imshow(test_phantom.get_complete()[0,:,:,test_phantom.matrix_dims[2]//2])"
   ]
  },
  {
   "cell_type": "code",
   "execution_count": null,
   "metadata": {},
   "outputs": [],
   "source": [
    "transducers = [transducer.Focused(max_frequency = 2e6,\n",
    "                                  elements = 64, \n",
    "                                  width = 20e-3,\n",
    "                                  height =  20e-3,\n",
    "                                  sensor_sampling_scheme = 'not_centroid', \n",
    "                                  sweep = np.pi/2,\n",
    "                                  ray_num = 64,\n",
    "                                  imaging_ndims = 2,\n",
    "                                  focus_azimuth = 100e-3,\n",
    "                                  focus_elevation = 100e-3,\n",
    "                                  cycles = 3,\n",
    ") for i in range(7)]\n",
    "\n",
    "for t in transducers:\n",
    "    t.make_sensor_coords(test_phantom.baseline[0])"
   ]
  },
  {
   "cell_type": "code",
   "execution_count": null,
   "metadata": {},
   "outputs": [],
   "source": [
    "test_transducer_set = transducer_set.TransducerSet(transducers, seed=8888)\n",
    "\n",
    "# apical 4 chamber\n",
    "transform = geometry.Transform([-np.pi*0.28,-np.pi*0.18,-np.pi*0.05], [-.052,0.055,-0.072])\n",
    "test_transducer_set.assign_pose(0, transform)\n",
    "\n",
    "# apical 2 chamber\n",
    "transform = geometry.Transform([-np.pi*0.34,-np.pi*0.18,-np.pi*0.35], [-.052,0.055,-0.072])\n",
    "test_transducer_set.assign_pose(1, transform)\n",
    "\n",
    "# parasternal short axis mitral\n",
    "transform1 = geometry.Transform([-np.pi/2 * 0.2,0,0], [0,0,0])\n",
    "transform2 = geometry.Transform([0,np.pi/2 * 0.35,0], [0,0,0])\n",
    "transform3 = geometry.Transform([-np.pi/2 * 0.5,0,0], [0,0,0])\n",
    "transform = transform1 * transform2 * transform3\n",
    "position = [-0.05,0,-0.020]\n",
    "transform.translation = transform.apply_to_point(position, inverse=False)\n",
    "test_transducer_set.assign_pose(2, transform)\n",
    "\n",
    "# parasternal shout axis papillary\n",
    "transform1 = geometry.Transform([-np.pi/2 * 0.2,0,0], [0,0,0])\n",
    "transform2 = geometry.Transform([0,np.pi/2 * 0.75,0], [0,0,0])\n",
    "transform3 = geometry.Transform([-np.pi/2 * 1,0,0], [0,0,0])\n",
    "transform = transform1 * transform2 * transform3\n",
    "position = [-0.05, 0.02, -0.045]\n",
    "transform.translation = transform.apply_to_point(position, inverse=False)\n",
    "test_transducer_set.assign_pose(3, transform)\n",
    "\n",
    "# parasternal short axis aortic\n",
    "transform1 = geometry.Transform([-np.pi/2 * 0,0,0], [0,0,0])\n",
    "transform2 = geometry.Transform([0,np.pi/2 * 0.20,0], [0,0,0])\n",
    "transform3 = geometry.Transform([-np.pi/2 * 0.5,0,0], [0,0,0])\n",
    "transform = transform1 * transform2 * transform3\n",
    "position = [-0.05,0,-0.011]\n",
    "transform.translation = transform.apply_to_point(position, inverse=False)\n",
    "test_transducer_set.assign_pose(4, transform)\n",
    "\n",
    "# parasternal long axis\n",
    "transform1 = geometry.Transform([0,0,0], [0,0,0])\n",
    "transform2 = geometry.Transform([0,-np.pi/2 * 0.55,0], [0,0,0])\n",
    "transform3 = geometry.Transform([-np.pi * 0.6,0,0], [0,0,0])\n",
    "transform = transform1 * transform2 * transform3\n",
    "position = [-0.05,-0.01,-0.0010]\n",
    "transform.translation = transform.apply_to_point(position, inverse=False)\n",
    "test_transducer_set.assign_pose(5, transform)\n",
    "\n",
    "# subcostal 4 chamber\n",
    "transform1 = geometry.Transform([-np.pi*0.28,0,0], [0,0,0])\n",
    "transform2 = geometry.Transform([0,-np.pi*0.18,0], [0,0,0])\n",
    "transform3 = geometry.Transform([0,0,-np.pi*0.05], [0,0,0])\n",
    "transform4 = geometry.Transform([-np.pi * 0.2,0,0], [0,0,0])\n",
    "transform = transform1 * transform2 * transform3 * transform4\n",
    "position = [-0.09,-0.01,-0.023]\n",
    "transform.translation = transform.apply_to_point(position, inverse=False)\n",
    "test_transducer_set.assign_pose(6, transform)\n",
    "\n",
    "# # subcostal 4 chamber\n",
    "# transform1 = geometry.Transform([-np.pi*0.28,0,0], [0,0,0])\n",
    "# transform2 = geometry.Transform([0,-np.pi*0.18,0], [0,0,0])\n",
    "# transform3 = geometry.Transform([0,0,-np.pi*0.05], [0,0,0])\n",
    "# transform4 = geometry.Transform([-np.pi * 0.2,0,0], [0,0,0])\n",
    "# transform = transform1 * transform2 * transform3 * transform4\n",
    "# position = [-0.09,-0.01,-0.023]\n",
    "# transform.translation = transform.apply_to_point(position, inverse=False)\n",
    "# test_transducer_set.assign_pose(7, transform)\n",
    "\n",
    "\n",
    "\n",
    "# test_transducer_set.plot_transducer_fovs(scale=0.07, view=(90,0))\n",
    "# test_transducer_set.plot_transducer_fovs(scale=0.07, view=(0,0))\n",
    "# test_transducer_set.plot_transducer_fovs(scale=0.07, view=(0,90))\n",
    "test_transducer_set.plot_transducer_fovs(scale=0.1, view=(30,45))\n",
    "test_transducer_set.plot_transducer_coords(scale=0.1, view=(30,45))"
   ]
  },
  {
   "cell_type": "code",
   "execution_count": null,
   "metadata": {},
   "outputs": [],
   "source": [
    "# test_sensor = sensor.Sensor(transducer_set=test_transducer_set, aperture_type='pressure_field')\n",
    "test_sensor = sensor.Sensor(transducer_set=test_transducer_set, aperture_type='transmit_as_receive')"
   ]
  },
  {
   "cell_type": "code",
   "execution_count": null,
   "metadata": {},
   "outputs": [],
   "source": [
    "simprops = simulation.SimProperties(\n",
    "                grid_size   = (150e-3,50e-3,50e-3),\n",
    "                voxel_size  = (0.5e-3,0.5e-3,0.5e-3),\n",
    "                PML_size    = (32,8,8),\n",
    "                PML_alpha   = 2,\n",
    "                t_end       = 12e-5,           # [s]\n",
    "                bona        = 6,               # parameter b/a determining degree of nonlinear acoustic effects\n",
    "                alpha_coeff = 0.5, \t           # [dB/(MHz^y cm)]\n",
    "                alpha_power = 1.5,\n",
    "                )"
   ]
  },
  {
   "cell_type": "code",
   "execution_count": null,
   "metadata": {},
   "outputs": [],
   "source": [
    "test_experiment = experiment.Experiment(\n",
    "                 simulation_path = '../experiment_files/cardiac_TTE_partial',\n",
    "                 sim_properties  = simprops,\n",
    "                 phantom         = test_phantom,\n",
    "                 transducer_set  = test_transducer_set,\n",
    "                 sensor          = test_sensor,\n",
    "                 nodes           = 1,\n",
    "                 results         = None,\n",
    "                 indices         = None,\n",
    "                 workers         = 3,\n",
    "                 additional_keys = []\n",
    "                 )\n",
    "\n",
    "test_experiment.save()"
   ]
  },
  {
   "cell_type": "code",
   "execution_count": null,
   "metadata": {},
   "outputs": [],
   "source": [
    "t = 0"
   ]
  },
  {
   "cell_type": "code",
   "execution_count": null,
   "metadata": {},
   "outputs": [],
   "source": [
    "test_experiment.plot_ray_path(16 + (64 * t))"
   ]
  },
  {
   "cell_type": "code",
   "execution_count": null,
   "metadata": {},
   "outputs": [],
   "source": [
    "test_experiment.plot_ray_path(32 + (64 * t))"
   ]
  },
  {
   "cell_type": "code",
   "execution_count": null,
   "metadata": {},
   "outputs": [],
   "source": [
    "test_experiment.plot_ray_path(48 + (64 * t))"
   ]
  },
  {
   "cell_type": "code",
   "execution_count": null,
   "metadata": {},
   "outputs": [],
   "source": [
    "test_experiment = experiment.Experiment.load('../experiment_files/cardiac_TTE_partial')\n",
    "test_experiment.run(dry=True)"
   ]
  },
  {
   "cell_type": "code",
   "execution_count": null,
   "metadata": {},
   "outputs": [],
   "source": [
    "test_experiment.run(repeat=False)"
   ]
  },
  {
   "cell_type": "code",
   "execution_count": null,
   "metadata": {},
   "outputs": [],
   "source": [
    "test_experiment.add_results()"
   ]
  },
  {
   "cell_type": "code",
   "execution_count": null,
   "metadata": {},
   "outputs": [],
   "source": [
    "test_reconstruction = reconstruction.DAS(experiment=test_experiment)"
   ]
  },
  {
   "cell_type": "code",
   "execution_count": null,
   "metadata": {},
   "outputs": [],
   "source": [
    "# image, signals = test_reconstruction.get_image(dimensions=3, matsize=100, downsample=0.05, workers=1)"
   ]
  },
  {
   "cell_type": "code",
   "execution_count": null,
   "metadata": {},
   "outputs": [],
   "source": [
    "signals = test_reconstruction.get_signals(dimensions=2, matsize=256, downsample=1, workers=1, tgc=7)"
   ]
  },
  {
   "cell_type": "code",
   "execution_count": null,
   "metadata": {},
   "outputs": [],
   "source": [
    "plt.imshow(signals[0], vmin=0, vmax=12000, cmap='gray')\n",
    "plt.gca().set_facecolor('k')"
   ]
  },
  {
   "cell_type": "code",
   "execution_count": null,
   "metadata": {},
   "outputs": [],
   "source": [
    "image = np.where(np.isnan(image), 0, image)"
   ]
  },
  {
   "cell_type": "code",
   "execution_count": null,
   "metadata": {},
   "outputs": [],
   "source": [
    "np.sum(image)"
   ]
  },
  {
   "cell_type": "code",
   "execution_count": null,
   "metadata": {},
   "outputs": [],
   "source": [
    "utils.save_mrc(image, '../experiment_files/cardiac_experiment_04/image.mrc')"
   ]
  },
  {
   "cell_type": "code",
   "execution_count": null,
   "metadata": {},
   "outputs": [],
   "source": []
  },
  {
   "cell_type": "code",
   "execution_count": null,
   "metadata": {},
   "outputs": [],
   "source": [
    "X = np.linspace(-1, 1, 256)\n",
    "Y = np.linspace(-1, 1, 256)\n",
    "X, Y = np.meshgrid(X, Y)\n",
    "\n",
    "fig, ax = plt.subplots(2,4, figsize=(10,5))\n",
    "ax[0,0].pcolormesh(X, Y, signals[0], shading='auto', cmap='gray', norm='log')\n",
    "# ax[0,1].pcolormesh(X, Y, signals[1], shading='auto', cmap='gray', norm='log')\n",
    "# ax[0,2].pcolormesh(X, Y, signals[2], shading='auto', cmap='gray', norm='log')\n",
    "# ax[0,3].pcolormesh(X, Y, signals[3], shading='auto', cmap='gray', norm='log')\n",
    "# ax[1,0].pcolormesh(X, Y, signals[4], shading='auto', cmap='gray', norm='log')\n",
    "# ax[1,1].pcolormesh(X, Y, signals[5], shading='auto', cmap='gray', norm='log')\n",
    "# ax[1,2].pcolormesh(X, Y, signals[6], shading='auto', cmap='gray', norm='log')\n",
    "# ax[1,3].pcolormesh(X, Y, signals[7], shading='auto', cmap='gray', norm='log')\n",
    "\n",
    "for axd1 in ax:\n",
    "    for a in axd1:\n",
    "        a.set_aspect('equal')\n",
    "        a.set_xticks([])\n",
    "        a.set_yticks([])\n",
    "\n",
    "fig, ax = plt.subplots(1,1, figsize=(10,10))\n",
    "ax.pcolormesh(X, Y, image, shading='auto', cmap='gray', norm='log')\n",
    "ax.set_aspect('equal')\n",
    "ax.set_xticks([])\n",
    "ax.set_yticks([])"
   ]
  },
  {
   "cell_type": "code",
   "execution_count": null,
   "metadata": {},
   "outputs": [],
   "source": [
    "fig, ax = plt.subplots(1, 1)\n",
    "image_rays = np.stack([np.mean(test_experiment.results[i][1], axis=0)[100:] for i in range(len(test_experiment.results))])\n",
    "ax.pcolor(np.log(image_rays + 2))"
   ]
  },
  {
   "cell_type": "code",
   "execution_count": null,
   "metadata": {},
   "outputs": [],
   "source": [
    "im = test_reconstruction.results[0][2]"
   ]
  },
  {
   "cell_type": "code",
   "execution_count": null,
   "metadata": {},
   "outputs": [],
   "source": [
    "im2 = im.reshape((1232,112,-1))"
   ]
  },
  {
   "cell_type": "code",
   "execution_count": null,
   "metadata": {},
   "outputs": [],
   "source": [
    "plt.imshow(im2)"
   ]
  },
  {
   "cell_type": "code",
   "execution_count": null,
   "metadata": {},
   "outputs": [],
   "source": [
    "im.shape"
   ]
  },
  {
   "cell_type": "code",
   "execution_count": null,
   "metadata": {},
   "outputs": [],
   "source": [
    "plt.imshow(im[:,:,300].T, cmap='bwr')"
   ]
  },
  {
   "cell_type": "code",
   "execution_count": null,
   "metadata": {},
   "outputs": [],
   "source": [
    "for frame in tqdm.tqdm(range(0,im.shape[-1],10)):\n",
    "    plt.imshow(im[:,:,frame], cmap='bwr')\n",
    "    plt.colorbar()\n",
    "    plt.savefig(f'../experiment_files/outputs/frame_{str(frame).zfill(4)}.png', dpi=50)\n",
    "    plt.close()"
   ]
  }
 ],
 "metadata": {
  "kernelspec": {
   "display_name": "musik",
   "language": "python",
   "name": "python3"
  },
  "language_info": {
   "codemirror_mode": {
    "name": "ipython",
    "version": 3
   },
   "file_extension": ".py",
   "mimetype": "text/x-python",
   "name": "python",
   "nbconvert_exporter": "python",
   "pygments_lexer": "ipython3",
   "version": "3.9.18"
  }
 },
 "nbformat": 4,
 "nbformat_minor": 2
}

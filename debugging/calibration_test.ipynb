{
 "cells": [
  {
   "cell_type": "code",
   "execution_count": null,
   "metadata": {},
   "outputs": [],
   "source": [
    "import sys\n",
    "sys.path.append('../utils')\n",
    "sys.path.append('../core')\n",
    "sys.path.append('../')\n",
    "import numpy as np\n",
    "import scipy\n",
    "import tqdm\n",
    "import utils\n",
    "import geometry\n",
    "from core import *\n",
    "\n",
    "import matplotlib.pyplot as plt\n",
    "import plotly.graph_objects as go\n",
    "import glob"
   ]
  },
  {
   "cell_type": "code",
   "execution_count": null,
   "metadata": {},
   "outputs": [],
   "source": [
    "test_phantom = phantom.Phantom(source_path = None,\n",
    "            voxel_dims = (1e-3,1e-3,1e-3),\n",
    "            matrix_dims = (200,200,200),\n",
    "            baseline = (1500, 1000),\n",
    "            seed = 5678,)\n",
    "\n",
    "blood = tissue.Tissue(name='blood', c=1578, rho=1060, sigma=5.3, scale=0.00001, label=1)\n",
    "myocardium = tissue.Tissue(name='myocardium', c=1561.3, rho=1081, sigma=30, scale=0.0001, label=2)\n",
    "fat = tissue.Tissue(name='fat', c=1450, rho=920, sigma=10, scale=0.0001, label=3)\n",
    "\n",
    "pos = 0.7\n",
    "\n",
    "# test_phantom.add_tissue_sphere((pos,-pos,0), 8, blood)\n",
    "# test_phantom.add_tissue_sphere((pos,0,0), 16, blood)\n",
    "# test_phantom.add_tissue_sphere((pos,pos,0), 32, blood)\n",
    "\n",
    "# test_phantom.add_tissue_sphere((-pos,-pos,0), 16, fat)\n",
    "# test_phantom.add_tissue_sphere((-pos,0,0), 32, fat)\n",
    "# test_phantom.add_tissue_sphere((-pos,pos,0), 8, fat)\n",
    "\n",
    "# test_phantom.add_tissue_sphere((0,0,0), 24, myocardium)\n",
    "# test_phantom.add_tissue_sphere((0.2,0,0), 8, fat)\n",
    "# test_phantom.add_tissue_sphere((0.3,0,0), 4, blood)\n",
    "# test_phantom.add_tissue_sphere((0,0.3,0), 4, blood)\n",
    "# scalar = 5\n",
    "# test_phantom.add_tissue_sphere(scalar * np.array((-0.1,0,0)), 8, fat)\n",
    "# test_phantom.add_tissue_sphere(scalar * np.array((-0.065,0,0)), 4, fat)\n",
    "mask = np.zeros(test_phantom.matrix_dims)\n",
    "mask[60:140,60:140,60:140] = 1\n",
    "# mask[:,:,::2] = 2\n",
    "mask[95:105,95:105,95:105] = 3\n",
    "\n",
    "test_phantom.add_tissue(blood, mask == 1)\n",
    "# test_phantom.add_tissue(fat, mask == 2)\n",
    "test_phantom.add_tissue(myocardium, mask == 3)\n",
    "\n",
    "test_phantom.mask = mask\n",
    "test_phantom.from_mask = True\n",
    "test_phantom.complete = None"
   ]
  },
  {
   "cell_type": "code",
   "execution_count": null,
   "metadata": {},
   "outputs": [],
   "source": [
    "plt.imshow(test_phantom.get_complete()[0,:,:,test_phantom.matrix_dims[2]//2])"
   ]
  },
  {
   "cell_type": "code",
   "execution_count": null,
   "metadata": {},
   "outputs": [],
   "source": [
    "transducers = [transducer.Focused(max_frequency = 1e6,\n",
    "                                  elements = 64, \n",
    "                                  width = 40e-3,\n",
    "                                  height =  20e-3,\n",
    "                                  sensor_sampling_scheme = 'not_centroid', \n",
    "                                  sweep = np.pi/4,\n",
    "                                  ray_num = 5, \n",
    "                                  imaging_ndims = 2,\n",
    "                                  focus_azimuth = 50e-3,\n",
    "                                  focus_elevation = 50e-3,\n",
    ") for i in range(1)]\n",
    "\n",
    "for t in transducers:\n",
    "    t.make_sensor_coords(test_phantom.baseline[0])"
   ]
  },
  {
   "cell_type": "code",
   "execution_count": null,
   "metadata": {},
   "outputs": [],
   "source": []
  },
  {
   "cell_type": "code",
   "execution_count": null,
   "metadata": {},
   "outputs": [],
   "source": [
    "test_transducer_set = transducer_set.TransducerSet(transducers, seed=8888)\n",
    "# test_transducer_set.assign_pose(0, geometry.Transform([np.pi/4,np.pi,np.pi/4], [0,0.0,0], intrinsic=True))\n",
    "\n",
    "test_transducer_set.assign_pose(0, geometry.Transform([np.pi/4,np.pi/4,0], [0,0,0]))\n",
    "\n",
    "# test_transducer_set.plot_transducer_fovs(scale=0.1)\n",
    "# test_transducer_set.plot_transducer_coords(scale=0.1)\n",
    "test_transducer_set.plot_transducer_fovs(scale=0.07, view=(90,45))\n",
    "test_transducer_set.plot_transducer_fovs(scale=0.07, view=(0,45))\n",
    "test_transducer_set.plot_transducer_fovs(scale=0.07, view=(0,90+45))"
   ]
  },
  {
   "cell_type": "code",
   "execution_count": null,
   "metadata": {},
   "outputs": [],
   "source": [
    "# test_sensor = sensor.Sensor(transducer_set=test_transducer_set, aperture_type='pressure_field')\n",
    "test_sensor = sensor.Sensor(transducer_set=test_transducer_set, aperture_type='transmit_as_receive')"
   ]
  },
  {
   "cell_type": "code",
   "execution_count": null,
   "metadata": {},
   "outputs": [],
   "source": [
    "simprops = simulation.SimProperties(\n",
    "                grid_size   = (120e-3,40e-3,40e-3),\n",
    "                voxel_size  = (0.5e-3,0.5e-3,0.5e-3),\n",
    "                PML_size    = (32,8,8),\n",
    "                PML_alpha   = 2,\n",
    "                t_end       = 12e-5,           # [s]\n",
    "                bona        = 6,               # parameter b/a determining degree of nonlinear acoustic effects\n",
    "                alpha_coeff = 0.5, \t           # [dB/(MHz^y cm)]\n",
    "                alpha_power = 1.5,\n",
    "                )"
   ]
  },
  {
   "cell_type": "code",
   "execution_count": null,
   "metadata": {},
   "outputs": [],
   "source": [
    "test_experiment = experiment.Experiment(\n",
    "                 simulation_path = '../experiment_files/calibration_experiment',\n",
    "                 sim_properties  = simprops,\n",
    "                 phantom         = test_phantom,\n",
    "                 transducer_set  = test_transducer_set,\n",
    "                 sensor          = test_sensor,\n",
    "                 nodes           = 1,\n",
    "                 results         = None,\n",
    "                 indices         = None,\n",
    "                 workers         = 3,\n",
    "                 additional_keys = ['p_max']\n",
    "                 )\n",
    "\n",
    "test_experiment.save()"
   ]
  },
  {
   "cell_type": "code",
   "execution_count": null,
   "metadata": {},
   "outputs": [],
   "source": [
    "test_experiment.plot_ray_path(0)\n",
    "test_experiment.plot_ray_path(2)\n",
    "test_experiment.plot_ray_path(4)"
   ]
  },
  {
   "cell_type": "code",
   "execution_count": null,
   "metadata": {},
   "outputs": [],
   "source": [
    "test_experiment = experiment.Experiment.load('../experiment_files/calibration_experiment')\n",
    "test_experiment.run(dry=True)"
   ]
  },
  {
   "cell_type": "code",
   "execution_count": null,
   "metadata": {},
   "outputs": [],
   "source": [
    "test_experiment.run(repeat=True)"
   ]
  },
  {
   "cell_type": "code",
   "execution_count": null,
   "metadata": {},
   "outputs": [],
   "source": [
    "test_experiment.add_results()"
   ]
  },
  {
   "cell_type": "code",
   "execution_count": null,
   "metadata": {},
   "outputs": [],
   "source": [
    "test_reconstruction = reconstruction.DAS(experiment=test_experiment)"
   ]
  },
  {
   "cell_type": "code",
   "execution_count": null,
   "metadata": {},
   "outputs": [],
   "source": [
    "# test_reconstruction.plot_ray_path(0)"
   ]
  },
  {
   "cell_type": "code",
   "execution_count": null,
   "metadata": {},
   "outputs": [],
   "source": [
    "# test_reconstruction.plot_scatter()"
   ]
  },
  {
   "cell_type": "code",
   "execution_count": null,
   "metadata": {},
   "outputs": [],
   "source": [
    "image, signals = test_reconstruction.get_image(dimensions=2, downsample = 1, workers=1)"
   ]
  },
  {
   "cell_type": "code",
   "execution_count": null,
   "metadata": {},
   "outputs": [],
   "source": [
    "X = np.linspace(-1, 1, 256)\n",
    "Y = np.linspace(-1, 1, 256)\n",
    "X, Y = np.meshgrid(X, Y)\n",
    "\n",
    "fig, ax = plt.subplots(2,4, figsize=(10,5))\n",
    "ax[0,0].pcolormesh(X, Y, signals[0], shading='auto', cmap='gray', norm='log')\n",
    "ax[0,1].pcolormesh(X, Y, signals[1], shading='auto', cmap='gray', norm='log')\n",
    "ax[0,2].pcolormesh(X, Y, signals[2], shading='auto', cmap='gray', norm='log')\n",
    "ax[0,3].pcolormesh(X, Y, signals[3], shading='auto', cmap='gray', norm='log')\n",
    "# ax[1,0].pcolormesh(X, Y, signals[4], shading='auto', cmap='gray', norm='log')\n",
    "# ax[1,1].pcolormesh(X, Y, signals[5], shading='auto', cmap='gray', norm='log')\n",
    "# ax[1,2].pcolormesh(X, Y, signals[6], shading='auto', cmap='gray', norm='log')\n",
    "# ax[1,3].pcolormesh(X, Y, signals[7], shading='auto', cmap='gray', norm='log')\n",
    "\n",
    "for axd1 in ax:\n",
    "    for a in axd1:\n",
    "        a.set_aspect('equal')\n",
    "        a.set_xticks([])\n",
    "        a.set_yticks([])\n",
    "\n",
    "fig, ax = plt.subplots(1,1, figsize=(10,10))\n",
    "ax.pcolormesh(X, Y, image, shading='auto', cmap='gray', norm='log')\n",
    "ax.set_aspect('equal')\n",
    "ax.set_xticks([])\n",
    "ax.set_yticks([])"
   ]
  },
  {
   "cell_type": "code",
   "execution_count": null,
   "metadata": {},
   "outputs": [],
   "source": [
    "fig, ax = plt.subplots(1, 1)\n",
    "image_rays = np.stack([np.mean(test_experiment.results[i][1], axis=0)[100:] for i in range(len(test_experiment.results))])\n",
    "ax.pcolor(np.log(image_rays + 2))"
   ]
  },
  {
   "cell_type": "code",
   "execution_count": null,
   "metadata": {},
   "outputs": [],
   "source": [
    "im = test_reconstruction.results[0][2]"
   ]
  },
  {
   "cell_type": "code",
   "execution_count": null,
   "metadata": {},
   "outputs": [],
   "source": [
    "im2 = im.reshape((1232,112,-1))"
   ]
  },
  {
   "cell_type": "code",
   "execution_count": null,
   "metadata": {},
   "outputs": [],
   "source": [
    "plt.imshow(im2)"
   ]
  },
  {
   "cell_type": "code",
   "execution_count": null,
   "metadata": {},
   "outputs": [],
   "source": [
    "im.shape"
   ]
  },
  {
   "cell_type": "code",
   "execution_count": null,
   "metadata": {},
   "outputs": [],
   "source": [
    "plt.imshow(im[:,:,300].T, cmap='bwr')"
   ]
  },
  {
   "cell_type": "code",
   "execution_count": null,
   "metadata": {},
   "outputs": [],
   "source": [
    "for frame in tqdm.tqdm(range(0,im.shape[-1],10)):\n",
    "    plt.imshow(im[:,:,frame], cmap='bwr')\n",
    "    plt.colorbar()\n",
    "    plt.savefig(f'../experiment_files/outputs/frame_{str(frame).zfill(4)}.png', dpi=50)\n",
    "    plt.close()"
   ]
  },
  {
   "cell_type": "code",
   "execution_count": null,
   "metadata": {},
   "outputs": [],
   "source": [
    "np.arange(4)"
   ]
  },
  {
   "cell_type": "code",
   "execution_count": null,
   "metadata": {},
   "outputs": [],
   "source": []
  }
 ],
 "metadata": {
  "kernelspec": {
   "display_name": "musik",
   "language": "python",
   "name": "python3"
  },
  "language_info": {
   "codemirror_mode": {
    "name": "ipython",
    "version": 3
   },
   "file_extension": ".py",
   "mimetype": "text/x-python",
   "name": "python",
   "nbconvert_exporter": "python",
   "pygments_lexer": "ipython3",
   "version": "3.9.18"
  }
 },
 "nbformat": 4,
 "nbformat_minor": 2
}
